{
 "cells": [
  {
   "cell_type": "markdown",
   "metadata": {},
   "source": [
    "![image](https://github.com/ecastillot/SeisMonitor/blob/master/docs/figures/seismonitor.PNG?raw=true)"
   ]
  },
  {
   "cell_type": "markdown",
   "metadata": {},
   "source": [
    "**This code is necessary on colab to install SeisMonitor.** "
   ]
  },
  {
   "cell_type": "code",
   "execution_count": null,
   "metadata": {},
   "outputs": [],
   "source": [
    "import sys\n",
    "if 'google.colab' in sys.modules:\n",
    "    !pip install SeisMonitor\n",
    "    !pip install git+https://github.com/ecastillot/EQTransformer.git@master\n",
    "    !pip install git+https://github.com/wayneweiqiang/GaMMA.git"
   ]
  },
  {
   "cell_type": "markdown",
   "metadata": {},
   "source": [
    "**Please restart the kernel. It's mandatory to get everything up and running.**"
   ]
  },
  {
   "cell_type": "markdown",
   "metadata": {},
   "source": [
    "# Data"
   ]
  },
  {
   "cell_type": "markdown",
   "metadata": {},
   "source": [
    "## Seismic data"
   ]
  },
  {
   "cell_type": "markdown",
   "metadata": {},
   "source": [
    "There are two main requirements:\n",
    "- **Downloads folder**. Your data must have the next format (e.g. /downloads_folder/CA06/GS.CA06.00.HHZ__20190902T000000Z__20190903T000000Z.mseed). If your mseed files have different name format you just need to change their structure.\n",
    "- **Stations folder**. It must be prepared with two files: inv.xml and stations.json. These files contain the metadata. \n",
    "You could have an [Inventory](https://docs.obspy.org/packages/autogen/obspy.core.inventory.inventory.Inventory.html) Obspy object, and feel free to use SeisMonitor.monitor.downloader.utils.get_inv_and_json to obtain inv.xml and stations.json information.\n",
    "\n",
    "Those requirements could be easily obtained following the steps mentioned in *1.downloader*: [![1.downloader](https://colab.research.google.com/assets/colab-badge.svg)](https://colab.research.google.com/github/ecastillot/SeisMonitor/blob/master/examples/1.downloader.ipynb). \n",
    "\n",
    "Keep in mind if you have your data in another format, you could use LocalClient (specified en 1.downloader) to load your client, create a provider, and after to use MseedDownloader.\n"
   ]
  },
  {
   "cell_type": "markdown",
   "metadata": {},
   "source": [
    "To save time, we will download data already prepared for you. "
   ]
  },
  {
   "cell_type": "code",
   "execution_count": null,
   "metadata": {},
   "outputs": [],
   "source": [
    "import os\n",
    "import zipfile\n",
    "from SeisMonitor.utils4examples import clone_seismonitor_data\n",
    "\n",
    "monitor_path = os.path.join(os.path.dirname(os.getcwd()),\"6m\")\n",
    "\n",
    "clone_seismonitor_data(monitor_path ,branch=\"dataset\")\n",
    "with zipfile.ZipFile(os.path.join(monitor_path ,\"downloads.zip\"), 'r') as zip_ref:\n",
    "    zip_ref.extractall(monitor_path )\n",
    "\n",
    "downloads = os.path.join(monitor_path ,\"downloads\")\n",
    "stations = os.path.join(monitor_path ,\"stations\")\n",
    "\n",
    "print(\"Dataset dir: \",monitor_path )\n",
    "print(\"Important folders in your dataset\",[\"downloads\",\"stations\"])\n",
    "print(\"#\"*100)\n",
    "print(\"downloads dir: \",downloads)\n",
    "print(\"\\t\",os.listdir(downloads))\n",
    "print(\"stations dir: \", stations)\n",
    "print(\"\\t\",os.listdir(stations))"
   ]
  },
  {
   "cell_type": "markdown",
   "metadata": {},
   "source": [
    "Feel free to take a look at the example data. Please go to the downloads and stations folder to see what should be the format"
   ]
  },
  {
   "cell_type": "markdown",
   "metadata": {},
   "source": [
    "## Picking Models"
   ]
  },
  {
   "cell_type": "markdown",
   "metadata": {},
   "source": [
    "We will use pre-trained Deep Learning models to pick seismic phases in your data. SeisMonitor provides you two models: \n",
    "- [EQTransformer](https://github.com/smousavi05/EQTransformer/tree/master)\n",
    "- [PhaseNet](https://github.com/AI4EPS/PhaseNet)\n",
    "\n",
    "Cloning picking models"
   ]
  },
  {
   "cell_type": "code",
   "execution_count": null,
   "metadata": {},
   "outputs": [],
   "source": [
    "from SeisMonitor.utils4examples import clone_seismonitor_data\n",
    "models = os.path.join(os.path.dirname(os.getcwd()),\"picking_models\")\n",
    "clone_seismonitor_data(models,branch=\"models\")\n",
    "\n",
    "eqt_model = os.path.join(models,\"EQTransformer_models\",\"EqT_model.h5\")\n",
    "pnet_model = os.path.join(models,\"PhaseNet_models\",\"190703-214543\")\n",
    "\n",
    "print(\"Models dir: \",models)\n",
    "print(\"Important folders in your models\",os.listdir(models))"
   ]
  },
  {
   "cell_type": "markdown",
   "metadata": {},
   "source": [
    "# Picking with EQTransformer"
   ]
  },
  {
   "cell_type": "code",
   "execution_count": null,
   "metadata": {},
   "outputs": [],
   "source": [
    "import os\n",
    "from SeisMonitor.monitor.picker.ai import EQTransformer,EQTransformerObj\n",
    "from SeisMonitor.monitor.picker import utils as piut"
   ]
  },
  {
   "cell_type": "markdown",
   "metadata": {},
   "source": [
    "We create the object: EQTransformerObj, which contains the EQTransformer parameters."
   ]
  },
  {
   "cell_type": "code",
   "execution_count": null,
   "metadata": {},
   "outputs": [],
   "source": [
    "eqtobj = EQTransformerObj(model_path=eqt_model,\n",
    "            n_processor = 6,\n",
    "            overlap = 0.3,\n",
    "            detection_threshold =0.1,\n",
    "            P_threshold = 0.01,\n",
    "            S_threshold = 0.01,\n",
    "            batch_size = 20,\n",
    "            number_of_plots = 0,\n",
    "            plot_mode = 1 ) "
   ]
  },
  {
   "cell_type": "markdown",
   "metadata": {},
   "source": [
    "- EQTransformer is instanced with EQTransformerObj.\n",
    "- We use **pick** method to pick seismic phases. The input parameters are:\n",
    "    - Folder where is downloaded the data,\n",
    "    - Folder where is downloaded the metadata \n",
    "    - Output folder from EQTransformer\n",
    "- We use eqt_picks_2_seismonitor_fmt to export seismic phases in specific format util for the rest of the workflow."
   ]
  },
  {
   "cell_type": "code",
   "execution_count": null,
   "metadata": {},
   "outputs": [],
   "source": [
    "out_dir = os.path.join(monitor_path ,\"picks\",\"eqt\")\n",
    "result = os.path.join(monitor_path ,\"picks\",\"eqt\",\"seismonitor_picks.csv\")\n",
    "\n",
    "eqt = EQTransformer(eqtobj)\n",
    "eqt.pick(downloads,stations,out_dir)\n",
    "piut.eqt_picks_2_seismonitor_fmt(out_dir,downloads,result)"
   ]
  },
  {
   "cell_type": "markdown",
   "metadata": {},
   "source": [
    "# Picking with PhaseNet"
   ]
  },
  {
   "cell_type": "code",
   "execution_count": null,
   "metadata": {},
   "outputs": [],
   "source": [
    "import os\n",
    "from SeisMonitor.monitor.picker.ai import PhaseNet,PhaseNetObj\n",
    "from SeisMonitor.monitor.picker import utils as piut"
   ]
  },
  {
   "cell_type": "markdown",
   "metadata": {},
   "source": [
    "To use PhaseNet, please use the next forked repository: \n",
    "\n",
    "[PhaseNet](https://github.com/ecastillot/PhaseNet.git)"
   ]
  },
  {
   "cell_type": "code",
   "execution_count": null,
   "metadata": {},
   "outputs": [],
   "source": [
    "pnet_path = os.path.join(monitor_path ,\"PhaseNet\")\n",
    "piut.clone_aipicker(\"PhaseNet\",pnet_path)"
   ]
  },
  {
   "cell_type": "markdown",
   "metadata": {},
   "source": [
    "We create the object: PhaseNetObj, which contains the PhaseNet parameters."
   ]
  },
  {
   "cell_type": "code",
   "execution_count": null,
   "metadata": {},
   "outputs": [],
   "source": [
    "pnetobj = PhaseNetObj(pnet_path=pnet_path,\n",
    "            model_path=pnet_model,\n",
    "            P_threshold=0.7, S_threshold=0.6,\n",
    "            batch_size=100\n",
    "            ) "
   ]
  },
  {
   "cell_type": "markdown",
   "metadata": {},
   "source": [
    "- PhaseNet is instanced with PhaseNetObj.\n",
    "- We use **pick** method to pick seismic phases. The input parameters are:\n",
    "    - Folder where is downloaded the data,\n",
    "    - Folder where is downloaded the metadata \n",
    "    - Output folder from PhaseNet"
   ]
  },
  {
   "cell_type": "code",
   "execution_count": null,
   "metadata": {},
   "outputs": [],
   "source": [
    "out_dir = os.path.join(monitor_path,\"picks\",\"pnet\")\n",
    "result = os.path.join(monitor_path,\"picks\",\"pnet\",\"seismonitor_picks.csv\")\n",
    "\n",
    "pnet = PhaseNet(pnetobj)\n",
    "pnet.pick(downloads,stations,out_dir)"
   ]
  }
 ],
 "metadata": {
  "kernelspec": {
   "display_name": "Python 3.10.10 ('test2')",
   "language": "python",
   "name": "python3"
  },
  "language_info": {
   "codemirror_mode": {
    "name": "ipython",
    "version": 3
   },
   "file_extension": ".py",
   "mimetype": "text/x-python",
   "name": "python",
   "nbconvert_exporter": "python",
   "pygments_lexer": "ipython3",
   "version": "3.10.10"
  },
  "orig_nbformat": 4,
  "vscode": {
   "interpreter": {
    "hash": "a74d57761e21e3f420ede7bd75df8cecbe2e27c0773b80e80e5558f682c0ea38"
   }
  }
 },
 "nbformat": 4,
 "nbformat_minor": 2
}
