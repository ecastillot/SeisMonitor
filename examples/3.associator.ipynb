{
 "cells": [
  {
   "cell_type": "markdown",
   "metadata": {},
   "source": [
    "![image](https://github.com/ecastillot/SeisMonitor/blob/master/docs/figures/seismonitor.PNG?raw=true)"
   ]
  },
  {
   "cell_type": "markdown",
   "metadata": {},
   "source": [
    "**This code is necessary on colab to install SeisMonitor.** "
   ]
  },
  {
   "cell_type": "code",
   "execution_count": 1,
   "metadata": {},
   "outputs": [
    {
     "name": "stdout",
     "output_type": "stream",
     "text": [
      "Collecting SeisMonitor\n",
      "  Downloading SeisMonitor-0.0.22-py3-none-any.whl (103 kB)\n",
      "\u001b[2K     \u001b[90m━━━━━━━━━━━━━━━━━━━━━━━━━━━━━━━━━━━━━━━\u001b[0m \u001b[32m103.4/103.4 kB\u001b[0m \u001b[31m2.9 MB/s\u001b[0m eta \u001b[36m0:00:00\u001b[0m\n",
      "\u001b[?25hRequirement already satisfied: tensorflow==2.0.0 in /home/emmanuel/anaconda3/envs/seismonitor/lib/python3.7/site-packages (from SeisMonitor) (2.0.0)\n",
      "Requirement already satisfied: GitPython in /home/emmanuel/anaconda3/envs/seismonitor/lib/python3.7/site-packages (from SeisMonitor) (3.1.30)\n",
      "Requirement already satisfied: protobuf in /home/emmanuel/anaconda3/envs/seismonitor/lib/python3.7/site-packages (from SeisMonitor) (3.20.3)\n",
      "Requirement already satisfied: EQTransformer==0.1.59 in /home/emmanuel/anaconda3/envs/seismonitor/lib/python3.7/site-packages (from SeisMonitor) (0.1.59)\n",
      "Requirement already satisfied: pyproj in /home/emmanuel/anaconda3/envs/seismonitor/lib/python3.7/site-packages (from SeisMonitor) (3.2.1)\n",
      "Requirement already satisfied: keras==2.3.1 in /home/emmanuel/anaconda3/envs/seismonitor/lib/python3.7/site-packages (from SeisMonitor) (2.3.1)\n",
      "Requirement already satisfied: h5py==2.10.0 in /home/emmanuel/anaconda3/envs/seismonitor/lib/python3.7/site-packages (from EQTransformer==0.1.59->SeisMonitor) (2.10.0)\n",
      "Requirement already satisfied: pytest in /home/emmanuel/anaconda3/envs/seismonitor/lib/python3.7/site-packages (from EQTransformer==0.1.59->SeisMonitor) (7.2.1)\n",
      "Requirement already satisfied: keyring>=15.1 in /home/emmanuel/anaconda3/envs/seismonitor/lib/python3.7/site-packages (from EQTransformer==0.1.59->SeisMonitor) (23.13.1)\n",
      "Requirement already satisfied: jupyter in /home/emmanuel/anaconda3/envs/seismonitor/lib/python3.7/site-packages (from EQTransformer==0.1.59->SeisMonitor) (1.0.0)\n",
      "Requirement already satisfied: matplotlib in /home/emmanuel/anaconda3/envs/seismonitor/lib/python3.7/site-packages (from EQTransformer==0.1.59->SeisMonitor) (3.5.3)\n",
      "Requirement already satisfied: pandas in /home/emmanuel/anaconda3/envs/seismonitor/lib/python3.7/site-packages (from EQTransformer==0.1.59->SeisMonitor) (1.3.5)\n",
      "Requirement already satisfied: tqdm==4.48.0 in /home/emmanuel/anaconda3/envs/seismonitor/lib/python3.7/site-packages (from EQTransformer==0.1.59->SeisMonitor) (4.48.0)\n",
      "Requirement already satisfied: scipy==1.4.1 in /home/emmanuel/anaconda3/envs/seismonitor/lib/python3.7/site-packages (from EQTransformer==0.1.59->SeisMonitor) (1.4.1)\n",
      "Requirement already satisfied: pkginfo>=1.4.2 in /home/emmanuel/anaconda3/envs/seismonitor/lib/python3.7/site-packages (from EQTransformer==0.1.59->SeisMonitor) (1.9.6)\n",
      "Requirement already satisfied: obspy in /home/emmanuel/anaconda3/envs/seismonitor/lib/python3.7/site-packages (from EQTransformer==0.1.59->SeisMonitor) (1.3.1)\n",
      "Requirement already satisfied: keras-preprocessing>=1.0.5 in /home/emmanuel/anaconda3/envs/seismonitor/lib/python3.7/site-packages (from keras==2.3.1->SeisMonitor) (1.1.2)\n",
      "Requirement already satisfied: pyyaml in /home/emmanuel/anaconda3/envs/seismonitor/lib/python3.7/site-packages (from keras==2.3.1->SeisMonitor) (6.0)\n",
      "Requirement already satisfied: numpy>=1.9.1 in /home/emmanuel/anaconda3/envs/seismonitor/lib/python3.7/site-packages (from keras==2.3.1->SeisMonitor) (1.21.6)\n",
      "Requirement already satisfied: keras-applications>=1.0.6 in /home/emmanuel/anaconda3/envs/seismonitor/lib/python3.7/site-packages (from keras==2.3.1->SeisMonitor) (1.0.8)\n",
      "Requirement already satisfied: six>=1.9.0 in /home/emmanuel/anaconda3/envs/seismonitor/lib/python3.7/site-packages (from keras==2.3.1->SeisMonitor) (1.16.0)\n",
      "Requirement already satisfied: wheel>=0.26 in /home/emmanuel/anaconda3/envs/seismonitor/lib/python3.7/site-packages (from tensorflow==2.0.0->SeisMonitor) (0.38.4)\n",
      "Requirement already satisfied: grpcio>=1.8.6 in /home/emmanuel/anaconda3/envs/seismonitor/lib/python3.7/site-packages (from tensorflow==2.0.0->SeisMonitor) (1.51.1)\n",
      "Requirement already satisfied: astor>=0.6.0 in /home/emmanuel/anaconda3/envs/seismonitor/lib/python3.7/site-packages (from tensorflow==2.0.0->SeisMonitor) (0.8.1)\n",
      "Requirement already satisfied: google-pasta>=0.1.6 in /home/emmanuel/anaconda3/envs/seismonitor/lib/python3.7/site-packages (from tensorflow==2.0.0->SeisMonitor) (0.2.0)\n",
      "Requirement already satisfied: gast==0.2.2 in /home/emmanuel/anaconda3/envs/seismonitor/lib/python3.7/site-packages (from tensorflow==2.0.0->SeisMonitor) (0.2.2)\n",
      "Requirement already satisfied: tensorflow-estimator<2.1.0,>=2.0.0 in /home/emmanuel/anaconda3/envs/seismonitor/lib/python3.7/site-packages (from tensorflow==2.0.0->SeisMonitor) (2.0.1)\n",
      "Requirement already satisfied: tensorboard<2.1.0,>=2.0.0 in /home/emmanuel/anaconda3/envs/seismonitor/lib/python3.7/site-packages (from tensorflow==2.0.0->SeisMonitor) (2.0.2)\n",
      "Requirement already satisfied: termcolor>=1.1.0 in /home/emmanuel/anaconda3/envs/seismonitor/lib/python3.7/site-packages (from tensorflow==2.0.0->SeisMonitor) (2.2.0)\n",
      "Requirement already satisfied: wrapt>=1.11.1 in /home/emmanuel/anaconda3/envs/seismonitor/lib/python3.7/site-packages (from tensorflow==2.0.0->SeisMonitor) (1.14.1)\n",
      "Requirement already satisfied: absl-py>=0.7.0 in /home/emmanuel/anaconda3/envs/seismonitor/lib/python3.7/site-packages (from tensorflow==2.0.0->SeisMonitor) (1.4.0)\n",
      "Requirement already satisfied: opt-einsum>=2.3.2 in /home/emmanuel/anaconda3/envs/seismonitor/lib/python3.7/site-packages (from tensorflow==2.0.0->SeisMonitor) (3.3.0)\n",
      "Requirement already satisfied: gitdb<5,>=4.0.1 in /home/emmanuel/anaconda3/envs/seismonitor/lib/python3.7/site-packages (from GitPython->SeisMonitor) (4.0.10)\n",
      "Requirement already satisfied: typing-extensions>=3.7.4.3 in /home/emmanuel/anaconda3/envs/seismonitor/lib/python3.7/site-packages (from GitPython->SeisMonitor) (4.4.0)\n",
      "Requirement already satisfied: certifi in /home/emmanuel/anaconda3/envs/seismonitor/lib/python3.7/site-packages (from pyproj->SeisMonitor) (2022.12.7)\n",
      "Requirement already satisfied: smmap<6,>=3.0.1 in /home/emmanuel/anaconda3/envs/seismonitor/lib/python3.7/site-packages (from gitdb<5,>=4.0.1->GitPython->SeisMonitor) (5.0.0)\n",
      "Requirement already satisfied: SecretStorage>=3.2 in /home/emmanuel/anaconda3/envs/seismonitor/lib/python3.7/site-packages (from keyring>=15.1->EQTransformer==0.1.59->SeisMonitor) (3.3.3)\n",
      "Requirement already satisfied: importlib-metadata>=4.11.4 in /home/emmanuel/anaconda3/envs/seismonitor/lib/python3.7/site-packages (from keyring>=15.1->EQTransformer==0.1.59->SeisMonitor) (6.0.0)\n",
      "Requirement already satisfied: jaraco.classes in /home/emmanuel/anaconda3/envs/seismonitor/lib/python3.7/site-packages (from keyring>=15.1->EQTransformer==0.1.59->SeisMonitor) (3.2.3)\n",
      "Requirement already satisfied: jeepney>=0.4.2 in /home/emmanuel/anaconda3/envs/seismonitor/lib/python3.7/site-packages (from keyring>=15.1->EQTransformer==0.1.59->SeisMonitor) (0.8.0)\n",
      "Requirement already satisfied: importlib-resources in /home/emmanuel/anaconda3/envs/seismonitor/lib/python3.7/site-packages (from keyring>=15.1->EQTransformer==0.1.59->SeisMonitor) (5.10.2)\n",
      "Requirement already satisfied: google-auth<2,>=1.6.3 in /home/emmanuel/anaconda3/envs/seismonitor/lib/python3.7/site-packages (from tensorboard<2.1.0,>=2.0.0->tensorflow==2.0.0->SeisMonitor) (1.35.0)\n",
      "Requirement already satisfied: werkzeug>=0.11.15 in /home/emmanuel/anaconda3/envs/seismonitor/lib/python3.7/site-packages (from tensorboard<2.1.0,>=2.0.0->tensorflow==2.0.0->SeisMonitor) (2.2.2)\n",
      "Requirement already satisfied: requests<3,>=2.21.0 in /home/emmanuel/anaconda3/envs/seismonitor/lib/python3.7/site-packages (from tensorboard<2.1.0,>=2.0.0->tensorflow==2.0.0->SeisMonitor) (2.28.2)\n",
      "Requirement already satisfied: setuptools>=41.0.0 in /home/emmanuel/anaconda3/envs/seismonitor/lib/python3.7/site-packages (from tensorboard<2.1.0,>=2.0.0->tensorflow==2.0.0->SeisMonitor) (66.0.0)\n",
      "Requirement already satisfied: markdown>=2.6.8 in /home/emmanuel/anaconda3/envs/seismonitor/lib/python3.7/site-packages (from tensorboard<2.1.0,>=2.0.0->tensorflow==2.0.0->SeisMonitor) (3.4.1)\n",
      "Requirement already satisfied: google-auth-oauthlib<0.5,>=0.4.1 in /home/emmanuel/anaconda3/envs/seismonitor/lib/python3.7/site-packages (from tensorboard<2.1.0,>=2.0.0->tensorflow==2.0.0->SeisMonitor) (0.4.6)\n",
      "Requirement already satisfied: ipywidgets in /home/emmanuel/anaconda3/envs/seismonitor/lib/python3.7/site-packages (from jupyter->EQTransformer==0.1.59->SeisMonitor) (8.0.4)\n",
      "Requirement already satisfied: nbconvert in /home/emmanuel/anaconda3/envs/seismonitor/lib/python3.7/site-packages (from jupyter->EQTransformer==0.1.59->SeisMonitor) (7.2.8)\n",
      "Requirement already satisfied: ipykernel in /home/emmanuel/anaconda3/envs/seismonitor/lib/python3.7/site-packages (from jupyter->EQTransformer==0.1.59->SeisMonitor) (6.16.2)\n",
      "Requirement already satisfied: notebook in /home/emmanuel/anaconda3/envs/seismonitor/lib/python3.7/site-packages (from jupyter->EQTransformer==0.1.59->SeisMonitor) (6.5.2)\n",
      "Requirement already satisfied: jupyter-console in /home/emmanuel/anaconda3/envs/seismonitor/lib/python3.7/site-packages (from jupyter->EQTransformer==0.1.59->SeisMonitor) (6.4.4)\n",
      "Requirement already satisfied: qtconsole in /home/emmanuel/anaconda3/envs/seismonitor/lib/python3.7/site-packages (from jupyter->EQTransformer==0.1.59->SeisMonitor) (5.4.0)\n",
      "Requirement already satisfied: fonttools>=4.22.0 in /home/emmanuel/anaconda3/envs/seismonitor/lib/python3.7/site-packages (from matplotlib->EQTransformer==0.1.59->SeisMonitor) (4.38.0)\n",
      "Requirement already satisfied: cycler>=0.10 in /home/emmanuel/anaconda3/envs/seismonitor/lib/python3.7/site-packages (from matplotlib->EQTransformer==0.1.59->SeisMonitor) (0.11.0)\n",
      "Requirement already satisfied: pyparsing>=2.2.1 in /home/emmanuel/anaconda3/envs/seismonitor/lib/python3.7/site-packages (from matplotlib->EQTransformer==0.1.59->SeisMonitor) (3.0.9)\n",
      "Requirement already satisfied: packaging>=20.0 in /home/emmanuel/anaconda3/envs/seismonitor/lib/python3.7/site-packages (from matplotlib->EQTransformer==0.1.59->SeisMonitor) (23.0)\n",
      "Requirement already satisfied: python-dateutil>=2.7 in /home/emmanuel/anaconda3/envs/seismonitor/lib/python3.7/site-packages (from matplotlib->EQTransformer==0.1.59->SeisMonitor) (2.8.2)\n",
      "Requirement already satisfied: kiwisolver>=1.0.1 in /home/emmanuel/anaconda3/envs/seismonitor/lib/python3.7/site-packages (from matplotlib->EQTransformer==0.1.59->SeisMonitor) (1.4.4)\n",
      "Requirement already satisfied: pillow>=6.2.0 in /home/emmanuel/anaconda3/envs/seismonitor/lib/python3.7/site-packages (from matplotlib->EQTransformer==0.1.59->SeisMonitor) (9.4.0)\n",
      "Requirement already satisfied: lxml in /home/emmanuel/anaconda3/envs/seismonitor/lib/python3.7/site-packages (from obspy->EQTransformer==0.1.59->SeisMonitor) (4.9.2)\n",
      "Requirement already satisfied: decorator in /home/emmanuel/anaconda3/envs/seismonitor/lib/python3.7/site-packages (from obspy->EQTransformer==0.1.59->SeisMonitor) (5.1.1)\n",
      "Requirement already satisfied: sqlalchemy in /home/emmanuel/anaconda3/envs/seismonitor/lib/python3.7/site-packages (from obspy->EQTransformer==0.1.59->SeisMonitor) (1.4.46)\n",
      "Requirement already satisfied: pytz>=2017.3 in /home/emmanuel/anaconda3/envs/seismonitor/lib/python3.7/site-packages (from pandas->EQTransformer==0.1.59->SeisMonitor) (2022.7.1)\n",
      "Requirement already satisfied: iniconfig in /home/emmanuel/anaconda3/envs/seismonitor/lib/python3.7/site-packages (from pytest->EQTransformer==0.1.59->SeisMonitor) (2.0.0)\n",
      "Requirement already satisfied: pluggy<2.0,>=0.12 in /home/emmanuel/anaconda3/envs/seismonitor/lib/python3.7/site-packages (from pytest->EQTransformer==0.1.59->SeisMonitor) (1.0.0)\n",
      "Requirement already satisfied: exceptiongroup>=1.0.0rc8 in /home/emmanuel/anaconda3/envs/seismonitor/lib/python3.7/site-packages (from pytest->EQTransformer==0.1.59->SeisMonitor) (1.1.0)\n",
      "Requirement already satisfied: tomli>=1.0.0 in /home/emmanuel/anaconda3/envs/seismonitor/lib/python3.7/site-packages (from pytest->EQTransformer==0.1.59->SeisMonitor) (2.0.1)\n",
      "Requirement already satisfied: attrs>=19.2.0 in /home/emmanuel/anaconda3/envs/seismonitor/lib/python3.7/site-packages (from pytest->EQTransformer==0.1.59->SeisMonitor) (22.2.0)\n",
      "Requirement already satisfied: pyasn1-modules>=0.2.1 in /home/emmanuel/anaconda3/envs/seismonitor/lib/python3.7/site-packages (from google-auth<2,>=1.6.3->tensorboard<2.1.0,>=2.0.0->tensorflow==2.0.0->SeisMonitor) (0.2.8)\n",
      "Requirement already satisfied: cachetools<5.0,>=2.0.0 in /home/emmanuel/anaconda3/envs/seismonitor/lib/python3.7/site-packages (from google-auth<2,>=1.6.3->tensorboard<2.1.0,>=2.0.0->tensorflow==2.0.0->SeisMonitor) (4.2.4)\n",
      "Requirement already satisfied: rsa<5,>=3.1.4 in /home/emmanuel/anaconda3/envs/seismonitor/lib/python3.7/site-packages (from google-auth<2,>=1.6.3->tensorboard<2.1.0,>=2.0.0->tensorflow==2.0.0->SeisMonitor) (4.9)\n",
      "Requirement already satisfied: requests-oauthlib>=0.7.0 in /home/emmanuel/anaconda3/envs/seismonitor/lib/python3.7/site-packages (from google-auth-oauthlib<0.5,>=0.4.1->tensorboard<2.1.0,>=2.0.0->tensorflow==2.0.0->SeisMonitor) (1.3.1)\n",
      "Requirement already satisfied: zipp>=0.5 in /home/emmanuel/anaconda3/envs/seismonitor/lib/python3.7/site-packages (from importlib-metadata>=4.11.4->keyring>=15.1->EQTransformer==0.1.59->SeisMonitor) (3.11.0)\n",
      "Requirement already satisfied: idna<4,>=2.5 in /home/emmanuel/anaconda3/envs/seismonitor/lib/python3.7/site-packages (from requests<3,>=2.21.0->tensorboard<2.1.0,>=2.0.0->tensorflow==2.0.0->SeisMonitor) (3.4)\n",
      "Requirement already satisfied: urllib3<1.27,>=1.21.1 in /home/emmanuel/anaconda3/envs/seismonitor/lib/python3.7/site-packages (from requests<3,>=2.21.0->tensorboard<2.1.0,>=2.0.0->tensorflow==2.0.0->SeisMonitor) (1.26.14)\n",
      "Requirement already satisfied: charset-normalizer<4,>=2 in /home/emmanuel/anaconda3/envs/seismonitor/lib/python3.7/site-packages (from requests<3,>=2.21.0->tensorboard<2.1.0,>=2.0.0->tensorflow==2.0.0->SeisMonitor) (3.0.1)\n",
      "Requirement already satisfied: cryptography>=2.0 in /home/emmanuel/anaconda3/envs/seismonitor/lib/python3.7/site-packages (from SecretStorage>=3.2->keyring>=15.1->EQTransformer==0.1.59->SeisMonitor) (39.0.0)\n",
      "Requirement already satisfied: MarkupSafe>=2.1.1 in /home/emmanuel/anaconda3/envs/seismonitor/lib/python3.7/site-packages (from werkzeug>=0.11.15->tensorboard<2.1.0,>=2.0.0->tensorflow==2.0.0->SeisMonitor) (2.1.2)\n",
      "Requirement already satisfied: nest-asyncio in /home/emmanuel/anaconda3/envs/seismonitor/lib/python3.7/site-packages (from ipykernel->jupyter->EQTransformer==0.1.59->SeisMonitor) (1.5.6)\n",
      "Requirement already satisfied: ipython>=7.23.1 in /home/emmanuel/anaconda3/envs/seismonitor/lib/python3.7/site-packages (from ipykernel->jupyter->EQTransformer==0.1.59->SeisMonitor) (7.34.0)\n",
      "Requirement already satisfied: traitlets>=5.1.0 in /home/emmanuel/anaconda3/envs/seismonitor/lib/python3.7/site-packages (from ipykernel->jupyter->EQTransformer==0.1.59->SeisMonitor) (5.8.1)\n",
      "Requirement already satisfied: jupyter-client>=6.1.12 in /home/emmanuel/anaconda3/envs/seismonitor/lib/python3.7/site-packages (from ipykernel->jupyter->EQTransformer==0.1.59->SeisMonitor) (7.4.9)\n",
      "Requirement already satisfied: tornado>=6.1 in /home/emmanuel/anaconda3/envs/seismonitor/lib/python3.7/site-packages (from ipykernel->jupyter->EQTransformer==0.1.59->SeisMonitor) (6.2)\n",
      "Requirement already satisfied: psutil in /home/emmanuel/anaconda3/envs/seismonitor/lib/python3.7/site-packages (from ipykernel->jupyter->EQTransformer==0.1.59->SeisMonitor) (5.9.4)\n",
      "Requirement already satisfied: pyzmq>=17 in /home/emmanuel/anaconda3/envs/seismonitor/lib/python3.7/site-packages (from ipykernel->jupyter->EQTransformer==0.1.59->SeisMonitor) (25.0.0)\n",
      "Requirement already satisfied: debugpy>=1.0 in /home/emmanuel/anaconda3/envs/seismonitor/lib/python3.7/site-packages (from ipykernel->jupyter->EQTransformer==0.1.59->SeisMonitor) (1.6.5)\n",
      "Requirement already satisfied: matplotlib-inline>=0.1 in /home/emmanuel/anaconda3/envs/seismonitor/lib/python3.7/site-packages (from ipykernel->jupyter->EQTransformer==0.1.59->SeisMonitor) (0.1.6)\n",
      "Requirement already satisfied: jupyterlab-widgets~=3.0 in /home/emmanuel/anaconda3/envs/seismonitor/lib/python3.7/site-packages (from ipywidgets->jupyter->EQTransformer==0.1.59->SeisMonitor) (3.0.5)\n",
      "Requirement already satisfied: widgetsnbextension~=4.0 in /home/emmanuel/anaconda3/envs/seismonitor/lib/python3.7/site-packages (from ipywidgets->jupyter->EQTransformer==0.1.59->SeisMonitor) (4.0.5)\n",
      "Requirement already satisfied: more-itertools in /home/emmanuel/anaconda3/envs/seismonitor/lib/python3.7/site-packages (from jaraco.classes->keyring>=15.1->EQTransformer==0.1.59->SeisMonitor) (9.0.0)\n",
      "Requirement already satisfied: pygments in /home/emmanuel/anaconda3/envs/seismonitor/lib/python3.7/site-packages (from jupyter-console->jupyter->EQTransformer==0.1.59->SeisMonitor) (2.14.0)\n",
      "Requirement already satisfied: prompt-toolkit!=3.0.0,!=3.0.1,<3.1.0,>=2.0.0 in /home/emmanuel/anaconda3/envs/seismonitor/lib/python3.7/site-packages (from jupyter-console->jupyter->EQTransformer==0.1.59->SeisMonitor) (3.0.36)\n",
      "Requirement already satisfied: bleach in /home/emmanuel/anaconda3/envs/seismonitor/lib/python3.7/site-packages (from nbconvert->jupyter->EQTransformer==0.1.59->SeisMonitor) (5.0.1)\n",
      "Requirement already satisfied: beautifulsoup4 in /home/emmanuel/anaconda3/envs/seismonitor/lib/python3.7/site-packages (from nbconvert->jupyter->EQTransformer==0.1.59->SeisMonitor) (4.11.1)\n",
      "Requirement already satisfied: defusedxml in /home/emmanuel/anaconda3/envs/seismonitor/lib/python3.7/site-packages (from nbconvert->jupyter->EQTransformer==0.1.59->SeisMonitor) (0.7.1)\n",
      "Requirement already satisfied: pandocfilters>=1.4.1 in /home/emmanuel/anaconda3/envs/seismonitor/lib/python3.7/site-packages (from nbconvert->jupyter->EQTransformer==0.1.59->SeisMonitor) (1.5.0)\n",
      "Requirement already satisfied: nbformat>=5.1 in /home/emmanuel/anaconda3/envs/seismonitor/lib/python3.7/site-packages (from nbconvert->jupyter->EQTransformer==0.1.59->SeisMonitor) (5.7.3)\n",
      "Requirement already satisfied: tinycss2 in /home/emmanuel/anaconda3/envs/seismonitor/lib/python3.7/site-packages (from nbconvert->jupyter->EQTransformer==0.1.59->SeisMonitor) (1.2.1)\n",
      "Requirement already satisfied: nbclient>=0.5.0 in /home/emmanuel/anaconda3/envs/seismonitor/lib/python3.7/site-packages (from nbconvert->jupyter->EQTransformer==0.1.59->SeisMonitor) (0.7.2)\n",
      "Requirement already satisfied: jupyter-core>=4.7 in /home/emmanuel/anaconda3/envs/seismonitor/lib/python3.7/site-packages (from nbconvert->jupyter->EQTransformer==0.1.59->SeisMonitor) (4.12.0)\n",
      "Requirement already satisfied: mistune<3,>=2.0.3 in /home/emmanuel/anaconda3/envs/seismonitor/lib/python3.7/site-packages (from nbconvert->jupyter->EQTransformer==0.1.59->SeisMonitor) (2.0.4)\n",
      "Requirement already satisfied: jupyterlab-pygments in /home/emmanuel/anaconda3/envs/seismonitor/lib/python3.7/site-packages (from nbconvert->jupyter->EQTransformer==0.1.59->SeisMonitor) (0.2.2)\n",
      "Requirement already satisfied: jinja2>=3.0 in /home/emmanuel/anaconda3/envs/seismonitor/lib/python3.7/site-packages (from nbconvert->jupyter->EQTransformer==0.1.59->SeisMonitor) (3.1.2)\n",
      "Requirement already satisfied: ipython-genutils in /home/emmanuel/anaconda3/envs/seismonitor/lib/python3.7/site-packages (from notebook->jupyter->EQTransformer==0.1.59->SeisMonitor) (0.2.0)\n",
      "Requirement already satisfied: Send2Trash>=1.8.0 in /home/emmanuel/anaconda3/envs/seismonitor/lib/python3.7/site-packages (from notebook->jupyter->EQTransformer==0.1.59->SeisMonitor) (1.8.0)\n",
      "Requirement already satisfied: prometheus-client in /home/emmanuel/anaconda3/envs/seismonitor/lib/python3.7/site-packages (from notebook->jupyter->EQTransformer==0.1.59->SeisMonitor) (0.15.0)\n",
      "Requirement already satisfied: argon2-cffi in /home/emmanuel/anaconda3/envs/seismonitor/lib/python3.7/site-packages (from notebook->jupyter->EQTransformer==0.1.59->SeisMonitor) (21.3.0)\n",
      "Requirement already satisfied: nbclassic>=0.4.7 in /home/emmanuel/anaconda3/envs/seismonitor/lib/python3.7/site-packages (from notebook->jupyter->EQTransformer==0.1.59->SeisMonitor) (0.4.8)\n",
      "Requirement already satisfied: terminado>=0.8.3 in /home/emmanuel/anaconda3/envs/seismonitor/lib/python3.7/site-packages (from notebook->jupyter->EQTransformer==0.1.59->SeisMonitor) (0.17.1)\n",
      "Requirement already satisfied: qtpy>=2.0.1 in /home/emmanuel/anaconda3/envs/seismonitor/lib/python3.7/site-packages (from qtconsole->jupyter->EQTransformer==0.1.59->SeisMonitor) (2.3.0)\n",
      "Requirement already satisfied: greenlet!=0.4.17 in /home/emmanuel/anaconda3/envs/seismonitor/lib/python3.7/site-packages (from sqlalchemy->obspy->EQTransformer==0.1.59->SeisMonitor) (2.0.1)\n",
      "Requirement already satisfied: cffi>=1.12 in /home/emmanuel/anaconda3/envs/seismonitor/lib/python3.7/site-packages (from cryptography>=2.0->SecretStorage>=3.2->keyring>=15.1->EQTransformer==0.1.59->SeisMonitor) (1.15.1)\n",
      "Requirement already satisfied: backcall in /home/emmanuel/anaconda3/envs/seismonitor/lib/python3.7/site-packages (from ipython>=7.23.1->ipykernel->jupyter->EQTransformer==0.1.59->SeisMonitor) (0.2.0)\n",
      "Requirement already satisfied: jedi>=0.16 in /home/emmanuel/anaconda3/envs/seismonitor/lib/python3.7/site-packages (from ipython>=7.23.1->ipykernel->jupyter->EQTransformer==0.1.59->SeisMonitor) (0.18.2)\n",
      "Requirement already satisfied: pexpect>4.3 in /home/emmanuel/anaconda3/envs/seismonitor/lib/python3.7/site-packages (from ipython>=7.23.1->ipykernel->jupyter->EQTransformer==0.1.59->SeisMonitor) (4.8.0)\n",
      "Requirement already satisfied: pickleshare in /home/emmanuel/anaconda3/envs/seismonitor/lib/python3.7/site-packages (from ipython>=7.23.1->ipykernel->jupyter->EQTransformer==0.1.59->SeisMonitor) (0.7.5)\n",
      "Requirement already satisfied: entrypoints in /home/emmanuel/anaconda3/envs/seismonitor/lib/python3.7/site-packages (from jupyter-client>=6.1.12->ipykernel->jupyter->EQTransformer==0.1.59->SeisMonitor) (0.4)\n",
      "Requirement already satisfied: jupyter-server>=1.8 in /home/emmanuel/anaconda3/envs/seismonitor/lib/python3.7/site-packages (from nbclassic>=0.4.7->notebook->jupyter->EQTransformer==0.1.59->SeisMonitor) (1.23.5)\n",
      "Requirement already satisfied: notebook-shim>=0.1.0 in /home/emmanuel/anaconda3/envs/seismonitor/lib/python3.7/site-packages (from nbclassic>=0.4.7->notebook->jupyter->EQTransformer==0.1.59->SeisMonitor) (0.2.2)\n",
      "Requirement already satisfied: jsonschema>=2.6 in /home/emmanuel/anaconda3/envs/seismonitor/lib/python3.7/site-packages (from nbformat>=5.1->nbconvert->jupyter->EQTransformer==0.1.59->SeisMonitor) (4.17.3)\n",
      "Requirement already satisfied: fastjsonschema in /home/emmanuel/anaconda3/envs/seismonitor/lib/python3.7/site-packages (from nbformat>=5.1->nbconvert->jupyter->EQTransformer==0.1.59->SeisMonitor) (2.16.2)\n",
      "Requirement already satisfied: wcwidth in /home/emmanuel/anaconda3/envs/seismonitor/lib/python3.7/site-packages (from prompt-toolkit!=3.0.0,!=3.0.1,<3.1.0,>=2.0.0->jupyter-console->jupyter->EQTransformer==0.1.59->SeisMonitor) (0.2.6)\n",
      "Requirement already satisfied: pyasn1<0.5.0,>=0.4.6 in /home/emmanuel/anaconda3/envs/seismonitor/lib/python3.7/site-packages (from pyasn1-modules>=0.2.1->google-auth<2,>=1.6.3->tensorboard<2.1.0,>=2.0.0->tensorflow==2.0.0->SeisMonitor) (0.4.8)\n",
      "Requirement already satisfied: oauthlib>=3.0.0 in /home/emmanuel/anaconda3/envs/seismonitor/lib/python3.7/site-packages (from requests-oauthlib>=0.7.0->google-auth-oauthlib<0.5,>=0.4.1->tensorboard<2.1.0,>=2.0.0->tensorflow==2.0.0->SeisMonitor) (3.2.2)\n",
      "Requirement already satisfied: ptyprocess in /home/emmanuel/anaconda3/envs/seismonitor/lib/python3.7/site-packages (from terminado>=0.8.3->notebook->jupyter->EQTransformer==0.1.59->SeisMonitor) (0.7.0)\n",
      "Requirement already satisfied: argon2-cffi-bindings in /home/emmanuel/anaconda3/envs/seismonitor/lib/python3.7/site-packages (from argon2-cffi->notebook->jupyter->EQTransformer==0.1.59->SeisMonitor) (21.2.0)\n",
      "Requirement already satisfied: soupsieve>1.2 in /home/emmanuel/anaconda3/envs/seismonitor/lib/python3.7/site-packages (from beautifulsoup4->nbconvert->jupyter->EQTransformer==0.1.59->SeisMonitor) (2.3.2.post1)\n",
      "Requirement already satisfied: webencodings in /home/emmanuel/anaconda3/envs/seismonitor/lib/python3.7/site-packages (from bleach->nbconvert->jupyter->EQTransformer==0.1.59->SeisMonitor) (0.5.1)\n",
      "Requirement already satisfied: pycparser in /home/emmanuel/anaconda3/envs/seismonitor/lib/python3.7/site-packages (from cffi>=1.12->cryptography>=2.0->SecretStorage>=3.2->keyring>=15.1->EQTransformer==0.1.59->SeisMonitor) (2.21)\n",
      "Requirement already satisfied: parso<0.9.0,>=0.8.0 in /home/emmanuel/anaconda3/envs/seismonitor/lib/python3.7/site-packages (from jedi>=0.16->ipython>=7.23.1->ipykernel->jupyter->EQTransformer==0.1.59->SeisMonitor) (0.8.3)\n",
      "Requirement already satisfied: pyrsistent!=0.17.0,!=0.17.1,!=0.17.2,>=0.14.0 in /home/emmanuel/anaconda3/envs/seismonitor/lib/python3.7/site-packages (from jsonschema>=2.6->nbformat>=5.1->nbconvert->jupyter->EQTransformer==0.1.59->SeisMonitor) (0.19.3)\n",
      "Requirement already satisfied: pkgutil-resolve-name>=1.3.10 in /home/emmanuel/anaconda3/envs/seismonitor/lib/python3.7/site-packages (from jsonschema>=2.6->nbformat>=5.1->nbconvert->jupyter->EQTransformer==0.1.59->SeisMonitor) (1.3.10)\n",
      "Requirement already satisfied: anyio<4,>=3.1.0 in /home/emmanuel/anaconda3/envs/seismonitor/lib/python3.7/site-packages (from jupyter-server>=1.8->nbclassic>=0.4.7->notebook->jupyter->EQTransformer==0.1.59->SeisMonitor) (3.6.2)\n",
      "Requirement already satisfied: websocket-client in /home/emmanuel/anaconda3/envs/seismonitor/lib/python3.7/site-packages (from jupyter-server>=1.8->nbclassic>=0.4.7->notebook->jupyter->EQTransformer==0.1.59->SeisMonitor) (1.4.2)\n",
      "Requirement already satisfied: sniffio>=1.1 in /home/emmanuel/anaconda3/envs/seismonitor/lib/python3.7/site-packages (from anyio<4,>=3.1.0->jupyter-server>=1.8->nbclassic>=0.4.7->notebook->jupyter->EQTransformer==0.1.59->SeisMonitor) (1.3.0)\n",
      "Installing collected packages: SeisMonitor\n",
      "Successfully installed SeisMonitor-0.0.22\n",
      "Collecting git+https://github.com/wayneweiqiang/GaMMA.git\n",
      "  Cloning https://github.com/wayneweiqiang/GaMMA.git to /tmp/pip-req-build-01ofoygs\n",
      "  Running command git clone --filter=blob:none --quiet https://github.com/wayneweiqiang/GaMMA.git /tmp/pip-req-build-01ofoygs\n",
      "  Resolved https://github.com/wayneweiqiang/GaMMA.git to commit 831eb619b4f15a66744a1cf6024c4076130749e5\n",
      "  Preparing metadata (setup.py) ... \u001b[?25ldone\n",
      "\u001b[?25hRequirement already satisfied: scikit-learn in /home/emmanuel/anaconda3/envs/seismonitor/lib/python3.7/site-packages (from GMMA==1.0.11) (1.0.2)\n",
      "Requirement already satisfied: scipy>=1.1.0 in /home/emmanuel/anaconda3/envs/seismonitor/lib/python3.7/site-packages (from scikit-learn->GMMA==1.0.11) (1.4.1)\n",
      "Requirement already satisfied: joblib>=0.11 in /home/emmanuel/anaconda3/envs/seismonitor/lib/python3.7/site-packages (from scikit-learn->GMMA==1.0.11) (1.2.0)\n",
      "Requirement already satisfied: threadpoolctl>=2.0.0 in /home/emmanuel/anaconda3/envs/seismonitor/lib/python3.7/site-packages (from scikit-learn->GMMA==1.0.11) (3.1.0)\n",
      "Requirement already satisfied: numpy>=1.14.6 in /home/emmanuel/anaconda3/envs/seismonitor/lib/python3.7/site-packages (from scikit-learn->GMMA==1.0.11) (1.21.6)\n"
     ]
    }
   ],
   "source": [
    "import sys\n",
    "if 'google.colab' in sys.modules:\n",
    "    !pip install SeisMonitor\n",
    "    !pip install git+https://github.com/ecastillot/EQTransformer.git@master\n",
    "    !pip install git+https://github.com/wayneweiqiang/GaMMA.git"
   ]
  },
  {
   "cell_type": "markdown",
   "metadata": {},
   "source": [
    "**Please restart the kernel. It's mandatory to get everything up and running.**"
   ]
  },
  {
   "cell_type": "markdown",
   "metadata": {},
   "source": [
    "Firstable, as we are using colab, we have to download the picks data for this example."
   ]
  },
  {
   "cell_type": "code",
   "execution_count": 1,
   "metadata": {},
   "outputs": [],
   "source": [
    "import os\n",
    "from SeisMonitor.utils4examples import clone_seismonitor_data\n",
    "\n",
    "others = \"../others\"\n",
    "clone_seismonitor_data(others,branch=\"others\")\n",
    "picks = os.path.join(others,\"picks\")\n",
    "stations = os.path.join(others,\"stations\")\n",
    "\n",
    "\n",
    "print(\"others dir: \",others)\n",
    "print(\"Important folders in others directory\",os.listdir(others))"
   ]
  },
  {
   "cell_type": "markdown",
   "metadata": {},
   "source": [
    "We will use seismic phases picked by PhaseNet and EQTransformer using the SeisMonitor format. Take a look in [2.picker.ipynb](https://colab.research.google.com/github/ecastillot/SeisMonitor/blob/master/examples/2.picker.ipynb). \n",
    "\n",
    "We will associate those seismic phases using GaMMA."
   ]
  },
  {
   "cell_type": "markdown",
   "metadata": {},
   "source": [
    "# Association with GaMMA"
   ]
  },
  {
   "cell_type": "code",
   "execution_count": null,
   "metadata": {},
   "outputs": [],
   "source": [
    "import os\n",
    "from SeisMonitor.monitor.associator.ai import GaMMA,GaMMAObj\n",
    "from SeisMonitor.monitor.associator import utils as asut"
   ]
  },
  {
   "cell_type": "markdown",
   "metadata": {},
   "source": [
    "We create the object: GaMMAObj, which contains the GaMMA parameters."
   ]
  },
  {
   "cell_type": "code",
   "execution_count": null,
   "metadata": {},
   "outputs": [],
   "source": [
    "region = [-76.729, -72.315,1.55, 5.314,0, 150]\n",
    "gc = GaMMAObj(region,\"EPSG:3116\",\n",
    "                use_amplitude = False,\n",
    "                use_dbscan=False,\n",
    "                calculate_amp=False)"
   ]
  },
  {
   "cell_type": "markdown",
   "metadata": {},
   "source": [
    "- GaMMA is instanced with GaMMAObj.\n",
    "- We use **asociate** method to asociate seismic phases. The input parameters are:\n",
    "    - Picks filepath using seismonitor format.\n",
    "    - Inventory filepath of the seismic network.\n",
    "    - Output folder for GaMMA"
   ]
  },
  {
   "cell_type": "markdown",
   "metadata": {},
   "source": [
    "## Associations for EQTransformer picks"
   ]
  },
  {
   "cell_type": "code",
   "execution_count": 6,
   "metadata": {},
   "outputs": [
    {
     "name": "stderr",
     "output_type": "stream",
     "text": [
      "0it [00:00, ?it/s]"
     ]
    },
    {
     "name": "stdout",
     "output_type": "stream",
     "text": [
      "28 Event(s) in Catalog:\n",
      "2019-12-24T19:56:35.090000Z |  +3.323,  -74.031 | automatic\n",
      "2019-12-24T19:10:10.891000Z |  +5.065,  -74.872 | automatic\n",
      "...\n",
      "2019-12-24T22:46:28.965000Z |  +3.235,  -74.183 | automatic\n",
      "2019-12-24T22:47:36.422000Z |  +3.065,  -73.997 | automatic\n",
      "To see all events call 'print(CatalogObject.__str__(print_all=True))'\n"
     ]
    }
   ],
   "source": [
    "inv = os.path.join(stations,\"inv.xml\")\n",
    "picks = os.path.join(picks,\"eqt_seismonitor_picks.csv\")\n",
    "out_dir = os.path.join(\"gamma_asso\")\n",
    "\n",
    "g = GaMMA(gc)\n",
    "obspy_catalog, df_catalog,df_picks = g.associate(picks,inv,out_dir)\n",
    "print(obspy_catalog)"
   ]
  },
  {
   "cell_type": "code",
   "execution_count": 7,
   "metadata": {},
   "outputs": [
    {
     "data": {
      "image/png": "[encoded data removed]",
      "text/plain": [
       "<Figure size 1000x1000 with 1 Axes>"
      ]
     },
     "metadata": {},
     "output_type": "display_data"
    }
   ],
   "source": [
    "import matplotlib.pyplot as plt\n",
    "fig = plt.figure(figsize=(10, 10))\n",
    "ax = fig.add_subplot(111)\n",
    "ax.set_aspect(\"equal\")\n",
    "ax.scatter(df_catalog[\"x(km)\"], df_catalog[\"y(km)\"])\n",
    "ax.set_xlabel(\"x(km)\")\n",
    "ax.set_ylabel(\"y(km)\")\n",
    "ax.set_xlim(950,1050)\n",
    "ax.set_ylim(780,880)\n",
    "plt.show()"
   ]
  },
  {
   "cell_type": "markdown",
   "metadata": {},
   "source": [
    "## Associations with PhaseNet"
   ]
  },
  {
   "cell_type": "code",
   "execution_count": 8,
   "metadata": {},
   "outputs": [
    {
     "name": "stderr",
     "output_type": "stream",
     "text": [
      "\n",
      "\u001b[A\n",
      "\n",
      "\u001b[A\u001b[A\n",
      "\n",
      "\u001b[A\u001b[A"
     ]
    },
    {
     "name": "stdout",
     "output_type": "stream",
     "text": [
      "18 Event(s) in Catalog:\n",
      "2019-12-24T19:15:41.858000Z |  +3.111,  -74.031 | automatic\n",
      "2019-12-24T19:48:09.563000Z |  +3.211,  -74.146 | automatic\n",
      "...\n",
      "2019-12-24T23:15:04.807000Z |  +3.002,  -73.976 | automatic\n",
      "2019-12-24T23:32:42.582000Z |  +3.076,  -74.040 | automatic\n",
      "To see all events call 'print(CatalogObject.__str__(print_all=True))'\n"
     ]
    }
   ],
   "source": [
    "data = os.path.join(repository_path,\"data\")\n",
    "\n",
    "inv = os.path.join(data,\"stations\",\"inv.xml\")\n",
    "picks = os.path.join(data,\"picks\",\"pnet_seismonitor_picks.csv\")\n",
    "out_dir = os.path.join(repository_path,\"out\",\"asso\",\"pnet\")\n",
    "\n",
    "g = GaMMA(gc)\n",
    "obspy_catalog, df_catalog,df_picks = g.associate(picks,inv,out_dir)\n",
    "print(obspy_catalog)"
   ]
  },
  {
   "cell_type": "code",
   "execution_count": 9,
   "metadata": {},
   "outputs": [
    {
     "data": {
      "image/png": "[encoded data removed]",
      "text/plain": [
       "<Figure size 1000x1000 with 1 Axes>"
      ]
     },
     "metadata": {},
     "output_type": "display_data"
    }
   ],
   "source": [
    "import matplotlib.pyplot as plt\n",
    "fig = plt.figure(figsize=(10, 10))\n",
    "ax = fig.add_subplot(111)\n",
    "ax.set_aspect(\"equal\")\n",
    "ax.scatter(df_catalog[\"x(km)\"], df_catalog[\"y(km)\"])\n",
    "ax.set_xlabel(\"x(km)\")\n",
    "ax.set_ylabel(\"y(km)\")\n",
    "ax.set_xlim(950,1050)\n",
    "ax.set_ylim(780,880)\n",
    "plt.show()"
   ]
  },
  {
   "cell_type": "code",
   "execution_count": null,
   "metadata": {},
   "outputs": [],
   "source": []
  }
 ],
 "metadata": {
  "kernelspec": {
   "display_name": "Python 3.10.10 ('test2')",
   "language": "python",
   "name": "python3"
  },
  "language_info": {
   "codemirror_mode": {
    "name": "ipython",
    "version": 3
   },
   "file_extension": ".py",
   "mimetype": "text/x-python",
   "name": "python",
   "nbconvert_exporter": "python",
   "pygments_lexer": "ipython3",
   "version": "3.10.10"
  },
  "orig_nbformat": 4,
  "vscode": {
   "interpreter": {
    "hash": "a74d57761e21e3f420ede7bd75df8cecbe2e27c0773b80e80e5558f682c0ea38"
   }
  }
 },
 "nbformat": 4,
 "nbformat_minor": 2
}
