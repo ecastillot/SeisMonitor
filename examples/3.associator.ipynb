{
 "cells": [
  {
   "cell_type": "markdown",
   "metadata": {},
   "source": [
    "![image](https://github.com/ecastillot/SeisMonitor/blob/master/docs/figures/seismonitor.PNG?raw=true)"
   ]
  },
  {
   "cell_type": "markdown",
   "metadata": {},
   "source": [
    "**This code is necessary on colab to install SeisMonitor.** "
   ]
  },
  {
   "cell_type": "code",
   "execution_count": null,
   "metadata": {},
   "outputs": [],
   "source": [
    "!pip install SeisMonitor\n",
    "!pip install git+https://github.com/wayneweiqiang/GaMMA.git"
   ]
  },
  {
   "cell_type": "code",
   "execution_count": 9,
   "metadata": {},
   "outputs": [],
   "source": [
    "import sys\n",
    "repository_path = r\"/home/emmanuel/SeisMonitor\"  \n",
    "sys.path.insert(0,repository_path)"
   ]
  },
  {
   "cell_type": "markdown",
   "metadata": {},
   "source": [
    "**Please restart the kernel. It's mandatory to get everything up and running.**"
   ]
  },
  {
   "cell_type": "markdown",
   "metadata": {},
   "source": [
    "Firstable, as we are using colab, we have to download the picks data for this example."
   ]
  },
  {
   "cell_type": "code",
   "execution_count": 10,
   "metadata": {},
   "outputs": [],
   "source": [
    "import sys\n",
    "import os\n",
    "if 'google.colab' in sys.modules:\n",
    "    !git clone https://github.com/ecastillot/SeisMonitor.git /content/SeisMonitor\n",
    "    repository_path = r\"/content/SeisMonitor/examples\"  \n",
    "    sys.path.insert(0,repository_path)\n",
    "else:\n",
    "    repository_path = os.path.dirname(os.getcwd())\n"
   ]
  },
  {
   "cell_type": "markdown",
   "metadata": {},
   "source": [
    "We will use seismic phases picked by PhaseNet and EQTransformer using the SeisMonitor format. Take a look in [2.picker.ipynb](https://colab.research.google.com/github/ecastillot/SeisMonitor/blob/master/examples/2.picker.ipynb). \n",
    "\n",
    "We will associate those seismic phases using GaMMA."
   ]
  },
  {
   "cell_type": "markdown",
   "metadata": {},
   "source": [
    "# Association with GaMMA"
   ]
  },
  {
   "cell_type": "code",
   "execution_count": 11,
   "metadata": {},
   "outputs": [],
   "source": [
    "import os\n",
    "from SeisMonitor.monitor.associator.ai import GaMMA,GaMMAObj\n",
    "from SeisMonitor.monitor.associator import utils as asut"
   ]
  },
  {
   "cell_type": "markdown",
   "metadata": {},
   "source": [
    "We create the object: GaMMAObj, which contains the GaMMA parameters."
   ]
  },
  {
   "cell_type": "code",
   "execution_count": 12,
   "metadata": {},
   "outputs": [],
   "source": [
    "region = [-76.729, -72.315,1.55, 5.314,0, 150]\n",
    "gc = GaMMAObj(region,\"EPSG:3116\",\n",
    "                use_amplitude = False,\n",
    "                use_dbscan=False,\n",
    "                calculate_amp=False)"
   ]
  },
  {
   "cell_type": "markdown",
   "metadata": {},
   "source": [
    "- GaMMA is instanced with GaMMAObj.\n",
    "- We use **asociate** method to asociate seismic phases. The input parameters are:\n",
    "    - Picks filepath using seismonitor format.\n",
    "    - Inventory filepath of the seismic network.\n",
    "    - Output folder for GaMMA"
   ]
  },
  {
   "cell_type": "markdown",
   "metadata": {},
   "source": [
    "## Associations for EQTransformer picks"
   ]
  },
  {
   "cell_type": "code",
   "execution_count": 13,
   "metadata": {},
   "outputs": [
    {
     "name": "stderr",
     "output_type": "stream",
     "text": [
      "\n",
      "\n",
      "\n",
      "\u001b[A\u001b[A\u001b[A\n",
      "\n",
      "\n",
      "\n",
      "\u001b[A\u001b[A\u001b[A\u001b[A\n",
      "\n",
      "\n",
      "\n",
      "\u001b[A\u001b[A\u001b[A\u001b[A"
     ]
    },
    {
     "name": "stdout",
     "output_type": "stream",
     "text": [
      "28 Event(s) in Catalog:\n",
      "2019-12-24T19:56:35.090000Z |  +3.323,  -74.031 | automatic\n",
      "2019-12-24T19:10:10.891000Z |  +5.065,  -74.872 | automatic\n",
      "...\n",
      "2019-12-24T22:46:28.965000Z |  +3.235,  -74.183 | automatic\n",
      "2019-12-24T22:47:36.422000Z |  +3.065,  -73.997 | automatic\n",
      "To see all events call 'print(CatalogObject.__str__(print_all=True))'\n"
     ]
    }
   ],
   "source": [
    "data = os.path.join(repository_path,\"data\")\n",
    "\n",
    "inv = os.path.join(data,\"stations\",\"inv.xml\")\n",
    "picks = os.path.join(data,\"picks\",\"eqt_seismonitor_picks.csv\")\n",
    "out_dir = os.path.join(repository_path,\"asso\",\"eqt\",\"gamma.csv\")\n",
    "\n",
    "g = GaMMA(gc)\n",
    "obspy_catalog, df_catalog,df_picks = g.associate(picks,inv,out_dir)\n",
    "print(obspy_catalog)"
   ]
  },
  {
   "cell_type": "code",
   "execution_count": 14,
   "metadata": {},
   "outputs": [
    {
     "data": {
      "image/png": "[encoded data removed]",
      "text/plain": [
       "<Figure size 1000x1000 with 1 Axes>"
      ]
     },
     "metadata": {},
     "output_type": "display_data"
    }
   ],
   "source": [
    "import matplotlib.pyplot as plt\n",
    "fig = plt.figure(figsize=(10, 10))\n",
    "ax = fig.add_subplot(111)\n",
    "ax.set_aspect(\"equal\")\n",
    "ax.scatter(df_catalog[\"x(km)\"], df_catalog[\"y(km)\"])\n",
    "ax.set_xlabel(\"x(km)\")\n",
    "ax.set_ylabel(\"y(km)\")\n",
    "ax.set_xlim(950,1050)\n",
    "ax.set_ylim(780,880)\n",
    "plt.show()"
   ]
  },
  {
   "cell_type": "markdown",
   "metadata": {},
   "source": [
    "## Associations with PhaseNet"
   ]
  },
  {
   "cell_type": "code",
   "execution_count": 15,
   "metadata": {},
   "outputs": [
    {
     "name": "stderr",
     "output_type": "stream",
     "text": [
      "\n",
      "\n",
      "\n",
      "\n",
      "\n",
      "\u001b[A\u001b[A\u001b[A\u001b[A\u001b[A\n",
      "\n",
      "\n",
      "\n",
      "\n",
      "\n",
      "\u001b[A\u001b[A\u001b[A\u001b[A\u001b[A\u001b[A\n",
      "\n",
      "\n",
      "\n",
      "\n",
      "\n",
      "Skip 0 picks: : 0it [00:00, ?it/s]\n",
      "0it [00:00, ?it/s]"
     ]
    },
    {
     "name": "stdout",
     "output_type": "stream",
     "text": [
      "0 Event(s) in Catalog:\n",
      "\n"
     ]
    },
    {
     "name": "stderr",
     "output_type": "stream",
     "text": [
      "\n"
     ]
    }
   ],
   "source": [
    "data = os.path.join(repository_path,\"data\")\n",
    "\n",
    "inv = os.path.join(data,\"stations\",\"inv.xml\")\n",
    "picks = os.path.join(data,\"picks\",\"pnet_seismonitor_picks.csv\")\n",
    "out_dir = os.path.join(repository_path,\"asso\",\"pnet\",\"gamma.csv\")\n",
    "\n",
    "g = GaMMA(gc)\n",
    "obspy_catalog, df_catalog,df_picks = g.associate(picks,inv,out_dir)\n",
    "print(obspy_catalog)"
   ]
  },
  {
   "cell_type": "code",
   "execution_count": 8,
   "metadata": {},
   "outputs": [
    {
     "data": {
      "image/png": "[encoded data removed]",
      "text/plain": [
       "<Figure size 1000x1000 with 1 Axes>"
      ]
     },
     "metadata": {},
     "output_type": "display_data"
    }
   ],
   "source": [
    "import matplotlib.pyplot as plt\n",
    "fig = plt.figure(figsize=(10, 10))\n",
    "ax = fig.add_subplot(111)\n",
    "ax.set_aspect(\"equal\")\n",
    "ax.scatter(df_catalog[\"x(km)\"], df_catalog[\"y(km)\"])\n",
    "ax.set_xlabel(\"x(km)\")\n",
    "ax.set_ylabel(\"y(km)\")\n",
    "ax.set_xlim(950,1150)\n",
    "ax.set_ylim(780,880)\n",
    "plt.show()"
   ]
  }
 ],
 "metadata": {
  "kernelspec": {
   "display_name": "Python 3.7.9 ('seismonitor')",
   "language": "python",
   "name": "python3"
  },
  "language_info": {
   "codemirror_mode": {
    "name": "ipython",
    "version": 3
   },
   "file_extension": ".py",
   "mimetype": "text/x-python",
   "name": "python",
   "nbconvert_exporter": "python",
   "pygments_lexer": "ipython3",
   "version": "3.7.9"
  },
  "orig_nbformat": 4,
  "vscode": {
   "interpreter": {
    "hash": "9ec6b2e4117db2fcdde95447bbf694d4fe3bc16e1fa9004d0b3bc572a5c0ec19"
   }
  }
 },
 "nbformat": 4,
 "nbformat_minor": 2
}
