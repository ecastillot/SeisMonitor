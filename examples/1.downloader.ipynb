{
 "cells": [
  {
   "cell_type": "markdown",
   "metadata": {},
   "source": [
    "![image](https://github.com/ecastillot/SeisMonitor/blob/master/docs/figures/seismonitor.PNG?raw=true)"
   ]
  },
  {
   "cell_type": "markdown",
   "metadata": {},
   "source": [
    "**This code is necessary on colab to install SeisMonitor.** "
   ]
  },
  {
   "cell_type": "code",
   "execution_count": null,
   "metadata": {},
   "outputs": [],
   "source": [
    "!pip install SeisMonitor\n",
    "!pip install git+https://github.com/wayneweiqiang/GaMMA.git"
   ]
  },
  {
   "cell_type": "markdown",
   "metadata": {},
   "source": [
    "**Please restart the kernel. It's mandatory to get everything up and running.**"
   ]
  },
  {
   "cell_type": "markdown",
   "metadata": {},
   "source": [
    "# Download using FDSN"
   ]
  },
  {
   "cell_type": "markdown",
   "metadata": {},
   "source": [
    "SeisMonitor uses MseedDownloader object to download your data according some restrictions defined in a Provider object. \n",
    "\n",
    "Let's started importing three important objects to download the data: MseedDownloader,WaveformRestrictions and Provider. And some others from obspy. "
   ]
  },
  {
   "cell_type": "code",
   "execution_count": 2,
   "metadata": {},
   "outputs": [],
   "source": [
    "import os\n",
    "from obspy.core.utcdatetime import UTCDateTime\n",
    "from obspy.clients.fdsn import Client as FDSNClient\n",
    "from SeisMonitor.core.objects import WaveformRestrictions,Provider\n",
    "from SeisMonitor.monitor.downloader.seismonitor import MseedDownloader"
   ]
  },
  {
   "cell_type": "markdown",
   "metadata": {},
   "source": [
    "Let's define our output folder. Feel free to choose the one you want."
   ]
  },
  {
   "cell_type": "code",
   "execution_count": 3,
   "metadata": {},
   "outputs": [],
   "source": [
    "out_download_folder = \"../out\""
   ]
  },
  {
   "cell_type": "markdown",
   "metadata": {},
   "source": [
    "We have to define **WaveformRestrictions** object in order to initialize Provider object. \n",
    "\n",
    "WaveformRestrictions saves all restrictions in your waveform data such as parameters that identify the data, the period to download, sensor or channel preferences, some filters by name or by domain. \n",
    "\n",
    "**Let's take a look with the next example !** \n",
    "\n",
    "* We are going to download data from [Colombian Seismological network](https://www.fdsn.org/networks/detail/CM/) whose network code is CM.\n",
    "* We will download the data of all stations whose name begins with the network code VMM and other stations. We don't know very well the sensor type of each station, therefore we will search data for all locations and for all channels.\n",
    "* We set the time of interest throught starttime and endtime parameters.\n",
    "* We want to prioritize broadband seismometer data, otherwise we will look for short period seismoters, acceleremoters, etc.. For this purpose we use location_preferences and channel_preferences(it refers to the instrument type)\n",
    "* Finally, we want to be sure that the stations are in the Colombian region. So we use filter_domain parameter.\n"
   ]
  },
  {
   "cell_type": "code",
   "execution_count": 4,
   "metadata": {},
   "outputs": [],
   "source": [
    "sgc_rest = WaveformRestrictions(network=\"CM\",\n",
    "                    station=\"VMM*,BAR2,PAM,RUS,PDSC\",\n",
    "                    location=\"*\",\n",
    "                    channel=\"*\",\n",
    "                    starttime=UTCDateTime(\"2019-12-24T19:00:00.000000Z\"),\n",
    "                    endtime=UTCDateTime(\"2019-12-25T01:00:00.000000Z\"),\n",
    "                    location_preferences=[\"\",\"00\",\"20\",\"10\",\"40\"],\n",
    "                    channel_preferences=[\"HH\",\"BH\",\"EH\",\"HN\",\"HL\"],\n",
    "                    filter_networks=[], \n",
    "                    filter_stations=[],\n",
    "                    filter_domain= [-83.101,-64.549,-2.229,14.945],\n",
    "                    )"
   ]
  },
  {
   "cell_type": "markdown",
   "metadata": {},
   "source": [
    "Now let's initialize **MseedDownloader** object using **Provider** Object wich in turn uses FDSN Client and WaveformRestrictions.\n",
    "\n",
    "Keep in mind that you can use more than one Provider. It means you could download data using different WaveformRestrictions. However, the downlaoding time period must be the same."
   ]
  },
  {
   "cell_type": "code",
   "execution_count": 7,
   "metadata": {},
   "outputs": [
    {
     "ename": "FileNotFoundError",
     "evalue": "[Errno 2] No such file or directory: '/home/emmanuel/anaconda3/envs/seismonitor/lib/python3.7/site-packages/SQLAlchemy-1.4.44.dist-info/METADATA'",
     "output_type": "error",
     "traceback": [
      "\u001b[0;31m---------------------------------------------------------------------------\u001b[0m",
      "\u001b[0;31mAttributeError\u001b[0m                            Traceback (most recent call last)",
      "\u001b[0;32m~/anaconda3/envs/seismonitor/lib/python3.7/site-packages/pkg_resources/__init__.py\u001b[0m in \u001b[0;36m_dep_map\u001b[0;34m(self)\u001b[0m\n\u001b[1;32m   3036\u001b[0m \u001b[0;34m\u001b[0m\u001b[0m\n\u001b[0;32m-> 3037\u001b[0;31m         \u001b[0;32mdef\u001b[0m \u001b[0mreqs_for_extra\u001b[0m\u001b[0;34m(\u001b[0m\u001b[0mextra\u001b[0m\u001b[0;34m)\u001b[0m\u001b[0;34m:\u001b[0m\u001b[0;34m\u001b[0m\u001b[0;34m\u001b[0m\u001b[0m\n\u001b[0m\u001b[1;32m   3038\u001b[0m             \u001b[0;32mfor\u001b[0m \u001b[0mreq\u001b[0m \u001b[0;32min\u001b[0m \u001b[0mreqs\u001b[0m\u001b[0;34m:\u001b[0m\u001b[0;34m\u001b[0m\u001b[0;34m\u001b[0m\u001b[0m\n",
      "\u001b[0;32m~/anaconda3/envs/seismonitor/lib/python3.7/site-packages/pkg_resources/__init__.py\u001b[0m in \u001b[0;36m__getattr__\u001b[0;34m(self, attr)\u001b[0m\n\u001b[1;32m   2833\u001b[0m \u001b[0;34m\u001b[0m\u001b[0m\n\u001b[0;32m-> 2834\u001b[0;31m     \u001b[0;32mdef\u001b[0m \u001b[0mas_requirement\u001b[0m\u001b[0;34m(\u001b[0m\u001b[0mself\u001b[0m\u001b[0;34m)\u001b[0m\u001b[0;34m:\u001b[0m\u001b[0;34m\u001b[0m\u001b[0;34m\u001b[0m\u001b[0m\n\u001b[0m\u001b[1;32m   2835\u001b[0m         \u001b[0;34m\"\"\"Return a ``Requirement`` that matches this distribution exactly\"\"\"\u001b[0m\u001b[0;34m\u001b[0m\u001b[0;34m\u001b[0m\u001b[0m\n",
      "\u001b[0;31mAttributeError\u001b[0m: _DistInfoDistribution__dep_map",
      "\nDuring handling of the above exception, another exception occurred:\n",
      "\u001b[0;31mAttributeError\u001b[0m                            Traceback (most recent call last)",
      "\u001b[0;32m~/anaconda3/envs/seismonitor/lib/python3.7/site-packages/pkg_resources/__init__.py\u001b[0m in \u001b[0;36m_parsed_pkg_info\u001b[0;34m(self)\u001b[0m\n\u001b[1;32m   3027\u001b[0m \u001b[0;34m\u001b[0m\u001b[0m\n\u001b[0;32m-> 3028\u001b[0;31m     \u001b[0;32mdef\u001b[0m \u001b[0m_compute_dependencies\u001b[0m\u001b[0;34m(\u001b[0m\u001b[0mself\u001b[0m\u001b[0;34m)\u001b[0m\u001b[0;34m:\u001b[0m\u001b[0;34m\u001b[0m\u001b[0;34m\u001b[0m\u001b[0m\n\u001b[0m\u001b[1;32m   3029\u001b[0m         \u001b[0;34m\"\"\"Recompute this distribution's dependencies.\"\"\"\u001b[0m\u001b[0;34m\u001b[0m\u001b[0;34m\u001b[0m\u001b[0m\n",
      "\u001b[0;32m~/anaconda3/envs/seismonitor/lib/python3.7/site-packages/pkg_resources/__init__.py\u001b[0m in \u001b[0;36m__getattr__\u001b[0;34m(self, attr)\u001b[0m\n\u001b[1;32m   2833\u001b[0m \u001b[0;34m\u001b[0m\u001b[0m\n\u001b[0;32m-> 2834\u001b[0;31m     \u001b[0;32mdef\u001b[0m \u001b[0mas_requirement\u001b[0m\u001b[0;34m(\u001b[0m\u001b[0mself\u001b[0m\u001b[0;34m)\u001b[0m\u001b[0;34m:\u001b[0m\u001b[0;34m\u001b[0m\u001b[0;34m\u001b[0m\u001b[0m\n\u001b[0m\u001b[1;32m   2835\u001b[0m         \u001b[0;34m\"\"\"Return a ``Requirement`` that matches this distribution exactly\"\"\"\u001b[0m\u001b[0;34m\u001b[0m\u001b[0;34m\u001b[0m\u001b[0m\n",
      "\u001b[0;31mAttributeError\u001b[0m: _pkg_info",
      "\nDuring handling of the above exception, another exception occurred:\n",
      "\u001b[0;31mFileNotFoundError\u001b[0m                         Traceback (most recent call last)",
      "\u001b[0;32m/tmp/ipykernel_213009/2349767031.py\u001b[0m in \u001b[0;36m<module>\u001b[0;34m\u001b[0m\n\u001b[1;32m      1\u001b[0m \u001b[0msgc_client\u001b[0m \u001b[0;34m=\u001b[0m \u001b[0mFDSNClient\u001b[0m\u001b[0;34m(\u001b[0m\u001b[0;34m'http://sismo.sgc.gov.co:8080'\u001b[0m\u001b[0;34m)\u001b[0m\u001b[0;34m\u001b[0m\u001b[0;34m\u001b[0m\u001b[0m\n\u001b[0;32m----> 2\u001b[0;31m \u001b[0msgc_provider\u001b[0m \u001b[0;34m=\u001b[0m \u001b[0mProvider\u001b[0m\u001b[0;34m(\u001b[0m\u001b[0msgc_client\u001b[0m\u001b[0;34m,\u001b[0m\u001b[0msgc_rest\u001b[0m\u001b[0;34m)\u001b[0m\u001b[0;34m\u001b[0m\u001b[0;34m\u001b[0m\u001b[0m\n\u001b[0m\u001b[1;32m      3\u001b[0m \u001b[0mmd\u001b[0m \u001b[0;34m=\u001b[0m \u001b[0mMseedDownloader\u001b[0m\u001b[0;34m(\u001b[0m\u001b[0mproviders\u001b[0m\u001b[0;34m=\u001b[0m\u001b[0;34m[\u001b[0m\u001b[0msgc_provider\u001b[0m\u001b[0;34m]\u001b[0m\u001b[0;34m)\u001b[0m\u001b[0;34m\u001b[0m\u001b[0;34m\u001b[0m\u001b[0m\n",
      "\u001b[0;32m~/SeisMonitor/SeisMonitor/core/objects.py\u001b[0m in \u001b[0;36m__init__\u001b[0;34m(self, client, waveform_restrictions, processing, xml)\u001b[0m\n\u001b[1;32m     17\u001b[0m                                                                                                 \u001b[0mstation\u001b[0m\u001b[0;34m=\u001b[0m\u001b[0mwaveform_restrictions\u001b[0m\u001b[0;34m.\u001b[0m\u001b[0mstation\u001b[0m\u001b[0;34m,\u001b[0m\u001b[0;34m\u001b[0m\u001b[0;34m\u001b[0m\u001b[0m\n\u001b[1;32m     18\u001b[0m                                                                                                 \u001b[0mlocation\u001b[0m\u001b[0;34m=\u001b[0m\u001b[0;34m\"*\"\u001b[0m\u001b[0;34m,\u001b[0m\u001b[0;34m\u001b[0m\u001b[0;34m\u001b[0m\u001b[0m\n\u001b[0;32m---> 19\u001b[0;31m \t\t\t\t\t\t\t\t\t\t\t\tchannel=\"*\",level='response')\n\u001b[0m\u001b[1;32m     20\u001b[0m \u001b[0;34m\u001b[0m\u001b[0m\n\u001b[1;32m     21\u001b[0m \u001b[0;34m\u001b[0m\u001b[0m\n",
      "\u001b[0;32m~/anaconda3/envs/seismonitor/lib/python3.7/site-packages/obspy/clients/fdsn/client.py\u001b[0m in \u001b[0;36mget_stations\u001b[0;34m(self, starttime, endtime, startbefore, startafter, endbefore, endafter, network, station, location, channel, minlatitude, maxlatitude, minlongitude, maxlongitude, latitude, longitude, minradius, maxradius, level, includerestricted, includeavailability, updatedafter, matchtimeseries, filename, format, **kwargs)\u001b[0m\n\u001b[1;32m    753\u001b[0m         \u001b[0;32melse\u001b[0m\u001b[0;34m:\u001b[0m\u001b[0;34m\u001b[0m\u001b[0;34m\u001b[0m\u001b[0m\n\u001b[1;32m    754\u001b[0m             \u001b[0;31m# This works with XML and StationXML data.\u001b[0m\u001b[0;34m\u001b[0m\u001b[0;34m\u001b[0m\u001b[0;34m\u001b[0m\u001b[0m\n\u001b[0;32m--> 755\u001b[0;31m             \u001b[0minventory\u001b[0m \u001b[0;34m=\u001b[0m \u001b[0mread_inventory\u001b[0m\u001b[0;34m(\u001b[0m\u001b[0mdata_stream\u001b[0m\u001b[0;34m)\u001b[0m\u001b[0;34m\u001b[0m\u001b[0;34m\u001b[0m\u001b[0m\n\u001b[0m\u001b[1;32m    756\u001b[0m             \u001b[0mdata_stream\u001b[0m\u001b[0;34m.\u001b[0m\u001b[0mclose\u001b[0m\u001b[0;34m(\u001b[0m\u001b[0;34m)\u001b[0m\u001b[0;34m\u001b[0m\u001b[0;34m\u001b[0m\u001b[0m\n\u001b[1;32m    757\u001b[0m             \u001b[0;32mreturn\u001b[0m \u001b[0minventory\u001b[0m\u001b[0;34m\u001b[0m\u001b[0;34m\u001b[0m\u001b[0m\n",
      "\u001b[0;32m~/anaconda3/envs/seismonitor/lib/python3.7/site-packages/decorator.py\u001b[0m in \u001b[0;36mfun\u001b[0;34m(*args, **kw)\u001b[0m\n\u001b[1;32m    230\u001b[0m             \u001b[0;32mif\u001b[0m \u001b[0;32mnot\u001b[0m \u001b[0mkwsyntax\u001b[0m\u001b[0;34m:\u001b[0m\u001b[0;34m\u001b[0m\u001b[0;34m\u001b[0m\u001b[0m\n\u001b[1;32m    231\u001b[0m                 \u001b[0margs\u001b[0m\u001b[0;34m,\u001b[0m \u001b[0mkw\u001b[0m \u001b[0;34m=\u001b[0m \u001b[0mfix\u001b[0m\u001b[0;34m(\u001b[0m\u001b[0margs\u001b[0m\u001b[0;34m,\u001b[0m \u001b[0mkw\u001b[0m\u001b[0;34m,\u001b[0m \u001b[0msig\u001b[0m\u001b[0;34m)\u001b[0m\u001b[0;34m\u001b[0m\u001b[0;34m\u001b[0m\u001b[0m\n\u001b[0;32m--> 232\u001b[0;31m             \u001b[0;32mreturn\u001b[0m \u001b[0mcaller\u001b[0m\u001b[0;34m(\u001b[0m\u001b[0mfunc\u001b[0m\u001b[0;34m,\u001b[0m \u001b[0;34m*\u001b[0m\u001b[0;34m(\u001b[0m\u001b[0mextras\u001b[0m \u001b[0;34m+\u001b[0m \u001b[0margs\u001b[0m\u001b[0;34m)\u001b[0m\u001b[0;34m,\u001b[0m \u001b[0;34m**\u001b[0m\u001b[0mkw\u001b[0m\u001b[0;34m)\u001b[0m\u001b[0;34m\u001b[0m\u001b[0;34m\u001b[0m\u001b[0m\n\u001b[0m\u001b[1;32m    233\u001b[0m     \u001b[0mfun\u001b[0m\u001b[0;34m.\u001b[0m\u001b[0m__name__\u001b[0m \u001b[0;34m=\u001b[0m \u001b[0mfunc\u001b[0m\u001b[0;34m.\u001b[0m\u001b[0m__name__\u001b[0m\u001b[0;34m\u001b[0m\u001b[0;34m\u001b[0m\u001b[0m\n\u001b[1;32m    234\u001b[0m     \u001b[0mfun\u001b[0m\u001b[0;34m.\u001b[0m\u001b[0m__doc__\u001b[0m \u001b[0;34m=\u001b[0m \u001b[0mfunc\u001b[0m\u001b[0;34m.\u001b[0m\u001b[0m__doc__\u001b[0m\u001b[0;34m\u001b[0m\u001b[0;34m\u001b[0m\u001b[0m\n",
      "\u001b[0;32m~/anaconda3/envs/seismonitor/lib/python3.7/site-packages/obspy/core/util/decorator.py\u001b[0m in \u001b[0;36m_map_example_filename\u001b[0;34m(func, *args, **kwargs)\u001b[0m\n\u001b[1;32m    289\u001b[0m                         \u001b[0;32mexcept\u001b[0m \u001b[0mIOError\u001b[0m\u001b[0;34m:\u001b[0m\u001b[0;34m\u001b[0m\u001b[0;34m\u001b[0m\u001b[0m\n\u001b[1;32m    290\u001b[0m                             \u001b[0;32mpass\u001b[0m\u001b[0;34m\u001b[0m\u001b[0;34m\u001b[0m\u001b[0m\n\u001b[0;32m--> 291\u001b[0;31m         \u001b[0;32mreturn\u001b[0m \u001b[0mfunc\u001b[0m\u001b[0;34m(\u001b[0m\u001b[0;34m*\u001b[0m\u001b[0margs\u001b[0m\u001b[0;34m,\u001b[0m \u001b[0;34m**\u001b[0m\u001b[0mkwargs\u001b[0m\u001b[0;34m)\u001b[0m\u001b[0;34m\u001b[0m\u001b[0;34m\u001b[0m\u001b[0m\n\u001b[0m\u001b[1;32m    292\u001b[0m     \u001b[0;32mreturn\u001b[0m \u001b[0m_map_example_filename\u001b[0m\u001b[0;34m\u001b[0m\u001b[0;34m\u001b[0m\u001b[0m\n\u001b[1;32m    293\u001b[0m \u001b[0;34m\u001b[0m\u001b[0m\n",
      "\u001b[0;32m~/anaconda3/envs/seismonitor/lib/python3.7/site-packages/obspy/core/inventory/inventory.py\u001b[0m in \u001b[0;36mread_inventory\u001b[0;34m(path_or_file_object, format, level, *args, **kwargs)\u001b[0m\n\u001b[1;32m     90\u001b[0m     \u001b[0;32melse\u001b[0m\u001b[0;34m:\u001b[0m\u001b[0;34m\u001b[0m\u001b[0;34m\u001b[0m\u001b[0m\n\u001b[1;32m     91\u001b[0m         return _generic_reader(path_or_file_object, _read, format=format,\n\u001b[0;32m---> 92\u001b[0;31m                                **kwargs)\n\u001b[0m\u001b[1;32m     93\u001b[0m \u001b[0;34m\u001b[0m\u001b[0m\n\u001b[1;32m     94\u001b[0m \u001b[0;34m\u001b[0m\u001b[0m\n",
      "\u001b[0;32m~/anaconda3/envs/seismonitor/lib/python3.7/site-packages/obspy/core/util/base.py\u001b[0m in \u001b[0;36m_generic_reader\u001b[0;34m(pathname_or_url, callback_func, **kwargs)\u001b[0m\n\u001b[1;32m    621\u001b[0m         \u001b[0;32mtry\u001b[0m\u001b[0;34m:\u001b[0m\u001b[0;34m\u001b[0m\u001b[0;34m\u001b[0m\u001b[0m\n\u001b[1;32m    622\u001b[0m             \u001b[0;31m# first try reading directly\u001b[0m\u001b[0;34m\u001b[0m\u001b[0;34m\u001b[0m\u001b[0;34m\u001b[0m\u001b[0m\n\u001b[0;32m--> 623\u001b[0;31m             \u001b[0mgeneric\u001b[0m \u001b[0;34m=\u001b[0m \u001b[0mcallback_func\u001b[0m\u001b[0;34m(\u001b[0m\u001b[0mpathname_or_url\u001b[0m\u001b[0;34m,\u001b[0m \u001b[0;34m**\u001b[0m\u001b[0mkwargs\u001b[0m\u001b[0;34m)\u001b[0m\u001b[0;34m\u001b[0m\u001b[0;34m\u001b[0m\u001b[0m\n\u001b[0m\u001b[1;32m    624\u001b[0m         \u001b[0;32mexcept\u001b[0m \u001b[0mTypeError\u001b[0m\u001b[0;34m:\u001b[0m\u001b[0;34m\u001b[0m\u001b[0;34m\u001b[0m\u001b[0m\n\u001b[1;32m    625\u001b[0m             \u001b[0;31m# if this fails, create a temporary file which is read directly\u001b[0m\u001b[0;34m\u001b[0m\u001b[0;34m\u001b[0m\u001b[0;34m\u001b[0m\u001b[0m\n",
      "\u001b[0;32m~/anaconda3/envs/seismonitor/lib/python3.7/site-packages/decorator.py\u001b[0m in \u001b[0;36mfun\u001b[0;34m(*args, **kw)\u001b[0m\n\u001b[1;32m    230\u001b[0m             \u001b[0;32mif\u001b[0m \u001b[0;32mnot\u001b[0m \u001b[0mkwsyntax\u001b[0m\u001b[0;34m:\u001b[0m\u001b[0;34m\u001b[0m\u001b[0;34m\u001b[0m\u001b[0m\n\u001b[1;32m    231\u001b[0m                 \u001b[0margs\u001b[0m\u001b[0;34m,\u001b[0m \u001b[0mkw\u001b[0m \u001b[0;34m=\u001b[0m \u001b[0mfix\u001b[0m\u001b[0;34m(\u001b[0m\u001b[0margs\u001b[0m\u001b[0;34m,\u001b[0m \u001b[0mkw\u001b[0m\u001b[0;34m,\u001b[0m \u001b[0msig\u001b[0m\u001b[0;34m)\u001b[0m\u001b[0;34m\u001b[0m\u001b[0;34m\u001b[0m\u001b[0m\n\u001b[0;32m--> 232\u001b[0;31m             \u001b[0;32mreturn\u001b[0m \u001b[0mcaller\u001b[0m\u001b[0;34m(\u001b[0m\u001b[0mfunc\u001b[0m\u001b[0;34m,\u001b[0m \u001b[0;34m*\u001b[0m\u001b[0;34m(\u001b[0m\u001b[0mextras\u001b[0m \u001b[0;34m+\u001b[0m \u001b[0margs\u001b[0m\u001b[0;34m)\u001b[0m\u001b[0;34m,\u001b[0m \u001b[0;34m**\u001b[0m\u001b[0mkw\u001b[0m\u001b[0;34m)\u001b[0m\u001b[0;34m\u001b[0m\u001b[0;34m\u001b[0m\u001b[0m\n\u001b[0m\u001b[1;32m    233\u001b[0m     \u001b[0mfun\u001b[0m\u001b[0;34m.\u001b[0m\u001b[0m__name__\u001b[0m \u001b[0;34m=\u001b[0m \u001b[0mfunc\u001b[0m\u001b[0;34m.\u001b[0m\u001b[0m__name__\u001b[0m\u001b[0;34m\u001b[0m\u001b[0;34m\u001b[0m\u001b[0m\n\u001b[1;32m    234\u001b[0m     \u001b[0mfun\u001b[0m\u001b[0;34m.\u001b[0m\u001b[0m__doc__\u001b[0m \u001b[0;34m=\u001b[0m \u001b[0mfunc\u001b[0m\u001b[0;34m.\u001b[0m\u001b[0m__doc__\u001b[0m\u001b[0;34m\u001b[0m\u001b[0;34m\u001b[0m\u001b[0m\n",
      "\u001b[0;32m~/anaconda3/envs/seismonitor/lib/python3.7/site-packages/obspy/core/util/decorator.py\u001b[0m in \u001b[0;36muncompress_file\u001b[0;34m(func, filename, *args, **kwargs)\u001b[0m\n\u001b[1;32m    140\u001b[0m         \u001b[0;32mreturn\u001b[0m \u001b[0mfunc\u001b[0m\u001b[0;34m(\u001b[0m\u001b[0mfilename\u001b[0m\u001b[0;34m,\u001b[0m \u001b[0;34m*\u001b[0m\u001b[0margs\u001b[0m\u001b[0;34m,\u001b[0m \u001b[0;34m**\u001b[0m\u001b[0mkwargs\u001b[0m\u001b[0;34m)\u001b[0m\u001b[0;34m\u001b[0m\u001b[0;34m\u001b[0m\u001b[0m\n\u001b[1;32m    141\u001b[0m     \u001b[0;32mif\u001b[0m \u001b[0;32mnot\u001b[0m \u001b[0misinstance\u001b[0m\u001b[0;34m(\u001b[0m\u001b[0mfilename\u001b[0m\u001b[0;34m,\u001b[0m \u001b[0mstr\u001b[0m\u001b[0;34m)\u001b[0m\u001b[0;34m:\u001b[0m\u001b[0;34m\u001b[0m\u001b[0;34m\u001b[0m\u001b[0m\n\u001b[0;32m--> 142\u001b[0;31m         \u001b[0;32mreturn\u001b[0m \u001b[0mfunc\u001b[0m\u001b[0;34m(\u001b[0m\u001b[0mfilename\u001b[0m\u001b[0;34m,\u001b[0m \u001b[0;34m*\u001b[0m\u001b[0margs\u001b[0m\u001b[0;34m,\u001b[0m \u001b[0;34m**\u001b[0m\u001b[0mkwargs\u001b[0m\u001b[0;34m)\u001b[0m\u001b[0;34m\u001b[0m\u001b[0;34m\u001b[0m\u001b[0m\n\u001b[0m\u001b[1;32m    143\u001b[0m     \u001b[0;32melif\u001b[0m \u001b[0;32mnot\u001b[0m \u001b[0mPath\u001b[0m\u001b[0;34m(\u001b[0m\u001b[0mfilename\u001b[0m\u001b[0;34m)\u001b[0m\u001b[0;34m.\u001b[0m\u001b[0mexists\u001b[0m\u001b[0;34m(\u001b[0m\u001b[0;34m)\u001b[0m\u001b[0;34m:\u001b[0m\u001b[0;34m\u001b[0m\u001b[0;34m\u001b[0m\u001b[0m\n\u001b[1;32m    144\u001b[0m         \u001b[0mmsg\u001b[0m \u001b[0;34m=\u001b[0m \u001b[0;34m\"File not found '%s'\"\u001b[0m \u001b[0;34m%\u001b[0m \u001b[0;34m(\u001b[0m\u001b[0mfilename\u001b[0m\u001b[0;34m)\u001b[0m\u001b[0;34m\u001b[0m\u001b[0;34m\u001b[0m\u001b[0m\n",
      "\u001b[0;32m~/anaconda3/envs/seismonitor/lib/python3.7/site-packages/obspy/core/inventory/inventory.py\u001b[0m in \u001b[0;36m_read\u001b[0;34m(filename, format, **kwargs)\u001b[0m\n\u001b[1;32m     99\u001b[0m     \"\"\"\n\u001b[1;32m    100\u001b[0m     inventory, format = _read_from_plugin('inventory', filename, format=format,\n\u001b[0;32m--> 101\u001b[0;31m                                           **kwargs)\n\u001b[0m\u001b[1;32m    102\u001b[0m     \u001b[0;32mreturn\u001b[0m \u001b[0minventory\u001b[0m\u001b[0;34m\u001b[0m\u001b[0;34m\u001b[0m\u001b[0m\n\u001b[1;32m    103\u001b[0m \u001b[0;34m\u001b[0m\u001b[0m\n",
      "\u001b[0;32m~/anaconda3/envs/seismonitor/lib/python3.7/site-packages/obspy/core/util/base.py\u001b[0m in \u001b[0;36m_read_from_plugin\u001b[0;34m(plugin_type, filename, format, **kwargs)\u001b[0m\n\u001b[1;32m    385\u001b[0m                 \u001b[0mformat_ep\u001b[0m\u001b[0;34m.\u001b[0m\u001b[0mdist\u001b[0m\u001b[0;34m.\u001b[0m\u001b[0mkey\u001b[0m\u001b[0;34m,\u001b[0m\u001b[0;34m\u001b[0m\u001b[0;34m\u001b[0m\u001b[0m\n\u001b[1;32m    386\u001b[0m                 \u001b[0;34m'obspy.plugin.%s.%s'\u001b[0m \u001b[0;34m%\u001b[0m \u001b[0;34m(\u001b[0m\u001b[0mplugin_type\u001b[0m\u001b[0;34m,\u001b[0m \u001b[0mformat_ep\u001b[0m\u001b[0;34m.\u001b[0m\u001b[0mname\u001b[0m\u001b[0;34m)\u001b[0m\u001b[0;34m,\u001b[0m\u001b[0;34m\u001b[0m\u001b[0;34m\u001b[0m\u001b[0m\n\u001b[0;32m--> 387\u001b[0;31m                 'isFormat')\n\u001b[0m\u001b[1;32m    388\u001b[0m             \u001b[0;31m# If it is a file-like object, store the position and restore it\u001b[0m\u001b[0;34m\u001b[0m\u001b[0;34m\u001b[0m\u001b[0;34m\u001b[0m\u001b[0m\n\u001b[1;32m    389\u001b[0m             \u001b[0;31m# later to avoid that the isFormat() functions move the file\u001b[0m\u001b[0;34m\u001b[0m\u001b[0;34m\u001b[0m\u001b[0;34m\u001b[0m\u001b[0m\n",
      "\u001b[0;32m~/anaconda3/envs/seismonitor/lib/python3.7/site-packages/obspy/core/util/misc.py\u001b[0m in \u001b[0;36mbuffered_load_entry_point\u001b[0;34m(dist, group, name)\u001b[0m\n\u001b[1;32m    597\u001b[0m     \u001b[0mhash_str\u001b[0m \u001b[0;34m=\u001b[0m \u001b[0;34m'/'\u001b[0m\u001b[0;34m.\u001b[0m\u001b[0mjoin\u001b[0m\u001b[0;34m(\u001b[0m\u001b[0;34m[\u001b[0m\u001b[0mdist\u001b[0m\u001b[0;34m,\u001b[0m \u001b[0mgroup\u001b[0m\u001b[0;34m,\u001b[0m \u001b[0mname\u001b[0m\u001b[0;34m]\u001b[0m\u001b[0;34m)\u001b[0m\u001b[0;34m\u001b[0m\u001b[0;34m\u001b[0m\u001b[0m\n\u001b[1;32m    598\u001b[0m     \u001b[0;32mif\u001b[0m \u001b[0mhash_str\u001b[0m \u001b[0;32mnot\u001b[0m \u001b[0;32min\u001b[0m \u001b[0m_ENTRY_POINT_CACHE\u001b[0m\u001b[0;34m:\u001b[0m\u001b[0;34m\u001b[0m\u001b[0;34m\u001b[0m\u001b[0m\n\u001b[0;32m--> 599\u001b[0;31m         \u001b[0m_ENTRY_POINT_CACHE\u001b[0m\u001b[0;34m[\u001b[0m\u001b[0mhash_str\u001b[0m\u001b[0;34m]\u001b[0m \u001b[0;34m=\u001b[0m \u001b[0mload_entry_point\u001b[0m\u001b[0;34m(\u001b[0m\u001b[0mdist\u001b[0m\u001b[0;34m,\u001b[0m \u001b[0mgroup\u001b[0m\u001b[0;34m,\u001b[0m \u001b[0mname\u001b[0m\u001b[0;34m)\u001b[0m\u001b[0;34m\u001b[0m\u001b[0;34m\u001b[0m\u001b[0m\n\u001b[0m\u001b[1;32m    600\u001b[0m     \u001b[0;32mreturn\u001b[0m \u001b[0m_ENTRY_POINT_CACHE\u001b[0m\u001b[0;34m[\u001b[0m\u001b[0mhash_str\u001b[0m\u001b[0;34m]\u001b[0m\u001b[0;34m\u001b[0m\u001b[0;34m\u001b[0m\u001b[0m\n\u001b[1;32m    601\u001b[0m \u001b[0;34m\u001b[0m\u001b[0m\n",
      "\u001b[0;32m~/anaconda3/envs/seismonitor/lib/python3.7/site-packages/pkg_resources/__init__.py\u001b[0m in \u001b[0;36mload_entry_point\u001b[0;34m(dist, group, name)\u001b[0m\n\u001b[1;32m    484\u001b[0m             \u001b[0;32mreturn\u001b[0m \u001b[0;32mFalse\u001b[0m\u001b[0;34m\u001b[0m\u001b[0;34m\u001b[0m\u001b[0m\n\u001b[1;32m    485\u001b[0m \u001b[0;34m\u001b[0m\u001b[0m\n\u001b[0;32m--> 486\u001b[0;31m         \u001b[0;31m# is the required OS major update >= the provided one?\u001b[0m\u001b[0;34m\u001b[0m\u001b[0;34m\u001b[0m\u001b[0;34m\u001b[0m\u001b[0m\n\u001b[0m\u001b[1;32m    487\u001b[0m         \u001b[0;32mif\u001b[0m \u001b[0mint\u001b[0m\u001b[0;34m(\u001b[0m\u001b[0mprovMac\u001b[0m\u001b[0;34m.\u001b[0m\u001b[0mgroup\u001b[0m\u001b[0;34m(\u001b[0m\u001b[0;36m2\u001b[0m\u001b[0;34m)\u001b[0m\u001b[0;34m)\u001b[0m \u001b[0;34m>\u001b[0m \u001b[0mint\u001b[0m\u001b[0;34m(\u001b[0m\u001b[0mreqMac\u001b[0m\u001b[0;34m.\u001b[0m\u001b[0mgroup\u001b[0m\u001b[0;34m(\u001b[0m\u001b[0;36m2\u001b[0m\u001b[0;34m)\u001b[0m\u001b[0;34m)\u001b[0m\u001b[0;34m:\u001b[0m\u001b[0;34m\u001b[0m\u001b[0;34m\u001b[0m\u001b[0m\n\u001b[1;32m    488\u001b[0m             \u001b[0;32mreturn\u001b[0m \u001b[0;32mFalse\u001b[0m\u001b[0;34m\u001b[0m\u001b[0;34m\u001b[0m\u001b[0m\n",
      "\u001b[0;32m~/anaconda3/envs/seismonitor/lib/python3.7/site-packages/pkg_resources/__init__.py\u001b[0m in \u001b[0;36mload_entry_point\u001b[0;34m(self, group, name)\u001b[0m\n\u001b[1;32m   2865\u001b[0m \u001b[0;34m\u001b[0m\u001b[0m\n\u001b[1;32m   2866\u001b[0m     \u001b[0;31m# FIXME: 'Distribution.insert_on' is too complex (13)\u001b[0m\u001b[0;34m\u001b[0m\u001b[0;34m\u001b[0m\u001b[0;34m\u001b[0m\u001b[0m\n\u001b[0;32m-> 2867\u001b[0;31m     \u001b[0;32mdef\u001b[0m \u001b[0minsert_on\u001b[0m\u001b[0;34m(\u001b[0m\u001b[0mself\u001b[0m\u001b[0;34m,\u001b[0m \u001b[0mpath\u001b[0m\u001b[0;34m,\u001b[0m \u001b[0mloc\u001b[0m\u001b[0;34m=\u001b[0m\u001b[0;32mNone\u001b[0m\u001b[0;34m,\u001b[0m \u001b[0mreplace\u001b[0m\u001b[0;34m=\u001b[0m\u001b[0;32mFalse\u001b[0m\u001b[0;34m)\u001b[0m\u001b[0;34m:\u001b[0m  \u001b[0;31m# noqa: C901\u001b[0m\u001b[0;34m\u001b[0m\u001b[0;34m\u001b[0m\u001b[0m\n\u001b[0m\u001b[1;32m   2868\u001b[0m         \"\"\"Ensure self.location is on path\n\u001b[1;32m   2869\u001b[0m \u001b[0;34m\u001b[0m\u001b[0m\n",
      "\u001b[0;32m~/anaconda3/envs/seismonitor/lib/python3.7/site-packages/pkg_resources/__init__.py\u001b[0m in \u001b[0;36mload\u001b[0;34m(self, require, *args, **kwargs)\u001b[0m\n\u001b[1;32m   2468\u001b[0m         \u001b[0;32mreturn\u001b[0m \u001b[0mself\u001b[0m\u001b[0;34m.\u001b[0m\u001b[0mresolve\u001b[0m\u001b[0;34m(\u001b[0m\u001b[0;34m)\u001b[0m\u001b[0;34m\u001b[0m\u001b[0;34m\u001b[0m\u001b[0m\n\u001b[1;32m   2469\u001b[0m \u001b[0;34m\u001b[0m\u001b[0m\n\u001b[0;32m-> 2470\u001b[0;31m     \u001b[0;32mdef\u001b[0m \u001b[0mresolve\u001b[0m\u001b[0;34m(\u001b[0m\u001b[0mself\u001b[0m\u001b[0;34m)\u001b[0m\u001b[0;34m:\u001b[0m\u001b[0;34m\u001b[0m\u001b[0;34m\u001b[0m\u001b[0m\n\u001b[0m\u001b[1;32m   2471\u001b[0m         \"\"\"\n\u001b[1;32m   2472\u001b[0m         \u001b[0mResolve\u001b[0m \u001b[0mthe\u001b[0m \u001b[0mentry\u001b[0m \u001b[0mpoint\u001b[0m \u001b[0;32mfrom\u001b[0m \u001b[0mits\u001b[0m \u001b[0mmodule\u001b[0m \u001b[0;32mand\u001b[0m \u001b[0mattrs\u001b[0m\u001b[0;34m.\u001b[0m\u001b[0;34m\u001b[0m\u001b[0;34m\u001b[0m\u001b[0m\n",
      "\u001b[0;32m~/anaconda3/envs/seismonitor/lib/python3.7/site-packages/pkg_resources/__init__.py\u001b[0m in \u001b[0;36mrequire\u001b[0;34m(self, env, installer)\u001b[0m\n\u001b[1;32m   2491\u001b[0m         \u001b[0mlist\u001b[0m\u001b[0;34m(\u001b[0m\u001b[0mmap\u001b[0m\u001b[0;34m(\u001b[0m\u001b[0mworking_set\u001b[0m\u001b[0;34m.\u001b[0m\u001b[0madd\u001b[0m\u001b[0;34m,\u001b[0m \u001b[0mitems\u001b[0m\u001b[0;34m)\u001b[0m\u001b[0;34m)\u001b[0m\u001b[0;34m\u001b[0m\u001b[0;34m\u001b[0m\u001b[0m\n\u001b[1;32m   2492\u001b[0m \u001b[0;34m\u001b[0m\u001b[0m\n\u001b[0;32m-> 2493\u001b[0;31m     pattern = re.compile(\n\u001b[0m\u001b[1;32m   2494\u001b[0m         \u001b[0;34mr'\\s*'\u001b[0m\u001b[0;34m\u001b[0m\u001b[0;34m\u001b[0m\u001b[0m\n\u001b[1;32m   2495\u001b[0m         \u001b[0;34mr'(?P<name>.+?)\\s*'\u001b[0m\u001b[0;34m\u001b[0m\u001b[0;34m\u001b[0m\u001b[0m\n",
      "\u001b[0;32m~/anaconda3/envs/seismonitor/lib/python3.7/site-packages/pkg_resources/__init__.py\u001b[0m in \u001b[0;36mresolve\u001b[0;34m(self, requirements, env, installer, replace_conflicting, extras)\u001b[0m\n\u001b[1;32m    801\u001b[0m         \u001b[0;31m# Mapping of requirement to set of distributions that required it;\u001b[0m\u001b[0;34m\u001b[0m\u001b[0;34m\u001b[0m\u001b[0;34m\u001b[0m\u001b[0m\n\u001b[1;32m    802\u001b[0m         \u001b[0;31m# useful for reporting info about conflicts.\u001b[0m\u001b[0;34m\u001b[0m\u001b[0;34m\u001b[0m\u001b[0;34m\u001b[0m\u001b[0m\n\u001b[0;32m--> 803\u001b[0;31m         \u001b[0mrequired_by\u001b[0m \u001b[0;34m=\u001b[0m \u001b[0mcollections\u001b[0m\u001b[0;34m.\u001b[0m\u001b[0mdefaultdict\u001b[0m\u001b[0;34m(\u001b[0m\u001b[0mset\u001b[0m\u001b[0;34m)\u001b[0m\u001b[0;34m\u001b[0m\u001b[0;34m\u001b[0m\u001b[0m\n\u001b[0m\u001b[1;32m    804\u001b[0m \u001b[0;34m\u001b[0m\u001b[0m\n\u001b[1;32m    805\u001b[0m         \u001b[0;32mwhile\u001b[0m \u001b[0mrequirements\u001b[0m\u001b[0;34m:\u001b[0m\u001b[0;34m\u001b[0m\u001b[0;34m\u001b[0m\u001b[0m\n",
      "\u001b[0;32m~/anaconda3/envs/seismonitor/lib/python3.7/site-packages/pkg_resources/__init__.py\u001b[0m in \u001b[0;36mrequires\u001b[0;34m(self, extras)\u001b[0m\n\u001b[1;32m   2753\u001b[0m         \u001b[0mReturn\u001b[0m \u001b[0mthe\u001b[0m \u001b[0mpath\u001b[0m \u001b[0mto\u001b[0m \u001b[0mthe\u001b[0m \u001b[0mgiven\u001b[0m \u001b[0mmetadata\u001b[0m \u001b[0mfile\u001b[0m\u001b[0;34m,\u001b[0m \u001b[0;32mif\u001b[0m \u001b[0mavailable\u001b[0m\u001b[0;34m.\u001b[0m\u001b[0;34m\u001b[0m\u001b[0;34m\u001b[0m\u001b[0m\n\u001b[1;32m   2754\u001b[0m         \"\"\"\n\u001b[0;32m-> 2755\u001b[0;31m         \u001b[0;32mtry\u001b[0m\u001b[0;34m:\u001b[0m\u001b[0;34m\u001b[0m\u001b[0;34m\u001b[0m\u001b[0m\n\u001b[0m\u001b[1;32m   2756\u001b[0m             \u001b[0;31m# We need to access _get_metadata_path() on the provider object\u001b[0m\u001b[0;34m\u001b[0m\u001b[0;34m\u001b[0m\u001b[0;34m\u001b[0m\u001b[0m\n\u001b[1;32m   2757\u001b[0m             \u001b[0;31m# directly rather than through this class's __getattr__()\u001b[0m\u001b[0;34m\u001b[0m\u001b[0;34m\u001b[0m\u001b[0;34m\u001b[0m\u001b[0m\n",
      "\u001b[0;32m~/anaconda3/envs/seismonitor/lib/python3.7/site-packages/pkg_resources/__init__.py\u001b[0m in \u001b[0;36m_dep_map\u001b[0;34m(self)\u001b[0m\n\u001b[1;32m   3037\u001b[0m         \u001b[0;32mdef\u001b[0m \u001b[0mreqs_for_extra\u001b[0m\u001b[0;34m(\u001b[0m\u001b[0mextra\u001b[0m\u001b[0;34m)\u001b[0m\u001b[0;34m:\u001b[0m\u001b[0;34m\u001b[0m\u001b[0;34m\u001b[0m\u001b[0m\n\u001b[1;32m   3038\u001b[0m             \u001b[0;32mfor\u001b[0m \u001b[0mreq\u001b[0m \u001b[0;32min\u001b[0m \u001b[0mreqs\u001b[0m\u001b[0;34m:\u001b[0m\u001b[0;34m\u001b[0m\u001b[0;34m\u001b[0m\u001b[0m\n\u001b[0;32m-> 3039\u001b[0;31m                 \u001b[0;32mif\u001b[0m \u001b[0;32mnot\u001b[0m \u001b[0mreq\u001b[0m\u001b[0;34m.\u001b[0m\u001b[0mmarker\u001b[0m \u001b[0;32mor\u001b[0m \u001b[0mreq\u001b[0m\u001b[0;34m.\u001b[0m\u001b[0mmarker\u001b[0m\u001b[0;34m.\u001b[0m\u001b[0mevaluate\u001b[0m\u001b[0;34m(\u001b[0m\u001b[0;34m{\u001b[0m\u001b[0;34m'extra'\u001b[0m\u001b[0;34m:\u001b[0m \u001b[0mextra\u001b[0m\u001b[0;34m}\u001b[0m\u001b[0;34m)\u001b[0m\u001b[0;34m:\u001b[0m\u001b[0;34m\u001b[0m\u001b[0;34m\u001b[0m\u001b[0m\n\u001b[0m\u001b[1;32m   3040\u001b[0m                     \u001b[0;32myield\u001b[0m \u001b[0mreq\u001b[0m\u001b[0;34m\u001b[0m\u001b[0;34m\u001b[0m\u001b[0m\n\u001b[1;32m   3041\u001b[0m \u001b[0;34m\u001b[0m\u001b[0m\n",
      "\u001b[0;32m~/anaconda3/envs/seismonitor/lib/python3.7/site-packages/pkg_resources/__init__.py\u001b[0m in \u001b[0;36m_compute_dependencies\u001b[0;34m(self)\u001b[0m\n\u001b[1;32m   3046\u001b[0m             \u001b[0ms_extra\u001b[0m \u001b[0;34m=\u001b[0m \u001b[0msafe_extra\u001b[0m\u001b[0;34m(\u001b[0m\u001b[0mextra\u001b[0m\u001b[0;34m.\u001b[0m\u001b[0mstrip\u001b[0m\u001b[0;34m(\u001b[0m\u001b[0;34m)\u001b[0m\u001b[0;34m)\u001b[0m\u001b[0;34m\u001b[0m\u001b[0;34m\u001b[0m\u001b[0m\n\u001b[1;32m   3047\u001b[0m             \u001b[0mdm\u001b[0m\u001b[0;34m[\u001b[0m\u001b[0ms_extra\u001b[0m\u001b[0;34m]\u001b[0m \u001b[0;34m=\u001b[0m \u001b[0;34m[\u001b[0m\u001b[0mr\u001b[0m \u001b[0;32mfor\u001b[0m \u001b[0mr\u001b[0m \u001b[0;32min\u001b[0m \u001b[0mreqs_for_extra\u001b[0m\u001b[0;34m(\u001b[0m\u001b[0mextra\u001b[0m\u001b[0;34m)\u001b[0m \u001b[0;32mif\u001b[0m \u001b[0mr\u001b[0m \u001b[0;32mnot\u001b[0m \u001b[0;32min\u001b[0m \u001b[0mcommon\u001b[0m\u001b[0;34m]\u001b[0m\u001b[0;34m\u001b[0m\u001b[0;34m\u001b[0m\u001b[0m\n\u001b[0;32m-> 3048\u001b[0;31m \u001b[0;34m\u001b[0m\u001b[0m\n\u001b[0m\u001b[1;32m   3049\u001b[0m         \u001b[0;32mreturn\u001b[0m \u001b[0mdm\u001b[0m\u001b[0;34m\u001b[0m\u001b[0;34m\u001b[0m\u001b[0m\n\u001b[1;32m   3050\u001b[0m \u001b[0;34m\u001b[0m\u001b[0m\n",
      "\u001b[0;32m~/anaconda3/envs/seismonitor/lib/python3.7/site-packages/pkg_resources/__init__.py\u001b[0m in \u001b[0;36m_parsed_pkg_info\u001b[0;34m(self)\u001b[0m\n\u001b[1;32m   3028\u001b[0m     \u001b[0;32mdef\u001b[0m \u001b[0m_compute_dependencies\u001b[0m\u001b[0;34m(\u001b[0m\u001b[0mself\u001b[0m\u001b[0;34m)\u001b[0m\u001b[0;34m:\u001b[0m\u001b[0;34m\u001b[0m\u001b[0;34m\u001b[0m\u001b[0m\n\u001b[1;32m   3029\u001b[0m         \u001b[0;34m\"\"\"Recompute this distribution's dependencies.\"\"\"\u001b[0m\u001b[0;34m\u001b[0m\u001b[0;34m\u001b[0m\u001b[0m\n\u001b[0;32m-> 3030\u001b[0;31m         \u001b[0mdm\u001b[0m \u001b[0;34m=\u001b[0m \u001b[0mself\u001b[0m\u001b[0;34m.\u001b[0m\u001b[0m__dep_map\u001b[0m \u001b[0;34m=\u001b[0m \u001b[0;34m{\u001b[0m\u001b[0;32mNone\u001b[0m\u001b[0;34m:\u001b[0m \u001b[0;34m[\u001b[0m\u001b[0;34m]\u001b[0m\u001b[0;34m}\u001b[0m\u001b[0;34m\u001b[0m\u001b[0;34m\u001b[0m\u001b[0m\n\u001b[0m\u001b[1;32m   3031\u001b[0m \u001b[0;34m\u001b[0m\u001b[0m\n\u001b[1;32m   3032\u001b[0m         \u001b[0mreqs\u001b[0m \u001b[0;34m=\u001b[0m \u001b[0;34m[\u001b[0m\u001b[0;34m]\u001b[0m\u001b[0;34m\u001b[0m\u001b[0;34m\u001b[0m\u001b[0m\n",
      "\u001b[0;32m~/anaconda3/envs/seismonitor/lib/python3.7/site-packages/pkg_resources/__init__.py\u001b[0m in \u001b[0;36mget_metadata\u001b[0;34m(self, name)\u001b[0m\n\u001b[1;32m   1429\u001b[0m     \u001b[0mThis\u001b[0m \u001b[0mimplementation\u001b[0m \u001b[0muses\u001b[0m \u001b[0mthe\u001b[0m \u001b[0;34m'pyparsing'\u001b[0m \u001b[0mmodule\u001b[0m\u001b[0;34m.\u001b[0m\u001b[0;34m\u001b[0m\u001b[0;34m\u001b[0m\u001b[0m\n\u001b[1;32m   1430\u001b[0m     \"\"\"\n\u001b[0;32m-> 1431\u001b[0;31m     \u001b[0;32mtry\u001b[0m\u001b[0;34m:\u001b[0m\u001b[0;34m\u001b[0m\u001b[0;34m\u001b[0m\u001b[0m\n\u001b[0m\u001b[1;32m   1432\u001b[0m         \u001b[0mmarker\u001b[0m \u001b[0;34m=\u001b[0m \u001b[0mpackaging\u001b[0m\u001b[0;34m.\u001b[0m\u001b[0mmarkers\u001b[0m\u001b[0;34m.\u001b[0m\u001b[0mMarker\u001b[0m\u001b[0;34m(\u001b[0m\u001b[0mtext\u001b[0m\u001b[0;34m)\u001b[0m\u001b[0;34m\u001b[0m\u001b[0;34m\u001b[0m\u001b[0m\n\u001b[1;32m   1433\u001b[0m         \u001b[0;32mreturn\u001b[0m \u001b[0mmarker\u001b[0m\u001b[0;34m.\u001b[0m\u001b[0mevaluate\u001b[0m\u001b[0;34m(\u001b[0m\u001b[0;34m)\u001b[0m\u001b[0;34m\u001b[0m\u001b[0;34m\u001b[0m\u001b[0m\n",
      "\u001b[0;32m~/anaconda3/envs/seismonitor/lib/python3.7/site-packages/pkg_resources/__init__.py\u001b[0m in \u001b[0;36m_get\u001b[0;34m(self, path)\u001b[0m\n\u001b[1;32m   1633\u001b[0m \u001b[0;34m\u001b[0m\u001b[0m\n\u001b[1;32m   1634\u001b[0m \u001b[0mregister_loader_type\u001b[0m\u001b[0;34m(\u001b[0m\u001b[0mobject\u001b[0m\u001b[0;34m,\u001b[0m \u001b[0mNullProvider\u001b[0m\u001b[0;34m)\u001b[0m\u001b[0;34m\u001b[0m\u001b[0;34m\u001b[0m\u001b[0m\n\u001b[0;32m-> 1635\u001b[0;31m \u001b[0;34m\u001b[0m\u001b[0m\n\u001b[0m\u001b[1;32m   1636\u001b[0m \u001b[0;34m\u001b[0m\u001b[0m\n\u001b[1;32m   1637\u001b[0m \u001b[0;32mdef\u001b[0m \u001b[0m_parents\u001b[0m\u001b[0;34m(\u001b[0m\u001b[0mpath\u001b[0m\u001b[0;34m)\u001b[0m\u001b[0;34m:\u001b[0m\u001b[0;34m\u001b[0m\u001b[0;34m\u001b[0m\u001b[0m\n",
      "\u001b[0;31mFileNotFoundError\u001b[0m: [Errno 2] No such file or directory: '/home/emmanuel/anaconda3/envs/seismonitor/lib/python3.7/site-packages/SQLAlchemy-1.4.44.dist-info/METADATA'"
     ]
    }
   ],
   "source": [
    "sgc_client = FDSNClient('http://sismo.sgc.gov.co:8080')\n",
    "sgc_provider = Provider(sgc_client,sgc_rest)\n",
    "md = MseedDownloader(providers=[sgc_provider])"
   ]
  },
  {
   "cell_type": "markdown",
   "metadata": {},
   "source": [
    "MseedDownloader class will download waveform data. Besides it will download xml and json metadata."
   ]
  },
  {
   "cell_type": "code",
   "execution_count": 6,
   "metadata": {},
   "outputs": [
    {
     "ename": "NameError",
     "evalue": "name 'md' is not defined",
     "output_type": "error",
     "traceback": [
      "\u001b[0;31m---------------------------------------------------------------------------\u001b[0m",
      "\u001b[0;31mNameError\u001b[0m                                 Traceback (most recent call last)",
      "\u001b[0;32m/tmp/ipykernel_213009/2637007052.py\u001b[0m in \u001b[0;36m<module>\u001b[0;34m\u001b[0m\n\u001b[1;32m      1\u001b[0m \u001b[0mjson_path\u001b[0m \u001b[0;34m=\u001b[0m \u001b[0mos\u001b[0m\u001b[0;34m.\u001b[0m\u001b[0mpath\u001b[0m\u001b[0;34m.\u001b[0m\u001b[0mjoin\u001b[0m\u001b[0;34m(\u001b[0m\u001b[0mout_download_folder\u001b[0m\u001b[0;34m,\u001b[0m\u001b[0;34m\"stations\"\u001b[0m\u001b[0;34m)\u001b[0m\u001b[0;34m\u001b[0m\u001b[0;34m\u001b[0m\u001b[0m\n\u001b[0;32m----> 2\u001b[0;31m \u001b[0minv\u001b[0m\u001b[0;34m,\u001b[0m\u001b[0mjson\u001b[0m \u001b[0;34m=\u001b[0m \u001b[0mmd\u001b[0m\u001b[0;34m.\u001b[0m\u001b[0mmake_inv_and_json\u001b[0m\u001b[0;34m(\u001b[0m\u001b[0mjson_path\u001b[0m\u001b[0;34m)\u001b[0m\u001b[0;34m\u001b[0m\u001b[0;34m\u001b[0m\u001b[0m\n\u001b[0m",
      "\u001b[0;31mNameError\u001b[0m: name 'md' is not defined"
     ]
    }
   ],
   "source": [
    "json_path = os.path.join(out_download_folder,\"stations\")\n",
    "inv,json = md.make_inv_and_json(json_path)"
   ]
  },
  {
   "cell_type": "markdown",
   "metadata": {},
   "source": [
    "We reached the end. Now, let's download data using download method.\n",
    "\n",
    "Take in mind some clarifications in the paramaters:\n",
    "* **mseed_storage**: Path where to store the waveform files. You could use some key words to set the path for downloading.\n",
    "* **chunklength_in_sec**: The length of one chunk in seconds. The time between starttime and endtime will be divided into segments of chunklength_in_sec seconds.\n",
    "* **picker_args**: It's used to know if the stream can be downloaded according to the picker keys. If the the segments given by the length of the stream and overlap parammeter are less than batch_size, then no download the stream.\n",
    "* **n_processor**: Number of threads for downlaoding"
   ]
  },
  {
   "cell_type": "code",
   "execution_count": 8,
   "metadata": {},
   "outputs": [
    {
     "name": "stderr",
     "output_type": "stream",
     "text": [
      "11-14 21:07 [INFO] [Downloader: chunktime] Total chunktime list: 3\n",
      "11-14 21:07 [INFO] [Downloader: False] CM-RUS-*-*-20171224T190000Z-20171224T210000Z->No data available for request.\n",
      "HTTP Status code: 204\n",
      "Detailed response of server:\n",
      "\n",
      "\n",
      "11-14 21:07 [INFO] [Downloader: True] ../out/download/fdsn/downloads/VMM09/CM.VMM09.00.HHE__20171224T190000Z__20171224T210000Z.mseed  \n",
      "11-14 21:07 [INFO] [Downloader: True] ../out/download/fdsn/downloads/VMM09/CM.VMM09.00.HHN__20171224T190000Z__20171224T210000Z.mseed  \n",
      "11-14 21:07 [INFO] [Downloader: True] ../out/download/fdsn/downloads/VMM09/CM.VMM09.00.HHZ__20171224T190000Z__20171224T210000Z.mseed  \n",
      "11-14 21:07 [INFO] [Downloader: True] ../out/download/fdsn/downloads/VMM12/CM.VMM12.00.HHE__20171224T190000Z__20171224T210000Z.mseed  \n",
      "11-14 21:07 [INFO] [Downloader: True] ../out/download/fdsn/downloads/VMM10/CM.VMM10.00.HHE__20171224T190000Z__20171224T210000Z.mseed  \n",
      "11-14 21:07 [INFO] [Downloader: True] ../out/download/fdsn/downloads/VMM12/CM.VMM12.00.HHN__20171224T190000Z__20171224T210000Z.mseed  \n",
      "11-14 21:07 [INFO] [Downloader: True] ../out/download/fdsn/downloads/VMM07/CM.VMM07.00.HHE__20171224T190000Z__20171224T210000Z.mseed  \n",
      "11-14 21:07 [INFO] [Downloader: True] ../out/download/fdsn/downloads/VMM10/CM.VMM10.00.HHN__20171224T190000Z__20171224T210000Z.mseed  \n",
      "11-14 21:07 [INFO] [Downloader: True] ../out/download/fdsn/downloads/VMM12/CM.VMM12.00.HHZ__20171224T190000Z__20171224T210000Z.mseed  \n",
      "11-14 21:07 [INFO] [Downloader: True] ../out/download/fdsn/downloads/VMM07/CM.VMM07.00.HHN__20171224T190000Z__20171224T210000Z.mseed  \n",
      "11-14 21:07 [INFO] [Downloader: True] ../out/download/fdsn/downloads/VMM10/CM.VMM10.00.HHZ__20171224T190000Z__20171224T210000Z.mseed  \n",
      "11-14 21:07 [INFO] [Downloader: True] ../out/download/fdsn/downloads/VMM07/CM.VMM07.00.HHZ__20171224T190000Z__20171224T210000Z.mseed  \n",
      "11-14 21:07 [INFO] [Downloader: True] ../out/download/fdsn/downloads/VMM11/CM.VMM11.00.HHE__20171224T190000Z__20171224T202149Z.mseed  \n",
      "11-14 21:07 [INFO] [Downloader: True] ../out/download/fdsn/downloads/VMM11/CM.VMM11.00.HHN__20171224T190000Z__20171224T202152Z.mseed  \n",
      "11-14 21:07 [INFO] [Downloader: True] ../out/download/fdsn/downloads/VMM11/CM.VMM11.00.HHZ__20171224T190000Z__20171224T202150Z.mseed  \n",
      "11-14 21:07 [INFO] [Downloader: True] ../out/download/fdsn/downloads/VMM05/CM.VMM05.00.HHE__20171224T190000Z__20171224T210000Z.mseed  \n",
      "11-14 21:07 [INFO] [Downloader: True] ../out/download/fdsn/downloads/VMM05/CM.VMM05.00.HHN__20171224T190000Z__20171224T210000Z.mseed  \n",
      "11-14 21:07 [INFO] [Downloader: True] ../out/download/fdsn/downloads/VMM05/CM.VMM05.00.HHZ__20171224T190000Z__20171224T210000Z.mseed  \n",
      "11-14 21:07 [INFO] [Downloader: True] ../out/download/fdsn/downloads/BAR2/CM.BAR2.20.EHZ__20171224T185959Z__20171224T205959Z.mseed  \n",
      "11-14 21:07 [INFO] [Downloader: True] ../out/download/fdsn/downloads/PAM/CM.PAM.20.EHE__20171224T185959Z__20171224T205959Z.mseed  \n",
      "11-14 21:07 [INFO] [Downloader: True] ../out/download/fdsn/downloads/PAM/CM.PAM.20.EHN__20171224T185959Z__20171224T205959Z.mseed  \n",
      "11-14 21:07 [INFO] [Downloader: True] ../out/download/fdsn/downloads/PAM/CM.PAM.20.EHZ__20171224T185959Z__20171224T205959Z.mseed  \n",
      "11-14 21:07 [INFO] [Downloader: False] CM-RUS-*-*-20171224T210000Z-20171224T230000Z->No data available for request.\n",
      "HTTP Status code: 204\n",
      "Detailed response of server:\n",
      "\n",
      "\n",
      "11-14 21:07 [INFO] [Downloader: True] ../out/download/fdsn/downloads/VMM07/CM.VMM07.00.HHE__20171224T210000Z__20171224T230000Z.mseed  \n",
      "11-14 21:07 [INFO] [Downloader: True] ../out/download/fdsn/downloads/VMM10/CM.VMM10.00.HHE__20171224T210000Z__20171224T230000Z.mseed  \n",
      "11-14 21:07 [INFO] [Downloader: True] ../out/download/fdsn/downloads/VMM07/CM.VMM07.00.HHN__20171224T210000Z__20171224T230000Z.mseed  \n",
      "11-14 21:07 [INFO] [Downloader: True] ../out/download/fdsn/downloads/VMM09/CM.VMM09.00.HHE__20171224T210000Z__20171224T230000Z.mseed  \n",
      "11-14 21:07 [INFO] [Downloader: True] ../out/download/fdsn/downloads/VMM10/CM.VMM10.00.HHN__20171224T210000Z__20171224T230000Z.mseed  \n",
      "11-14 21:07 [INFO] [Downloader: True] ../out/download/fdsn/downloads/VMM07/CM.VMM07.00.HHZ__20171224T210000Z__20171224T230000Z.mseed  \n",
      "11-14 21:07 [INFO] [Downloader: True] ../out/download/fdsn/downloads/VMM09/CM.VMM09.00.HHN__20171224T210000Z__20171224T230000Z.mseed  \n",
      "11-14 21:07 [INFO] [Downloader: True] ../out/download/fdsn/downloads/VMM10/CM.VMM10.00.HHZ__20171224T210000Z__20171224T230000Z.mseed  \n",
      "11-14 21:07 [INFO] [Downloader: True] ../out/download/fdsn/downloads/VMM09/CM.VMM09.00.HHZ__20171224T210000Z__20171224T230000Z.mseed  \n",
      "11-14 21:07 [INFO] [Downloader: True] ../out/download/fdsn/downloads/VMM11/CM.VMM11.00.HHE__20171224T210000Z__20171224T230000Z.mseed  \n",
      "11-14 21:07 [INFO] [Downloader: True] ../out/download/fdsn/downloads/VMM12/CM.VMM12.00.HHE__20171224T210000Z__20171224T230000Z.mseed  \n",
      "11-14 21:07 [INFO] [Downloader: True] ../out/download/fdsn/downloads/VMM12/CM.VMM12.00.HHN__20171224T210000Z__20171224T230000Z.mseed  \n",
      "11-14 21:07 [INFO] [Downloader: True] ../out/download/fdsn/downloads/VMM11/CM.VMM11.00.HHN__20171224T210000Z__20171224T230000Z.mseed  \n",
      "11-14 21:07 [INFO] [Downloader: True] ../out/download/fdsn/downloads/VMM12/CM.VMM12.00.HHZ__20171224T210000Z__20171224T230000Z.mseed  \n",
      "11-14 21:07 [INFO] [Downloader: True] ../out/download/fdsn/downloads/VMM11/CM.VMM11.00.HHZ__20171224T210000Z__20171224T230000Z.mseed  \n",
      "11-14 21:07 [INFO] [Downloader: True] ../out/download/fdsn/downloads/VMM05/CM.VMM05.00.HHE__20171224T210000Z__20171224T230000Z.mseed  \n",
      "11-14 21:07 [INFO] [Downloader: True] ../out/download/fdsn/downloads/VMM05/CM.VMM05.00.HHN__20171224T210000Z__20171224T230000Z.mseed  \n",
      "11-14 21:07 [INFO] [Downloader: True] ../out/download/fdsn/downloads/VMM05/CM.VMM05.00.HHZ__20171224T210000Z__20171224T230000Z.mseed  \n",
      "11-14 21:07 [INFO] [Downloader: True] ../out/download/fdsn/downloads/BAR2/CM.BAR2.20.EHZ__20171224T205959Z__20171224T225959Z.mseed  \n",
      "11-14 21:07 [INFO] [Downloader: True] ../out/download/fdsn/downloads/PAM/CM.PAM.20.EHE__20171224T205959Z__20171224T225959Z.mseed  \n",
      "11-14 21:07 [INFO] [Downloader: True] ../out/download/fdsn/downloads/PAM/CM.PAM.20.EHN__20171224T205959Z__20171224T225959Z.mseed  \n",
      "11-14 21:07 [INFO] [Downloader: True] ../out/download/fdsn/downloads/PAM/CM.PAM.20.EHZ__20171224T205959Z__20171224T225959Z.mseed  \n",
      "11-14 21:07 [INFO] [Downloader: False] CM-RUS-*-*-20171224T230000Z-20171225T010000Z->No data available for request.\n",
      "HTTP Status code: 204\n",
      "Detailed response of server:\n",
      "\n",
      "\n",
      "11-14 21:07 [INFO] [Downloader: False] ../out/download/fdsn/downloads/VMM12/CM.VMM12.00.HHE__20171224T230000Z__20171225T000009Z.mseed  This mseed only can be used with 85 batchs. In order to download the data, the batch size must be >= 100. Modify this condition changing 'picker_args':{'batch_size': 100, 'overlap': 0.3, 'length': 60}' parameter.\n",
      "11-14 21:07 [INFO] [Downloader: False] ../out/download/fdsn/downloads/VMM12/CM.VMM12.00.HHN__20171224T230000Z__20171225T000009Z.mseed  This mseed only can be used with 85 batchs. In order to download the data, the batch size must be >= 100. Modify this condition changing 'picker_args':{'batch_size': 100, 'overlap': 0.3, 'length': 60}' parameter.\n",
      "11-14 21:07 [INFO] [Downloader: False] ../out/download/fdsn/downloads/VMM12/CM.VMM12.00.HHZ__20171224T230000Z__20171225T000009Z.mseed  This mseed only can be used with 85 batchs. In order to download the data, the batch size must be >= 100. Modify this condition changing 'picker_args':{'batch_size': 100, 'overlap': 0.3, 'length': 60}' parameter.\n",
      "11-14 21:07 [INFO] [Downloader: False] ../out/download/fdsn/downloads/VMM07/CM.VMM07.00.HHE__20171224T230000Z__20171225T000009Z.mseed  This mseed only can be used with 85 batchs. In order to download the data, the batch size must be >= 100. Modify this condition changing 'picker_args':{'batch_size': 100, 'overlap': 0.3, 'length': 60}' parameter.\n",
      "11-14 21:07 [INFO] [Downloader: False] ../out/download/fdsn/downloads/VMM07/CM.VMM07.00.HHN__20171224T230000Z__20171225T000009Z.mseed  This mseed only can be used with 85 batchs. In order to download the data, the batch size must be >= 100. Modify this condition changing 'picker_args':{'batch_size': 100, 'overlap': 0.3, 'length': 60}' parameter.\n",
      "11-14 21:07 [INFO] [Downloader: False] ../out/download/fdsn/downloads/VMM07/CM.VMM07.00.HHZ__20171224T230000Z__20171225T000009Z.mseed  This mseed only can be used with 85 batchs. In order to download the data, the batch size must be >= 100. Modify this condition changing 'picker_args':{'batch_size': 100, 'overlap': 0.3, 'length': 60}' parameter.\n",
      "11-14 21:07 [INFO] [Downloader: False] ../out/download/fdsn/downloads/VMM10/CM.VMM10.00.HHE__20171224T230000Z__20171225T000009Z.mseed  This mseed only can be used with 85 batchs. In order to download the data, the batch size must be >= 100. Modify this condition changing 'picker_args':{'batch_size': 100, 'overlap': 0.3, 'length': 60}' parameter.\n",
      "11-14 21:07 [INFO] [Downloader: False] ../out/download/fdsn/downloads/VMM10/CM.VMM10.00.HHN__20171224T230000Z__20171225T000009Z.mseed  This mseed only can be used with 85 batchs. In order to download the data, the batch size must be >= 100. Modify this condition changing 'picker_args':{'batch_size': 100, 'overlap': 0.3, 'length': 60}' parameter.\n",
      "11-14 21:07 [INFO] [Downloader: False] ../out/download/fdsn/downloads/VMM10/CM.VMM10.00.HHZ__20171224T230000Z__20171225T000009Z.mseed  This mseed only can be used with 85 batchs. In order to download the data, the batch size must be >= 100. Modify this condition changing 'picker_args':{'batch_size': 100, 'overlap': 0.3, 'length': 60}' parameter.\n",
      "11-14 21:07 [INFO] [Downloader: False] ../out/download/fdsn/downloads/VMM09/CM.VMM09.00.HHE__20171224T230000Z__20171225T000009Z.mseed  This mseed only can be used with 85 batchs. In order to download the data, the batch size must be >= 100. Modify this condition changing 'picker_args':{'batch_size': 100, 'overlap': 0.3, 'length': 60}' parameter.\n",
      "11-14 21:07 [INFO] [Downloader: False] ../out/download/fdsn/downloads/VMM09/CM.VMM09.00.HHN__20171224T230000Z__20171225T000009Z.mseed  This mseed only can be used with 85 batchs. In order to download the data, the batch size must be >= 100. Modify this condition changing 'picker_args':{'batch_size': 100, 'overlap': 0.3, 'length': 60}' parameter.\n",
      "11-14 21:07 [INFO] [Downloader: False] ../out/download/fdsn/downloads/VMM09/CM.VMM09.00.HHZ__20171224T230000Z__20171225T000009Z.mseed  This mseed only can be used with 85 batchs. In order to download the data, the batch size must be >= 100. Modify this condition changing 'picker_args':{'batch_size': 100, 'overlap': 0.3, 'length': 60}' parameter.\n",
      "11-14 21:07 [INFO] [Downloader: False] ../out/download/fdsn/downloads/VMM11/CM.VMM11.00.HHE__20171224T230000Z__20171225T000009Z.mseed  This mseed only can be used with 85 batchs. In order to download the data, the batch size must be >= 100. Modify this condition changing 'picker_args':{'batch_size': 100, 'overlap': 0.3, 'length': 60}' parameter.\n",
      "11-14 21:07 [INFO] [Downloader: False] ../out/download/fdsn/downloads/VMM11/CM.VMM11.00.HHN__20171224T230000Z__20171225T000009Z.mseed  This mseed only can be used with 85 batchs. In order to download the data, the batch size must be >= 100. Modify this condition changing 'picker_args':{'batch_size': 100, 'overlap': 0.3, 'length': 60}' parameter.\n",
      "11-14 21:07 [INFO] [Downloader: False] ../out/download/fdsn/downloads/VMM11/CM.VMM11.00.HHZ__20171224T230000Z__20171225T000009Z.mseed  This mseed only can be used with 85 batchs. In order to download the data, the batch size must be >= 100. Modify this condition changing 'picker_args':{'batch_size': 100, 'overlap': 0.3, 'length': 60}' parameter.\n",
      "11-14 21:07 [INFO] [Downloader: False] ../out/download/fdsn/downloads/VMM05/CM.VMM05.00.HHE__20171224T230000Z__20171225T000009Z.mseed  This mseed only can be used with 85 batchs. In order to download the data, the batch size must be >= 100. Modify this condition changing 'picker_args':{'batch_size': 100, 'overlap': 0.3, 'length': 60}' parameter.\n",
      "11-14 21:07 [INFO] [Downloader: False] ../out/download/fdsn/downloads/VMM05/CM.VMM05.00.HHN__20171224T230000Z__20171225T000009Z.mseed  This mseed only can be used with 85 batchs. In order to download the data, the batch size must be >= 100. Modify this condition changing 'picker_args':{'batch_size': 100, 'overlap': 0.3, 'length': 60}' parameter.\n",
      "11-14 21:07 [INFO] [Downloader: False] ../out/download/fdsn/downloads/VMM05/CM.VMM05.00.HHZ__20171224T230000Z__20171225T000009Z.mseed  This mseed only can be used with 85 batchs. In order to download the data, the batch size must be >= 100. Modify this condition changing 'picker_args':{'batch_size': 100, 'overlap': 0.3, 'length': 60}' parameter.\n",
      "11-14 21:07 [INFO] [Downloader: True] ../out/download/fdsn/downloads/PAM/CM.PAM.20.EHE__20171224T225959Z__20171225T005959Z.mseed  \n",
      "11-14 21:07 [INFO] [Downloader: True] ../out/download/fdsn/downloads/PAM/CM.PAM.20.EHN__20171224T225959Z__20171225T005959Z.mseed  \n",
      "11-14 21:07 [INFO] [Downloader: True] ../out/download/fdsn/downloads/PAM/CM.PAM.20.EHZ__20171224T225959Z__20171225T005959Z.mseed  \n",
      "11-14 21:07 [INFO] [Downloader: True] ../out/download/fdsn/downloads/BAR2/CM.BAR2.20.EHZ__20171224T225959Z__20171225T005959Z.mseed  \n"
     ]
    }
   ],
   "source": [
    "mseed_storage = os.path.join(out_download_folder,\"downloads/{station}/{network}.{station}.{location}.{channel}__{starttime}__{endtime}.mseed\")\n",
    "md.download(mseed_storage,\n",
    "            picker_args={\"batch_size\":100,\"overlap\":0.3,\"length\":60},\n",
    "            chunklength_in_sec=7200,n_processor=None)"
   ]
  },
  {
   "cell_type": "markdown",
   "metadata": {},
   "source": [
    "# Download using local archive"
   ]
  },
  {
   "cell_type": "markdown",
   "metadata": {},
   "source": [
    "If you have your own local archive. SeisMonitor could create a LocalClient, and you could use [SDS obspy](https://docs.obspy.org/packages/autogen/obspy.clients.filesystem.sds.Client.html#obspy.clients.filesystem.sds.Client) utilites sucj as [get_waveforms](https://docs.obspy.org/packages/autogen/obspy.clients.filesystem.sds.Client.get_waveforms.html#obspy.clients.filesystem.sds.Client.get_waveforms). Besides you could use Provider utilities as well."
   ]
  },
  {
   "cell_type": "code",
   "execution_count": 9,
   "metadata": {},
   "outputs": [],
   "source": [
    "from SeisMonitor.core.client import LocalClient"
   ]
  },
  {
   "cell_type": "markdown",
   "metadata": {},
   "source": [
    "Just to exemplify, we will use the downloaded data to initialize the **LocalClient**"
   ]
  },
  {
   "cell_type": "code",
   "execution_count": 10,
   "metadata": {},
   "outputs": [
    {
     "name": "stdout",
     "output_type": "stream",
     "text": [
      "<SeisMonitor.core.objects.Provider object at 0x7fb3f6adb990>\n"
     ]
    }
   ],
   "source": [
    "archive = os.path.join(out_download_folder,\"downloads\")\n",
    "my_fmt = \"{station}/{network}.{station}.{location}.{channel}__{starttime}__{endtime}.mseed\"\n",
    "local_client = LocalClient(archive,my_fmt)\n",
    "\n",
    "xml_path = os.path.join(out_download_folder,\"stations\",\"inv.xml\")\n",
    "local_provider = Provider(local_client,sgc_rest,xml=xml_path)\n",
    "print(local_provider)\n"
   ]
  }
 ],
 "metadata": {
  "kernelspec": {
   "display_name": "Python 3.7.9 ('seismonitor')",
   "language": "python",
   "name": "python3"
  },
  "language_info": {
   "codemirror_mode": {
    "name": "ipython",
    "version": 3
   },
   "file_extension": ".py",
   "mimetype": "text/x-python",
   "name": "python",
   "nbconvert_exporter": "python",
   "pygments_lexer": "ipython3",
   "version": "3.7.9"
  },
  "orig_nbformat": 4,
  "vscode": {
   "interpreter": {
    "hash": "9ec6b2e4117db2fcdde95447bbf694d4fe3bc16e1fa9004d0b3bc572a5c0ec19"
   }
  }
 },
 "nbformat": 4,
 "nbformat_minor": 2
}
