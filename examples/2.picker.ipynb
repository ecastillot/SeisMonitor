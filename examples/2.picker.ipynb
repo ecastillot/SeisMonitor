{
 "cells": [
  {
   "cell_type": "markdown",
   "metadata": {},
   "source": [
    "![image](https://github.com/ecastillot/SeisMonitor/blob/master/docs/figures/seismonitor.PNG?raw=true)"
   ]
  },
  {
   "cell_type": "markdown",
   "metadata": {},
   "source": [
    "**This code is necessary on colab to install SeisMonitor.** "
   ]
  },
  {
   "cell_type": "code",
   "execution_count": null,
   "metadata": {},
   "outputs": [],
   "source": [
    "import sys\n",
    "if 'google.colab' in sys.modules:\n",
    "    !pip install SeisMonitor\n",
    "    !pip install git+https://github.com/ecastillot/EQTransformer.git@master\n",
    "    !pip install git+https://github.com/wayneweiqiang/GaMMA.git"
   ]
  },
  {
   "cell_type": "markdown",
   "metadata": {},
   "source": [
    "**Please restart the kernel. It's mandatory to get everything up and running.**"
   ]
  },
  {
   "cell_type": "markdown",
   "metadata": {},
   "source": [
    "Take a look at the example data "
   ]
  },
  {
   "cell_type": "code",
   "execution_count": null,
   "metadata": {},
   "outputs": [],
   "source": [
    "import os\n",
    "import zipfile\n",
    "from SeisMonitor.utils4examples import clone_seismonitor_data\n",
    "\n",
    "dataset = \"../seismonitor_dataset\"\n",
    "\n",
    "clone_seismonitor_data(dataset,branch=\"dataset\")\n",
    "with zipfile.ZipFile(os.path.join(dataset,\"downloads.zip\"), 'r') as zip_ref:\n",
    "    zip_ref.extractall(dataset)\n",
    "\n",
    "downloads = os.path.join(dataset,\"downloads\")\n",
    "stations = os.path.join(dataset,\"stations\")\n",
    "\n",
    "print(\"Dataset dir: \",dataset)\n",
    "print(\"Important folders in your dataset\",[\"downloads\",\"stations\"])\n",
    "print(\"#\"*100)\n",
    "print(\"downloads\")\n",
    "print(\"\\t\",os.listdir(downloads))\n",
    "print(\"stations\")\n",
    "print(\"\\t\",os.listdir(stations))"
   ]
  },
  {
   "cell_type": "markdown",
   "metadata": {},
   "source": [
    "cloning picker models"
   ]
  },
  {
   "cell_type": "code",
   "execution_count": null,
   "metadata": {},
   "outputs": [],
   "source": [
    "from SeisMonitor.utils4examples import clone_seismonitor_data\n",
    "models = \"../picking_models\"\n",
    "clone_seismonitor_data(models,branch=\"models\")\n",
    "\n",
    "print(\"Models dir: \",models)\n",
    "print(\"Important folders in your models\",os.listdir(models))"
   ]
  },
  {
   "cell_type": "markdown",
   "metadata": {},
   "source": [
    "# Picking with EQTransformer"
   ]
  },
  {
   "cell_type": "code",
   "execution_count": null,
   "metadata": {},
   "outputs": [],
   "source": [
    "import os\n",
    "from SeisMonitor.monitor.picker.ai import EQTransformer,EQTransformerObj\n",
    "from SeisMonitor.monitor.picker import utils as piut"
   ]
  },
  {
   "cell_type": "markdown",
   "metadata": {},
   "source": [
    "We create the object: EQTransformerObj, which contains the EQTransformer parameters."
   ]
  },
  {
   "cell_type": "code",
   "execution_count": null,
   "metadata": {},
   "outputs": [],
   "source": [
    "eqt_model = os.path.join(models,\"EQTransformer_models\",\"EqT_model.h5\")\n",
    "eqtobj = EQTransformerObj(eqt_path = None,\n",
    "            model_path=eqt_model,\n",
    "            n_processor = 6,\n",
    "            overlap = 0.3,\n",
    "            detection_threshold =0.1,\n",
    "            P_threshold = 0.01,\n",
    "            S_threshold = 0.01,\n",
    "            batch_size = 20,\n",
    "            number_of_plots = 0,\n",
    "            plot_mode = 1 ) "
   ]
  },
  {
   "cell_type": "markdown",
   "metadata": {},
   "source": [
    "- EQTransformer is instanced with EQTransformerObj.\n",
    "- We use **pick** method to pick seismic phases. The input parameters are:\n",
    "    - Folder where is downloaded the data,\n",
    "    - Folder where is downloaded the metadata \n",
    "    - Output folder from EQTransformer\n",
    "- We use eqt_picks_2_seismonitor_fmt to export seismic phases in specific format util for the rest of the workflow."
   ]
  },
  {
   "cell_type": "code",
   "execution_count": null,
   "metadata": {},
   "outputs": [],
   "source": [
    "out_dir = os.path.join(\"../eqt_picks\")\n",
    "result = os.path.join(\"../eqt_picks\",\"seismonitor_picks.csv\")\n",
    "\n",
    "eqt = EQTransformer(eqtobj)\n",
    "eqt.pick(downloads,stations,out_dir)\n",
    "piut.eqt_picks_2_seismonitor_fmt(out_dir,downloads,result)"
   ]
  },
  {
   "cell_type": "markdown",
   "metadata": {},
   "source": [
    "# Picking with PhaseNet"
   ]
  },
  {
   "cell_type": "code",
   "execution_count": null,
   "metadata": {},
   "outputs": [],
   "source": [
    "import os\n",
    "from SeisMonitor.monitor.picker.ai import PhaseNet,PhaseNetObj\n",
    "from SeisMonitor.monitor.picker import utils as piut"
   ]
  },
  {
   "cell_type": "markdown",
   "metadata": {},
   "source": [
    "Cloning PhaseNet repository to use the original PhaseNet pretrained model"
   ]
  },
  {
   "cell_type": "code",
   "execution_count": null,
   "metadata": {},
   "outputs": [],
   "source": [
    "piut.git_clone_aipicker(name=\"PhaseNet\",repo_dir=OUTPUT)\n",
    "\n",
    "pnet_path = os.path.join(OUTPUT,\"PhaseNet\")\n",
    "if os.path.isdir(pnet_path):\n",
    "    print(True)"
   ]
  },
  {
   "cell_type": "markdown",
   "metadata": {},
   "source": [
    "We create the object: PhaseNetObj, which contains the PhaseNet parameters."
   ]
  },
  {
   "cell_type": "code",
   "execution_count": null,
   "metadata": {},
   "outputs": [],
   "source": [
    "pnetobj = PhaseNetObj(pnet_path,\n",
    "            P_threshold=0.7, S_threshold=0.6,\n",
    "            batch_size=100\n",
    "            ) "
   ]
  },
  {
   "cell_type": "markdown",
   "metadata": {},
   "source": [
    "- PhaseNet is instanced with PhaseNetObj.\n",
    "- We use **pick** method to pick seismic phases. The input parameters are:\n",
    "    - Folder where is downloaded the data,\n",
    "    - Folder where is downloaded the metadata \n",
    "    - Output folder from PhaseNet"
   ]
  },
  {
   "cell_type": "code",
   "execution_count": null,
   "metadata": {},
   "outputs": [],
   "source": [
    "mseed_storage = os.path.join(download_folder,\"archive\")\n",
    "json_dir = os.path.join(download_folder,\"stations\")\n",
    "out_dir = os.path.join(OUTPUT,\"picks\",\"pnet\")\n",
    "result = os.path.join(OUTPUT,\"picks\",\"pnet\",\"seismonitor_picks.csv\")\n",
    "\n",
    "pnet = PhaseNet(pnetobj)\n",
    "pnet.pick(mseed_storage,json_dir,out_dir)"
   ]
  },
  {
   "cell_type": "code",
   "execution_count": null,
   "metadata": {},
   "outputs": [],
   "source": []
  }
 ],
 "metadata": {
  "kernelspec": {
   "display_name": "Python 3.10.10 ('test2')",
   "language": "python",
   "name": "python3"
  },
  "language_info": {
   "codemirror_mode": {
    "name": "ipython",
    "version": 3
   },
   "file_extension": ".py",
   "mimetype": "text/x-python",
   "name": "python",
   "nbconvert_exporter": "python",
   "pygments_lexer": "ipython3",
   "version": "3.10.10"
  },
  "orig_nbformat": 4,
  "vscode": {
   "interpreter": {
    "hash": "a74d57761e21e3f420ede7bd75df8cecbe2e27c0773b80e80e5558f682c0ea38"
   }
  }
 },
 "nbformat": 4,
 "nbformat_minor": 2
}
