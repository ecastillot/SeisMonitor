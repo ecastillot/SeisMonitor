{
 "cells": [
  {
   "cell_type": "markdown",
   "metadata": {},
   "source": [
    "![image](https://github.com/ecastillot/SeisMonitor/blob/master/docs/figures/seismonitor.PNG?raw=true)"
   ]
  },
  {
   "cell_type": "markdown",
   "metadata": {},
   "source": [
    "**This code is necessary on colab to install SeisMonitor.** "
   ]
  },
  {
   "cell_type": "code",
   "execution_count": null,
   "metadata": {},
   "outputs": [],
   "source": [
    "import sys\n",
    "if 'google.colab' in sys.modules:\n",
    "    !pip install SeisMonitor\n",
    "    !pip install git+https://github.com/ecastillot/EQTransformer.git@master\n",
    "    !pip install git+https://github.com/wayneweiqiang/GaMMA.git"
   ]
  },
  {
   "cell_type": "markdown",
   "metadata": {},
   "source": [
    "# Basic inputs"
   ]
  },
  {
   "cell_type": "code",
   "execution_count": 1,
   "metadata": {},
   "outputs": [
    {
     "name": "stderr",
     "output_type": "stream",
     "text": [
      "2023-08-30 18:41:58.913484: I tensorflow/tsl/cuda/cudart_stub.cc:28] Could not find cuda drivers on your machine, GPU will not be used.\n",
      "2023-08-30 18:41:59.114171: I tensorflow/tsl/cuda/cudart_stub.cc:28] Could not find cuda drivers on your machine, GPU will not be used.\n",
      "2023-08-30 18:41:59.120998: I tensorflow/core/platform/cpu_feature_guard.cc:182] This TensorFlow binary is optimized to use available CPU instructions in performance-critical operations.\n",
      "To enable the following instructions: AVX2, in other operations, rebuild TensorFlow with the appropriate compiler flags.\n",
      "2023-08-30 18:42:03.732953: W tensorflow/compiler/tf2tensorrt/utils/py_utils.cc:38] TF-TRT Warning: Could not find TensorRT\n"
     ]
    },
    {
     "data": {
      "text/html": [
       "<div>\n",
       "<style scoped>\n",
       "    .dataframe tbody tr th:only-of-type {\n",
       "        vertical-align: middle;\n",
       "    }\n",
       "\n",
       "    .dataframe tbody tr th {\n",
       "        vertical-align: top;\n",
       "    }\n",
       "\n",
       "    .dataframe thead th {\n",
       "        text-align: right;\n",
       "    }\n",
       "</style>\n",
       "<table border=\"1\" class=\"dataframe\">\n",
       "  <thead>\n",
       "    <tr style=\"text-align: right;\">\n",
       "      <th></th>\n",
       "      <th>depth</th>\n",
       "      <th>vp</th>\n",
       "      <th>rho</th>\n",
       "    </tr>\n",
       "  </thead>\n",
       "  <tbody>\n",
       "    <tr>\n",
       "      <th>0</th>\n",
       "      <td>0</td>\n",
       "      <td>4.8</td>\n",
       "      <td>2.7</td>\n",
       "    </tr>\n",
       "    <tr>\n",
       "      <th>1</th>\n",
       "      <td>4</td>\n",
       "      <td>6.6</td>\n",
       "      <td>2.7</td>\n",
       "    </tr>\n",
       "    <tr>\n",
       "      <th>2</th>\n",
       "      <td>23</td>\n",
       "      <td>7.0</td>\n",
       "      <td>2.7</td>\n",
       "    </tr>\n",
       "    <tr>\n",
       "      <th>3</th>\n",
       "      <td>32</td>\n",
       "      <td>8.0</td>\n",
       "      <td>2.7</td>\n",
       "    </tr>\n",
       "    <tr>\n",
       "      <th>4</th>\n",
       "      <td>40</td>\n",
       "      <td>8.1</td>\n",
       "      <td>2.7</td>\n",
       "    </tr>\n",
       "    <tr>\n",
       "      <th>5</th>\n",
       "      <td>100</td>\n",
       "      <td>8.2</td>\n",
       "      <td>2.7</td>\n",
       "    </tr>\n",
       "    <tr>\n",
       "      <th>6</th>\n",
       "      <td>200</td>\n",
       "      <td>8.3</td>\n",
       "      <td>2.7</td>\n",
       "    </tr>\n",
       "  </tbody>\n",
       "</table>\n",
       "</div>"
      ],
      "text/plain": [
       "   depth   vp  rho\n",
       "0      0  4.8  2.7\n",
       "1      4  6.6  2.7\n",
       "2     23  7.0  2.7\n",
       "3     32  8.0  2.7\n",
       "4     40  8.1  2.7\n",
       "5    100  8.2  2.7\n",
       "6    200  8.3  2.7"
      ]
     },
     "execution_count": 1,
     "metadata": {},
     "output_type": "execute_result"
    }
   ],
   "source": [
    "import os\n",
    "import pandas as pd\n",
    "from SeisMonitor.monitor.picker.ai import EQTransformer,EQTransformerObj\n",
    "from SeisMonitor.monitor.picker import utils as piut\n",
    "from SeisMonitor.monitor.associator.ai import GaMMA,GaMMAObj\n",
    "from SeisMonitor.monitor.associator import utils as asut\n",
    "from SeisMonitor.monitor.locator.nlloc.nlloc import NLLoc\n",
    "from SeisMonitor.monitor.locator import utils as lut\n",
    "from obspy.core.utcdatetime import UTCDateTime\n",
    "from obspy.clients.fdsn import Client as FDSNClient\n",
    "from SeisMonitor.core.objects import WaveformRestrictions,Provider\n",
    "from SeisMonitor.monitor.downloader.seismonitor import MseedDownloader\n",
    "\n",
    "monitor_path = os.path.join(os.path.dirname(os.getcwd()),\"6m\")\n",
    "\n",
    "sgc_rest = WaveformRestrictions(network=\"CM\",\n",
    "                    station=\"URMC,CLEJA,VILL,PRA,ORTC,GARC,FLO2,CHI,YOT\",\n",
    "                    location=\"*\",\n",
    "                    channel=\"*\",\n",
    "                    starttime=UTCDateTime(\"2019-12-24T19:00:00.000000Z\"),\n",
    "                    endtime=UTCDateTime(\"2019-12-24T23:00:00.000000Z\"),\n",
    "                    location_preferences=[\"\",\"00\",\"20\",\"10\",\"40\"],\n",
    "                    channel_preferences=[\"HH\",\"BH\",\"EH\",\"HN\",\"HL\"],\n",
    "                    filter_networks=[], \n",
    "                    filter_stations=[],\n",
    "                    filter_domain= [-83.101,-64.549,-2.229,14.945],\n",
    "                    )\n",
    "sgc_client = FDSNClient('http://sismo.sgc.gov.co:8080')\n",
    "\n",
    "gamma_region = [-76.729, -72.315,1.55, 5.314,0, 150]\n",
    "nlloc_region = [-85, -68,0, 15,-5, 205]\n",
    "nlloc_delta_in_km = 2.5\n",
    "\n",
    "vel_model = {\"depth\":[0,4,23,32,40,100,200],\n",
    "            \"vp\":[4.8,6.6,7,8,8.1,8.2,8.3],\n",
    "            \"rho\":[2.7,2.7,2.7,2.7,2.7,2.7,2.7]}\n",
    "\n",
    "vel_model = pd.DataFrame.from_dict(vel_model)"
   ]
  },
  {
   "cell_type": "markdown",
   "metadata": {},
   "source": [
    "# Downloader"
   ]
  },
  {
   "cell_type": "code",
   "execution_count": 3,
   "metadata": {},
   "outputs": [],
   "source": [
    "\n",
    "sgc_provider = Provider(sgc_client,sgc_rest)\n",
    "md = MseedDownloader(providers=[sgc_provider])\n",
    "\n",
    "stations_path = os.path.join(monitor_path,\"stations\")\n",
    "downloads_path = os.path.join(monitor_path,\"downloads\")\n",
    "mseed_storage = os.path.join(downloads_path,\"{station}/{network}.{station}.{location}.{channel}__{starttime}__{endtime}.mseed\")\n",
    "\n",
    "inv,json = md.make_inv_and_json(stations_path)\n",
    "md.download(mseed_storage,\n",
    "            picker_args={\"batch_size\":100,\n",
    "                        \"overlap\":0.3,\"length\":60},\n",
    "            chunklength_in_sec=7200,n_processor=None)"
   ]
  },
  {
   "cell_type": "markdown",
   "metadata": {},
   "source": [
    "# Picker"
   ]
  },
  {
   "cell_type": "code",
   "execution_count": null,
   "metadata": {},
   "outputs": [],
   "source": [
    "from SeisMonitor.utils4examples import clone_seismonitor_data\n",
    "\n",
    "models = os.path.join(os.path.dirname(os.getcwd()),\"picking_models\")\n",
    "clone_seismonitor_data(models,branch=\"models\")\n",
    "eqt_model = os.path.join(models,\"EQTransformer_models\",\"EqT_model.h5\")\n",
    "\n",
    "print(\"Models dir: \",models)\n",
    "print(\"Important folders in your models\",os.listdir(models))"
   ]
  },
  {
   "cell_type": "code",
   "execution_count": 5,
   "metadata": {},
   "outputs": [],
   "source": [
    "eqt_model = \"/home/emmanuel/AIOBS/SeisMonitor-models/EQTransformer_models/EqT_model.h5\"\n",
    "eqtobj = EQTransformerObj(model_path=eqt_model,\n",
    "            n_processor = 6,\n",
    "            overlap = 0.3,\n",
    "            detection_threshold =0.1,\n",
    "            P_threshold = 0.01,\n",
    "            S_threshold = 0.01,\n",
    "            batch_size = 100,\n",
    "            number_of_plots = 0,\n",
    "            plot_mode = 1 ) \n",
    "\n",
    "out_dir = os.path.join(monitor_path ,\"picks\",\"eqt\")\n",
    "result = os.path.join(monitor_path ,\"picks\",\"eqt\",\"seismonitor_picks.csv\")\n",
    "\n",
    "eqt = EQTransformer(eqtobj)\n",
    "eqt.pick(downloads_path,stations_path,out_dir)\n",
    "piut.eqt_picks_2_seismonitor_fmt(out_dir,downloads_path,result)"
   ]
  },
  {
   "cell_type": "markdown",
   "metadata": {},
   "source": [
    "# Associator"
   ]
  },
  {
   "cell_type": "code",
   "execution_count": 6,
   "metadata": {},
   "outputs": [],
   "source": [
    "\n",
    "gc = GaMMAObj(gamma_region,\"EPSG:3116\",\n",
    "                use_amplitude = False,\n",
    "                use_dbscan=False,\n",
    "                calculate_amp=False)\n",
    "\n",
    "inv = os.path.join(stations_path,\"inv.xml\")\n",
    "gamma_dir = os.path.join(monitor_path,\"gamma_asso\",\"eqt\")\n",
    "\n",
    "g = GaMMA(gc)\n",
    "obspy_catalog, df_catalog,df_picks = g.associate(result,inv,gamma_dir)\n",
    "print(obspy_catalog)"
   ]
  },
  {
   "cell_type": "markdown",
   "metadata": {},
   "source": [
    "# Nlloc"
   ]
  },
  {
   "cell_type": "markdown",
   "metadata": {},
   "source": [
    "installing nlloc for ubuntu machines."
   ]
  },
  {
   "cell_type": "code",
   "execution_count": 8,
   "metadata": {},
   "outputs": [
    {
     "name": "stdout",
     "output_type": "stream",
     "text": [
      "[sudo] contraseña para emmanuel: \n"
     ]
    },
    {
     "ename": "GitCommandError",
     "evalue": "Cmd('git') failed due to: exit code(128)\n  cmdline: git clone -v -- https://github.com/alomax/NonLinLoc.git /opt/NLLoc\n  stderr: 'fatal: could not create work tree dir '/opt/NLLoc': Permission denied\n'",
     "output_type": "error",
     "traceback": [
      "\u001b[0;31m---------------------------------------------------------------------------\u001b[0m",
      "\u001b[0;31mGitCommandError\u001b[0m                           Traceback (most recent call last)",
      "Cell \u001b[0;32mIn[8], line 9\u001b[0m\n\u001b[1;32m      7\u001b[0m   get_ipython()\u001b[39m.\u001b[39msystem(\u001b[39m'\u001b[39m\u001b[39m sudo apt-get install -y cmake\u001b[39m\u001b[39m'\u001b[39m)\n\u001b[1;32m      8\u001b[0m   nlloc_path \u001b[39m=\u001b[39m \u001b[39m\"\u001b[39m\u001b[39m/opt/NLLoc\u001b[39m\u001b[39m\"\u001b[39m\n\u001b[0;32m----> 9\u001b[0m   download_nlloc(nlloc_path)\n\u001b[1;32m     10\u001b[0m   \u001b[39mprint\u001b[39m(\u001b[39m\"\u001b[39m\u001b[39mNLLoc now is working properly\u001b[39m\u001b[39m\"\u001b[39m )\n\u001b[1;32m     11\u001b[0m \u001b[39melse\u001b[39;00m:\n",
      "File \u001b[0;32m~/anaconda3/envs/seismonitor/lib/python3.10/site-packages/SeisMonitor/monitor/locator/nlloc/utils.py:132\u001b[0m, in \u001b[0;36mdownload_nlloc\u001b[0;34m(nlloc_path, forced)\u001b[0m\n\u001b[1;32m    130\u001b[0m     \u001b[39mprint\u001b[39m(\u001b[39m\"\u001b[39m\u001b[39mThere is already\u001b[39m\u001b[39m\"\u001b[39m)\n\u001b[1;32m    131\u001b[0m \u001b[39melse\u001b[39;00m:\n\u001b[0;32m--> 132\u001b[0m     Repo\u001b[39m.\u001b[39;49mclone_from(git_url, nlloc_paths[\u001b[39m'\u001b[39;49m\u001b[39mcore_path\u001b[39;49m\u001b[39m'\u001b[39;49m])\n\u001b[1;32m    134\u001b[0m \u001b[39mif\u001b[39;00m os\u001b[39m.\u001b[39mpath\u001b[39m.\u001b[39misdir(nlloc_paths[\u001b[39m'\u001b[39m\u001b[39mbin_path\u001b[39m\u001b[39m'\u001b[39m]):\n\u001b[1;32m    135\u001b[0m     os\u001b[39m.\u001b[39mrmdir(nlloc_paths[\u001b[39m'\u001b[39m\u001b[39mbin_path\u001b[39m\u001b[39m'\u001b[39m])\n",
      "File \u001b[0;32m~/anaconda3/envs/seismonitor/lib/python3.10/site-packages/git/repo/base.py:1327\u001b[0m, in \u001b[0;36mRepo.clone_from\u001b[0;34m(cls, url, to_path, progress, env, multi_options, allow_unsafe_protocols, allow_unsafe_options, **kwargs)\u001b[0m\n\u001b[1;32m   1325\u001b[0m \u001b[39mif\u001b[39;00m env \u001b[39mis\u001b[39;00m \u001b[39mnot\u001b[39;00m \u001b[39mNone\u001b[39;00m:\n\u001b[1;32m   1326\u001b[0m     git\u001b[39m.\u001b[39mupdate_environment(\u001b[39m*\u001b[39m\u001b[39m*\u001b[39menv)\n\u001b[0;32m-> 1327\u001b[0m \u001b[39mreturn\u001b[39;00m \u001b[39mcls\u001b[39;49m\u001b[39m.\u001b[39;49m_clone(\n\u001b[1;32m   1328\u001b[0m     git,\n\u001b[1;32m   1329\u001b[0m     url,\n\u001b[1;32m   1330\u001b[0m     to_path,\n\u001b[1;32m   1331\u001b[0m     GitCmdObjectDB,\n\u001b[1;32m   1332\u001b[0m     progress,\n\u001b[1;32m   1333\u001b[0m     multi_options,\n\u001b[1;32m   1334\u001b[0m     allow_unsafe_protocols\u001b[39m=\u001b[39;49mallow_unsafe_protocols,\n\u001b[1;32m   1335\u001b[0m     allow_unsafe_options\u001b[39m=\u001b[39;49mallow_unsafe_options,\n\u001b[1;32m   1336\u001b[0m     \u001b[39m*\u001b[39;49m\u001b[39m*\u001b[39;49mkwargs,\n\u001b[1;32m   1337\u001b[0m )\n",
      "File \u001b[0;32m~/anaconda3/envs/seismonitor/lib/python3.10/site-packages/git/repo/base.py:1236\u001b[0m, in \u001b[0;36mRepo._clone\u001b[0;34m(cls, git, url, path, odb_default_type, progress, multi_options, allow_unsafe_protocols, allow_unsafe_options, **kwargs)\u001b[0m\n\u001b[1;32m   1233\u001b[0m     cmdline \u001b[39m=\u001b[39m remove_password_if_present(cmdline)\n\u001b[1;32m   1235\u001b[0m     log\u001b[39m.\u001b[39mdebug(\u001b[39m\"\u001b[39m\u001b[39mCmd(\u001b[39m\u001b[39m%s\u001b[39;00m\u001b[39m)\u001b[39m\u001b[39m'\u001b[39m\u001b[39ms unused stdout: \u001b[39m\u001b[39m%s\u001b[39;00m\u001b[39m\"\u001b[39m, cmdline, stdout)\n\u001b[0;32m-> 1236\u001b[0m     finalize_process(proc, stderr\u001b[39m=\u001b[39;49mstderr)\n\u001b[1;32m   1238\u001b[0m \u001b[39m# our git command could have a different working dir than our actual\u001b[39;00m\n\u001b[1;32m   1239\u001b[0m \u001b[39m# environment, hence we prepend its working dir if required\u001b[39;00m\n\u001b[1;32m   1240\u001b[0m \u001b[39mif\u001b[39;00m \u001b[39mnot\u001b[39;00m osp\u001b[39m.\u001b[39misabs(path):\n",
      "File \u001b[0;32m~/anaconda3/envs/seismonitor/lib/python3.10/site-packages/git/util.py:419\u001b[0m, in \u001b[0;36mfinalize_process\u001b[0;34m(proc, **kwargs)\u001b[0m\n\u001b[1;32m    417\u001b[0m \u001b[39m\u001b[39m\u001b[39m\"\"\"Wait for the process (clone, fetch, pull or push) and handle its errors accordingly\"\"\"\u001b[39;00m\n\u001b[1;32m    418\u001b[0m \u001b[39m# TODO: No close proc-streams??\u001b[39;00m\n\u001b[0;32m--> 419\u001b[0m proc\u001b[39m.\u001b[39;49mwait(\u001b[39m*\u001b[39;49m\u001b[39m*\u001b[39;49mkwargs)\n",
      "File \u001b[0;32m~/anaconda3/envs/seismonitor/lib/python3.10/site-packages/git/cmd.py:604\u001b[0m, in \u001b[0;36mGit.AutoInterrupt.wait\u001b[0;34m(self, stderr)\u001b[0m\n\u001b[1;32m    602\u001b[0m     errstr \u001b[39m=\u001b[39m read_all_from_possibly_closed_stream(p_stderr)\n\u001b[1;32m    603\u001b[0m     log\u001b[39m.\u001b[39mdebug(\u001b[39m\"\u001b[39m\u001b[39mAutoInterrupt wait stderr: \u001b[39m\u001b[39m%r\u001b[39;00m\u001b[39m\"\u001b[39m \u001b[39m%\u001b[39m (errstr,))\n\u001b[0;32m--> 604\u001b[0m     \u001b[39mraise\u001b[39;00m GitCommandError(remove_password_if_present(\u001b[39mself\u001b[39m\u001b[39m.\u001b[39margs), status, errstr)\n\u001b[1;32m    605\u001b[0m \u001b[39mreturn\u001b[39;00m status\n",
      "\u001b[0;31mGitCommandError\u001b[0m: Cmd('git') failed due to: exit code(128)\n  cmdline: git clone -v -- https://github.com/alomax/NonLinLoc.git /opt/NLLoc\n  stderr: 'fatal: could not create work tree dir '/opt/NLLoc': Permission denied\n'"
     ]
    }
   ],
   "source": [
    "import platform\n",
    "from SeisMonitor.monitor.locator.nlloc.utils import download_nlloc\n",
    "if \"linux\" in platform.system().lower():\n",
    "  test = ! lsb_release -a\n",
    "  test = \"__\".join(test)\n",
    "  if \"ubuntu\" in test.lower():\n",
    "    ! sudo apt-get install -y cmake\n",
    "    nlloc_path = \"/opt/NLLoc\"\n",
    "    download_nlloc(nlloc_path)\n",
    "    print(\"NLLoc now is working properly\" )\n",
    "  else:\n",
    "    nlloc_path = None\n",
    "    print(\"NLLoc was not installed using this script. Please install NonLinLoc from: https://github.com/alomax/NonLinLoc\" )\n",
    "else: \n",
    "    nlloc_path = None\n",
    "    print(\"NLLoc was not installed using this script. Please install NonLinLoc from: https://github.com/alomax/NonLinLoc\" )"
   ]
  },
  {
   "cell_type": "code",
   "execution_count": 7,
   "metadata": {},
   "outputs": [
    {
     "ename": "NameError",
     "evalue": "name 'nlloc_path' is not defined",
     "output_type": "error",
     "traceback": [
      "\u001b[0;31m---------------------------------------------------------------------------\u001b[0m",
      "\u001b[0;31mNameError\u001b[0m                                 Traceback (most recent call last)",
      "Cell \u001b[0;32mIn[7], line 8\u001b[0m\n\u001b[1;32m      4\u001b[0m vel_model \u001b[39m=\u001b[39m lut\u001b[39m.\u001b[39mVelModel(vel_model,model_name\u001b[39m=\u001b[39m\u001b[39m\"\u001b[39m\u001b[39mOjeda&Havskov(2004)\u001b[39m\u001b[39m\"\u001b[39m)\n\u001b[1;32m      5\u001b[0m stations \u001b[39m=\u001b[39m lut\u001b[39m.\u001b[39mStations(inv)\n\u001b[1;32m      7\u001b[0m nlloc \u001b[39m=\u001b[39m NLLoc(\n\u001b[0;32m----> 8\u001b[0m         core_path \u001b[39m=\u001b[39m nlloc_path, \u001b[39m### type your NLLoc path, \u001b[39;00m\n\u001b[1;32m      9\u001b[0m         agency\u001b[39m=\u001b[39m\u001b[39m\"\u001b[39m\u001b[39mSeisMonitor\u001b[39m\u001b[39m\"\u001b[39m,\n\u001b[1;32m     10\u001b[0m         region \u001b[39m=\u001b[39m nlloc_region,\n\u001b[1;32m     11\u001b[0m         vel_model \u001b[39m=\u001b[39m vel_model,\n\u001b[1;32m     12\u001b[0m         stations \u001b[39m=\u001b[39m stations,\n\u001b[1;32m     13\u001b[0m         delta_in_km \u001b[39m=\u001b[39m nlloc_delta_in_km,\n\u001b[1;32m     14\u001b[0m         tmp_folder\u001b[39m=\u001b[39mos\u001b[39m.\u001b[39mpath\u001b[39m.\u001b[39mjoin(os\u001b[39m.\u001b[39mgetcwd(),\u001b[39m\"\u001b[39m\u001b[39mNLLoc_grid\u001b[39m\u001b[39m\"\u001b[39m) \u001b[39m### CHANGE PATH TO YOUR OWN PATH AND ALSO TAKE IN MIND THAT CONSUME DISK\u001b[39;00m\n\u001b[1;32m     15\u001b[0m         )\n",
      "\u001b[0;31mNameError\u001b[0m: name 'nlloc_path' is not defined"
     ]
    }
   ],
   "source": [
    "nlloc_out_dir = os.path.join(monitor_path,\"nlloc\")\n",
    "inv = os.path.join(stations_path,\"inv.xml\")\n",
    "\n",
    "vel_model = lut.VelModel(vel_model,model_name=\"myown_vel_model\")\n",
    "stations = lut.Stations(inv)\n",
    "\n",
    "nlloc = NLLoc(\n",
    "        core_path = nlloc_path, ### type your NLLoc path, \n",
    "        agency=\"SeisMonitor\",\n",
    "        region = nlloc_region,\n",
    "        vel_model = vel_model,\n",
    "        stations = stations,\n",
    "        delta_in_km = nlloc_delta_in_km,\n",
    "        tmp_folder=os.path.join(os.getcwd(),\"NLLoc_grid\") ### CHANGE PATH TO YOUR OWN PATH AND ALSO TAKE IN MIND THAT CONSUME DISK\n",
    "        )"
   ]
  },
  {
   "cell_type": "code",
   "execution_count": null,
   "metadata": {},
   "outputs": [],
   "source": [
    "nlloc.compute_travel_times()\n",
    "print(nlloc.tmp_folder)\n",
    "print(\"nlloc.tmp_folder dir: \",nlloc.tmp_folder)\n",
    "print(\"Important folders in nlloc.tmp_folder directory\",os.listdir(nlloc.tmp_folder))"
   ]
  },
  {
   "cell_type": "code",
   "execution_count": null,
   "metadata": {},
   "outputs": [],
   "source": [
    "eqt_catalog = os.path.join(gamma_dir,\"associations.xml\")\n",
    "eqt_nlloc_catalog = nlloc.locate(catalog=eqt_catalog,\n",
    "                            nlloc_out_folder= nlloc_out_dir,\n",
    "                            out_filename = \"LOC.xml\",\n",
    "                            out_format=\"SC3ML\" )\n",
    "print(eqt_nlloc_catalog)"
   ]
  }
 ],
 "metadata": {
  "kernelspec": {
   "display_name": "seismonitor",
   "language": "python",
   "name": "python3"
  },
  "language_info": {
   "codemirror_mode": {
    "name": "ipython",
    "version": 3
   },
   "file_extension": ".py",
   "mimetype": "text/x-python",
   "name": "python",
   "nbconvert_exporter": "python",
   "pygments_lexer": "ipython3",
   "version": "3.10.12"
  },
  "orig_nbformat": 4
 },
 "nbformat": 4,
 "nbformat_minor": 2
}
