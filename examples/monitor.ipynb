{
 "cells": [
  {
   "cell_type": "markdown",
   "metadata": {},
   "source": [
    "![image](https://github.com/ecastillot/SeisMonitor/blob/master/docs/figures/seismonitor.PNG?raw=true)"
   ]
  },
  {
   "cell_type": "markdown",
   "metadata": {},
   "source": [
    "**This code is necessary on colab to install SeisMonitor.** "
   ]
  },
  {
   "cell_type": "code",
   "execution_count": null,
   "metadata": {},
   "outputs": [],
   "source": [
    "import sys\n",
    "if 'google.colab' in sys.modules:\n",
    "    !pip install SeisMonitor\n",
    "    !pip install git+https://github.com/ecastillot/EQTransformer.git@master\n",
    "    !pip install git+https://github.com/wayneweiqiang/GaMMA.git"
   ]
  },
  {
   "cell_type": "markdown",
   "metadata": {},
   "source": [
    "# Basic inputs"
   ]
  },
  {
   "cell_type": "code",
   "execution_count": null,
   "metadata": {},
   "outputs": [],
   "source": [
    "import os\n",
    "import pandas as pd\n",
    "from SeisMonitor.monitor.picker.ai import EQTransformer,EQTransformerObj\n",
    "from SeisMonitor.monitor.picker import utils as piut\n",
    "from SeisMonitor.monitor.associator.ai import GaMMA,GaMMAObj\n",
    "from SeisMonitor.monitor.associator import utils as asut\n",
    "from SeisMonitor.monitor.locator.nlloc.nlloc import NLLoc\n",
    "from SeisMonitor.monitor.locator import utils as lut\n",
    "from obspy.core.utcdatetime import UTCDateTime\n",
    "from obspy.clients.fdsn import Client as FDSNClient\n",
    "from SeisMonitor.core.objects import WaveformRestrictions,Provider\n",
    "from SeisMonitor.monitor.downloader.seismonitor import MseedDownloader\n",
    "\n",
    "monitor_path = os.path.join(os.path.dirname(os.getcwd()),\"6m\")\n",
    "\n",
    "sgc_rest = WaveformRestrictions(network=\"CM\",\n",
    "                    station=\"URMC,CLEJA,VILL,PRA,ORTC,GARC,FLO2,CHI,YOT\",\n",
    "                    location=\"*\",\n",
    "                    channel=\"*\",\n",
    "                    starttime=UTCDateTime(\"2019-12-24T19:00:00.000000Z\"),\n",
    "                    endtime=UTCDateTime(\"2019-12-24T23:00:00.000000Z\"),\n",
    "                    location_preferences=[\"\",\"00\",\"20\",\"10\",\"40\"],\n",
    "                    channel_preferences=[\"HH\",\"BH\",\"EH\",\"HN\",\"HL\"],\n",
    "                    filter_networks=[], \n",
    "                    filter_stations=[],\n",
    "                    filter_domain= [-83.101,-64.549,-2.229,14.945],\n",
    "                    )\n",
    "sgc_client = FDSNClient('http://sismo.sgc.gov.co:8080')\n",
    "\n",
    "gamma_region = [-76.729, -72.315,1.55, 5.314,0, 150]\n",
    "nlloc_region = [-85, -68,0, 15,-5, 205]\n",
    "nlloc_delta_in_km = 2.5\n",
    "\n",
    "vel_model = {\"depth\":[0,4,23,32,40,100,200],\n",
    "            \"vp\":[4.8,6.6,7,8,8.1,8.2,8.3],\n",
    "            \"rho\":[2.7,2.7,2.7,2.7,2.7,2.7,2.7]}\n",
    "\n",
    "vel_model = pd.DataFrame.from_dict(vel_model)"
   ]
  },
  {
   "cell_type": "markdown",
   "metadata": {},
   "source": [
    "# Downloader"
   ]
  },
  {
   "cell_type": "code",
   "execution_count": 3,
   "metadata": {},
   "outputs": [],
   "source": [
    "\n",
    "sgc_provider = Provider(sgc_client,sgc_rest)\n",
    "md = MseedDownloader(providers=[sgc_provider])\n",
    "\n",
    "stations_path = os.path.join(monitor_path,\"stations\")\n",
    "downloads_path = os.path.join(monitor_path,\"downloads\")\n",
    "mseed_storage = os.path.join(downloads_path,\"{station}/{network}.{station}.{location}.{channel}__{starttime}__{endtime}.mseed\")\n",
    "\n",
    "inv,json = md.make_inv_and_json(stations_path)\n",
    "md.download(mseed_storage,\n",
    "            picker_args={\"batch_size\":100,\n",
    "                        \"overlap\":0.3,\"length\":60},\n",
    "            chunklength_in_sec=7200,n_processor=None)"
   ]
  },
  {
   "cell_type": "markdown",
   "metadata": {},
   "source": [
    "# Picker"
   ]
  },
  {
   "cell_type": "code",
   "execution_count": null,
   "metadata": {},
   "outputs": [],
   "source": [
    "from SeisMonitor.utils4examples import clone_seismonitor_data\n",
    "\n",
    "models = os.path.join(os.path.dirname(os.getcwd()),\"picking_models\")\n",
    "clone_seismonitor_data(models,branch=\"models\")\n",
    "eqt_model = os.path.join(models,\"EQTransformer_models\",\"EqT_model.h5\")\n",
    "\n",
    "print(\"Models dir: \",models)\n",
    "print(\"Important folders in your models\",os.listdir(models))"
   ]
  },
  {
   "cell_type": "code",
   "execution_count": 5,
   "metadata": {},
   "outputs": [],
   "source": [
    "eqtobj = EQTransformerObj(model_path=eqt_model,\n",
    "            n_processor = 6,\n",
    "            overlap = 0.3,\n",
    "            detection_threshold =0.1,\n",
    "            P_threshold = 0.01,\n",
    "            S_threshold = 0.01,\n",
    "            batch_size = 100,\n",
    "            number_of_plots = 0,\n",
    "            plot_mode = 1 ) \n",
    "\n",
    "out_dir = os.path.join(monitor_path ,\"picks\",\"eqt\")\n",
    "result = os.path.join(monitor_path ,\"picks\",\"eqt\",\"seismonitor_picks.csv\")\n",
    "\n",
    "eqt = EQTransformer(eqtobj)\n",
    "eqt.pick(downloads_path,stations_path,out_dir)\n",
    "piut.eqt_picks_2_seismonitor_fmt(out_dir,downloads_path,result)"
   ]
  },
  {
   "cell_type": "markdown",
   "metadata": {},
   "source": [
    "# Associator"
   ]
  },
  {
   "cell_type": "code",
   "execution_count": 6,
   "metadata": {},
   "outputs": [],
   "source": [
    "\n",
    "gc = GaMMAObj(gamma_region,\"EPSG:3116\",\n",
    "                use_amplitude = False,\n",
    "                use_dbscan=False,\n",
    "                calculate_amp=False)\n",
    "\n",
    "inv = os.path.join(stations_path,\"inv.xml\")\n",
    "gamma_dir = os.path.join(monitor_path,\"gamma_asso\",\"eqt\")\n",
    "\n",
    "g = GaMMA(gc)\n",
    "obspy_catalog, df_catalog,df_picks = g.associate(result,inv,gamma_dir)\n",
    "print(obspy_catalog)"
   ]
  },
  {
   "cell_type": "markdown",
   "metadata": {},
   "source": [
    "# Nlloc"
   ]
  },
  {
   "cell_type": "markdown",
   "metadata": {},
   "source": [
    "installing nlloc for ubuntu machines."
   ]
  },
  {
   "cell_type": "code",
   "execution_count": null,
   "metadata": {},
   "outputs": [],
   "source": [
    "import platform\n",
    "from SeisMonitor.monitor.locator.nlloc.utils import download_nlloc\n",
    "if \"linux\" in platform.system().lower():\n",
    "  test = ! lsb_release -a\n",
    "  test = \"__\".join(test)\n",
    "  if \"ubuntu\" in test.lower():\n",
    "    ! sudo apt-get install -y cmake\n",
    "    nlloc_path = \"/opt/NLLoc\"\n",
    "    download_nlloc(nlloc_path)\n",
    "    print(\"NLLoc now is working properly\" )\n",
    "  else:\n",
    "    nlloc_path = None\n",
    "    print(\"NLLoc was not installed using this script. Please install NonLinLoc from: https://github.com/alomax/NonLinLoc\" )\n",
    "else: \n",
    "    nlloc_path = None\n",
    "    print(\"NLLoc was not installed using this script. Please install NonLinLoc from: https://github.com/alomax/NonLinLoc\" )"
   ]
  },
  {
   "cell_type": "code",
   "execution_count": null,
   "metadata": {},
   "outputs": [],
   "source": [
    "nlloc_out_dir = os.path.join(monitor_path,\"nlloc\")\n",
    "inv = os.path.join(stations_path,\"inv.xml\")\n",
    "\n",
    "vel_model = lut.VelModel(vel_model,model_name=\"myown_vel_model\")\n",
    "stations = lut.Stations(inv)\n",
    "\n",
    "nlloc = NLLoc(\n",
    "        core_path = nlloc_path, ### type your NLLoc path, \n",
    "        agency=\"SeisMonitor\",\n",
    "        region = nlloc_region,\n",
    "        vel_model = vel_model,\n",
    "        stations = stations,\n",
    "        delta_in_km = nlloc_delta_in_km,\n",
    "        tmp_folder=os.path.join(os.getcwd(),\"NLLoc_grid\") ### CHANGE PATH TO YOUR OWN PATH AND ALSO TAKE IN MIND THAT CONSUME DISK\n",
    "        )"
   ]
  },
  {
   "cell_type": "code",
   "execution_count": null,
   "metadata": {},
   "outputs": [],
   "source": [
    "nlloc.compute_travel_times()\n",
    "print(nlloc.tmp_folder)\n",
    "print(\"nlloc.tmp_folder dir: \",nlloc.tmp_folder)\n",
    "print(\"Important folders in nlloc.tmp_folder directory\",os.listdir(nlloc.tmp_folder))"
   ]
  },
  {
   "cell_type": "code",
   "execution_count": null,
   "metadata": {},
   "outputs": [],
   "source": [
    "eqt_catalog = os.path.join(gamma_dir,\"associations.xml\")\n",
    "eqt_nlloc_catalog = nlloc.locate(catalog=eqt_catalog,\n",
    "                            nlloc_out_folder= nlloc_out_dir,\n",
    "                            out_filename = \"LOC.xml\",\n",
    "                            out_format=\"SC3ML\" )\n",
    "print(eqt_nlloc_catalog)"
   ]
  }
 ],
 "metadata": {
  "kernelspec": {
   "display_name": "seismonitor",
   "language": "python",
   "name": "python3"
  },
  "language_info": {
   "codemirror_mode": {
    "name": "ipython",
    "version": 3
   },
   "file_extension": ".py",
   "mimetype": "text/x-python",
   "name": "python",
   "nbconvert_exporter": "python",
   "pygments_lexer": "ipython3",
   "version": "3.10.12"
  },
  "orig_nbformat": 4
 },
 "nbformat": 4,
 "nbformat_minor": 2
}
