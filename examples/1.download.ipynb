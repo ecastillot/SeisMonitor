{
 "cells": [
  {
   "cell_type": "markdown",
   "metadata": {},
   "source": [
    "![image](https://github.com/ecastillot/SeisMonitor/blob/master/docs/figures/seismonitor.PNG?raw=true)"
   ]
  },
  {
   "cell_type": "markdown",
   "metadata": {},
   "source": [
    "**This code is necessary on colab to install SeisMonitor.** "
   ]
  },
  {
   "cell_type": "code",
   "execution_count": null,
   "metadata": {},
   "outputs": [],
   "source": [
    "!pip install SeisMonitor\n",
    "!pip install git+https://github.com/wayneweiqiang/GaMMA.git"
   ]
  },
  {
   "cell_type": "markdown",
   "metadata": {},
   "source": [
    "Please restart the kernel. It's mandatory to get everything up and running."
   ]
  },
  {
   "cell_type": "markdown",
   "metadata": {},
   "source": [
    "# Download using FDSN"
   ]
  },
  {
   "cell_type": "markdown",
   "metadata": {},
   "source": [
    "SeisMonitor uses MseedDownloader object to download your data according some restrictions defined in a Provider object. \n",
    "\n",
    "Let's started importing three important objects to download the data: MseedDownloader,WaveformRestrictions and Provider. And some others from obspy. "
   ]
  },
  {
   "cell_type": "code",
   "execution_count": 1,
   "metadata": {},
   "outputs": [],
   "source": [
    "import os\n",
    "from obspy.core.utcdatetime import UTCDateTime\n",
    "from obspy.clients.fdsn import Client as FDSNClient\n",
    "from SeisMonitor.core.objects import WaveformRestrictions,Provider\n",
    "from SeisMonitor.monitor.downloader.seismonitor import MseedDownloader"
   ]
  },
  {
   "cell_type": "markdown",
   "metadata": {},
   "source": [
    "Let's define our output folder. Feel free to choose the one you want."
   ]
  },
  {
   "cell_type": "code",
   "execution_count": 3,
   "metadata": {},
   "outputs": [],
   "source": [
    "out_download_folder = \"../out/download/fdsn\""
   ]
  },
  {
   "cell_type": "markdown",
   "metadata": {},
   "source": [
    "We have to define **WaveformRestrictions** object in order to initialize Provider object. \n",
    "\n",
    "WaveformRestrictions saves all restrictions in your waveform data such as parameters that identify the data, the period to download, sensor or channel preferences, some filters by name or by domain. \n",
    "\n",
    "**Let's take a look with the next example !** \n",
    "\n",
    "* We are going to download data from [Colombian Seismological network](https://www.fdsn.org/networks/detail/CM/) whose network code is CM.\n",
    "* We will download the data of all stations whose name begins with the network code VMM and other stations. We don't know very well the sensor type of each station, therefore we will search data for all locations and for all channels.\n",
    "* We set the time of interest throught starttime and endtime parameters.\n",
    "* We want to prioritize broadband seismometer data, otherwise we will look for short period seismoters, acceleremoters, etc.. For this purpose we use location_preferences and channel_preferences(it refers to the instrument type)\n",
    "* Finally, we want to be sure that the stations are in the Colombian region. So we use filter_domain parameter.\n"
   ]
  },
  {
   "cell_type": "code",
   "execution_count": 4,
   "metadata": {},
   "outputs": [],
   "source": [
    "sgc_rest = WaveformRestrictions(network=\"CM\",\n",
    "                    station=\"VMM*,BAR2,PAM,RUS,PDSC\",\n",
    "                    location=\"*\",\n",
    "                    channel=\"*\",\n",
    "                    starttime=UTCDateTime(\"2017-12-24T19:00:00.000000Z\"),\n",
    "                    endtime=UTCDateTime(\"2017-12-25T01:00:00.000000Z\"),\n",
    "                    location_preferences=[\"\",\"00\",\"20\",\"10\",\"40\"],\n",
    "                    channel_preferences=[\"HH\",\"BH\",\"EH\",\"HN\",\"HL\"],\n",
    "                    filter_networks=[], \n",
    "                    filter_stations=[],\n",
    "                    filter_domain= [-83.101,-64.549,-2.229,14.945],\n",
    "                    )"
   ]
  },
  {
   "cell_type": "markdown",
   "metadata": {},
   "source": [
    "Now let's initialize **MseedDownloader** object using **Provider** Object wich in turn uses FDSN Client and WaveformRestrictions.\n",
    "\n",
    "Keep in mind that you can use more than one Provider. It means you could download data using different WaveformRestrictions. However, the downlaoding time period must be the same."
   ]
  },
  {
   "cell_type": "code",
   "execution_count": 6,
   "metadata": {},
   "outputs": [],
   "source": [
    "sgc_client = FDSNClient('http://sismo.sgc.gov.co:8080')\n",
    "sgc_provider = Provider(sgc_client,sgc_rest)\n",
    "md = MseedDownloader(providers=[sgc_provider])"
   ]
  },
  {
   "cell_type": "markdown",
   "metadata": {},
   "source": [
    "MseedDownloader class will download waveform data. Besides it will download xml and json metadata."
   ]
  },
  {
   "cell_type": "code",
   "execution_count": 11,
   "metadata": {},
   "outputs": [
    {
     "name": "stderr",
     "output_type": "stream",
     "text": [
      "11-14 21:45 [INFO] [metadata] running to create inventory and json files\n",
      "11-14 21:45 [INFO] [json] ['CM-PAM', 'CM-RUS', 'CM-BAR2', 'CM-VMM10', 'CM-VMM12', 'CM-VMM11', 'CM-VMM05', 'CM-VMM09', 'CM-VMM07'] ok\n",
      "11-14 21:45 [INFO] [metadata] Total time of execution: 5.324989 seconds\n"
     ]
    }
   ],
   "source": [
    "json_path = os.path.join(out_download_folder,\"stations\")\n",
    "inv,json = md.make_inv_and_json(json_path)"
   ]
  },
  {
   "cell_type": "markdown",
   "metadata": {},
   "source": [
    "We reached the end. Now, let's download data using download method.\n",
    "\n",
    "Take in mind some clarifications in the paramaters:\n",
    "* **mseed_storage**: Path where to store the waveform files. You could use some key words to set the path for downloading.\n",
    "* **chunklength_in_sec**: The length of one chunk in seconds. The time between starttime and endtime will be divided into segments of chunklength_in_sec seconds.\n",
    "* **picker_args**: It's used to know if the stream can be downloaded according to the picker keys. If the the segments given by the length of the stream and overlap parammeter are less than batch_size, then no download the stream.\n",
    "* **n_processor**: Number of threads for downlaoding"
   ]
  },
  {
   "cell_type": "code",
   "execution_count": 8,
   "metadata": {},
   "outputs": [
    {
     "name": "stderr",
     "output_type": "stream",
     "text": [
      "11-14 21:07 [INFO] [Downloader: chunktime] Total chunktime list: 3\n",
      "11-14 21:07 [INFO] [Downloader: False] CM-RUS-*-*-20171224T190000Z-20171224T210000Z->No data available for request.\n",
      "HTTP Status code: 204\n",
      "Detailed response of server:\n",
      "\n",
      "\n",
      "11-14 21:07 [INFO] [Downloader: True] ../out/download/fdsn/downloads/VMM09/CM.VMM09.00.HHE__20171224T190000Z__20171224T210000Z.mseed  \n",
      "11-14 21:07 [INFO] [Downloader: True] ../out/download/fdsn/downloads/VMM09/CM.VMM09.00.HHN__20171224T190000Z__20171224T210000Z.mseed  \n",
      "11-14 21:07 [INFO] [Downloader: True] ../out/download/fdsn/downloads/VMM09/CM.VMM09.00.HHZ__20171224T190000Z__20171224T210000Z.mseed  \n",
      "11-14 21:07 [INFO] [Downloader: True] ../out/download/fdsn/downloads/VMM12/CM.VMM12.00.HHE__20171224T190000Z__20171224T210000Z.mseed  \n",
      "11-14 21:07 [INFO] [Downloader: True] ../out/download/fdsn/downloads/VMM10/CM.VMM10.00.HHE__20171224T190000Z__20171224T210000Z.mseed  \n",
      "11-14 21:07 [INFO] [Downloader: True] ../out/download/fdsn/downloads/VMM12/CM.VMM12.00.HHN__20171224T190000Z__20171224T210000Z.mseed  \n",
      "11-14 21:07 [INFO] [Downloader: True] ../out/download/fdsn/downloads/VMM07/CM.VMM07.00.HHE__20171224T190000Z__20171224T210000Z.mseed  \n",
      "11-14 21:07 [INFO] [Downloader: True] ../out/download/fdsn/downloads/VMM10/CM.VMM10.00.HHN__20171224T190000Z__20171224T210000Z.mseed  \n",
      "11-14 21:07 [INFO] [Downloader: True] ../out/download/fdsn/downloads/VMM12/CM.VMM12.00.HHZ__20171224T190000Z__20171224T210000Z.mseed  \n",
      "11-14 21:07 [INFO] [Downloader: True] ../out/download/fdsn/downloads/VMM07/CM.VMM07.00.HHN__20171224T190000Z__20171224T210000Z.mseed  \n",
      "11-14 21:07 [INFO] [Downloader: True] ../out/download/fdsn/downloads/VMM10/CM.VMM10.00.HHZ__20171224T190000Z__20171224T210000Z.mseed  \n",
      "11-14 21:07 [INFO] [Downloader: True] ../out/download/fdsn/downloads/VMM07/CM.VMM07.00.HHZ__20171224T190000Z__20171224T210000Z.mseed  \n",
      "11-14 21:07 [INFO] [Downloader: True] ../out/download/fdsn/downloads/VMM11/CM.VMM11.00.HHE__20171224T190000Z__20171224T202149Z.mseed  \n",
      "11-14 21:07 [INFO] [Downloader: True] ../out/download/fdsn/downloads/VMM11/CM.VMM11.00.HHN__20171224T190000Z__20171224T202152Z.mseed  \n",
      "11-14 21:07 [INFO] [Downloader: True] ../out/download/fdsn/downloads/VMM11/CM.VMM11.00.HHZ__20171224T190000Z__20171224T202150Z.mseed  \n",
      "11-14 21:07 [INFO] [Downloader: True] ../out/download/fdsn/downloads/VMM05/CM.VMM05.00.HHE__20171224T190000Z__20171224T210000Z.mseed  \n",
      "11-14 21:07 [INFO] [Downloader: True] ../out/download/fdsn/downloads/VMM05/CM.VMM05.00.HHN__20171224T190000Z__20171224T210000Z.mseed  \n",
      "11-14 21:07 [INFO] [Downloader: True] ../out/download/fdsn/downloads/VMM05/CM.VMM05.00.HHZ__20171224T190000Z__20171224T210000Z.mseed  \n",
      "11-14 21:07 [INFO] [Downloader: True] ../out/download/fdsn/downloads/BAR2/CM.BAR2.20.EHZ__20171224T185959Z__20171224T205959Z.mseed  \n",
      "11-14 21:07 [INFO] [Downloader: True] ../out/download/fdsn/downloads/PAM/CM.PAM.20.EHE__20171224T185959Z__20171224T205959Z.mseed  \n",
      "11-14 21:07 [INFO] [Downloader: True] ../out/download/fdsn/downloads/PAM/CM.PAM.20.EHN__20171224T185959Z__20171224T205959Z.mseed  \n",
      "11-14 21:07 [INFO] [Downloader: True] ../out/download/fdsn/downloads/PAM/CM.PAM.20.EHZ__20171224T185959Z__20171224T205959Z.mseed  \n",
      "11-14 21:07 [INFO] [Downloader: False] CM-RUS-*-*-20171224T210000Z-20171224T230000Z->No data available for request.\n",
      "HTTP Status code: 204\n",
      "Detailed response of server:\n",
      "\n",
      "\n",
      "11-14 21:07 [INFO] [Downloader: True] ../out/download/fdsn/downloads/VMM07/CM.VMM07.00.HHE__20171224T210000Z__20171224T230000Z.mseed  \n",
      "11-14 21:07 [INFO] [Downloader: True] ../out/download/fdsn/downloads/VMM10/CM.VMM10.00.HHE__20171224T210000Z__20171224T230000Z.mseed  \n",
      "11-14 21:07 [INFO] [Downloader: True] ../out/download/fdsn/downloads/VMM07/CM.VMM07.00.HHN__20171224T210000Z__20171224T230000Z.mseed  \n",
      "11-14 21:07 [INFO] [Downloader: True] ../out/download/fdsn/downloads/VMM09/CM.VMM09.00.HHE__20171224T210000Z__20171224T230000Z.mseed  \n",
      "11-14 21:07 [INFO] [Downloader: True] ../out/download/fdsn/downloads/VMM10/CM.VMM10.00.HHN__20171224T210000Z__20171224T230000Z.mseed  \n",
      "11-14 21:07 [INFO] [Downloader: True] ../out/download/fdsn/downloads/VMM07/CM.VMM07.00.HHZ__20171224T210000Z__20171224T230000Z.mseed  \n",
      "11-14 21:07 [INFO] [Downloader: True] ../out/download/fdsn/downloads/VMM09/CM.VMM09.00.HHN__20171224T210000Z__20171224T230000Z.mseed  \n",
      "11-14 21:07 [INFO] [Downloader: True] ../out/download/fdsn/downloads/VMM10/CM.VMM10.00.HHZ__20171224T210000Z__20171224T230000Z.mseed  \n",
      "11-14 21:07 [INFO] [Downloader: True] ../out/download/fdsn/downloads/VMM09/CM.VMM09.00.HHZ__20171224T210000Z__20171224T230000Z.mseed  \n",
      "11-14 21:07 [INFO] [Downloader: True] ../out/download/fdsn/downloads/VMM11/CM.VMM11.00.HHE__20171224T210000Z__20171224T230000Z.mseed  \n",
      "11-14 21:07 [INFO] [Downloader: True] ../out/download/fdsn/downloads/VMM12/CM.VMM12.00.HHE__20171224T210000Z__20171224T230000Z.mseed  \n",
      "11-14 21:07 [INFO] [Downloader: True] ../out/download/fdsn/downloads/VMM12/CM.VMM12.00.HHN__20171224T210000Z__20171224T230000Z.mseed  \n",
      "11-14 21:07 [INFO] [Downloader: True] ../out/download/fdsn/downloads/VMM11/CM.VMM11.00.HHN__20171224T210000Z__20171224T230000Z.mseed  \n",
      "11-14 21:07 [INFO] [Downloader: True] ../out/download/fdsn/downloads/VMM12/CM.VMM12.00.HHZ__20171224T210000Z__20171224T230000Z.mseed  \n",
      "11-14 21:07 [INFO] [Downloader: True] ../out/download/fdsn/downloads/VMM11/CM.VMM11.00.HHZ__20171224T210000Z__20171224T230000Z.mseed  \n",
      "11-14 21:07 [INFO] [Downloader: True] ../out/download/fdsn/downloads/VMM05/CM.VMM05.00.HHE__20171224T210000Z__20171224T230000Z.mseed  \n",
      "11-14 21:07 [INFO] [Downloader: True] ../out/download/fdsn/downloads/VMM05/CM.VMM05.00.HHN__20171224T210000Z__20171224T230000Z.mseed  \n",
      "11-14 21:07 [INFO] [Downloader: True] ../out/download/fdsn/downloads/VMM05/CM.VMM05.00.HHZ__20171224T210000Z__20171224T230000Z.mseed  \n",
      "11-14 21:07 [INFO] [Downloader: True] ../out/download/fdsn/downloads/BAR2/CM.BAR2.20.EHZ__20171224T205959Z__20171224T225959Z.mseed  \n",
      "11-14 21:07 [INFO] [Downloader: True] ../out/download/fdsn/downloads/PAM/CM.PAM.20.EHE__20171224T205959Z__20171224T225959Z.mseed  \n",
      "11-14 21:07 [INFO] [Downloader: True] ../out/download/fdsn/downloads/PAM/CM.PAM.20.EHN__20171224T205959Z__20171224T225959Z.mseed  \n",
      "11-14 21:07 [INFO] [Downloader: True] ../out/download/fdsn/downloads/PAM/CM.PAM.20.EHZ__20171224T205959Z__20171224T225959Z.mseed  \n",
      "11-14 21:07 [INFO] [Downloader: False] CM-RUS-*-*-20171224T230000Z-20171225T010000Z->No data available for request.\n",
      "HTTP Status code: 204\n",
      "Detailed response of server:\n",
      "\n",
      "\n",
      "11-14 21:07 [INFO] [Downloader: False] ../out/download/fdsn/downloads/VMM12/CM.VMM12.00.HHE__20171224T230000Z__20171225T000009Z.mseed  This mseed only can be used with 85 batchs. In order to download the data, the batch size must be >= 100. Modify this condition changing 'picker_args':{'batch_size': 100, 'overlap': 0.3, 'length': 60}' parameter.\n",
      "11-14 21:07 [INFO] [Downloader: False] ../out/download/fdsn/downloads/VMM12/CM.VMM12.00.HHN__20171224T230000Z__20171225T000009Z.mseed  This mseed only can be used with 85 batchs. In order to download the data, the batch size must be >= 100. Modify this condition changing 'picker_args':{'batch_size': 100, 'overlap': 0.3, 'length': 60}' parameter.\n",
      "11-14 21:07 [INFO] [Downloader: False] ../out/download/fdsn/downloads/VMM12/CM.VMM12.00.HHZ__20171224T230000Z__20171225T000009Z.mseed  This mseed only can be used with 85 batchs. In order to download the data, the batch size must be >= 100. Modify this condition changing 'picker_args':{'batch_size': 100, 'overlap': 0.3, 'length': 60}' parameter.\n",
      "11-14 21:07 [INFO] [Downloader: False] ../out/download/fdsn/downloads/VMM07/CM.VMM07.00.HHE__20171224T230000Z__20171225T000009Z.mseed  This mseed only can be used with 85 batchs. In order to download the data, the batch size must be >= 100. Modify this condition changing 'picker_args':{'batch_size': 100, 'overlap': 0.3, 'length': 60}' parameter.\n",
      "11-14 21:07 [INFO] [Downloader: False] ../out/download/fdsn/downloads/VMM07/CM.VMM07.00.HHN__20171224T230000Z__20171225T000009Z.mseed  This mseed only can be used with 85 batchs. In order to download the data, the batch size must be >= 100. Modify this condition changing 'picker_args':{'batch_size': 100, 'overlap': 0.3, 'length': 60}' parameter.\n",
      "11-14 21:07 [INFO] [Downloader: False] ../out/download/fdsn/downloads/VMM07/CM.VMM07.00.HHZ__20171224T230000Z__20171225T000009Z.mseed  This mseed only can be used with 85 batchs. In order to download the data, the batch size must be >= 100. Modify this condition changing 'picker_args':{'batch_size': 100, 'overlap': 0.3, 'length': 60}' parameter.\n",
      "11-14 21:07 [INFO] [Downloader: False] ../out/download/fdsn/downloads/VMM10/CM.VMM10.00.HHE__20171224T230000Z__20171225T000009Z.mseed  This mseed only can be used with 85 batchs. In order to download the data, the batch size must be >= 100. Modify this condition changing 'picker_args':{'batch_size': 100, 'overlap': 0.3, 'length': 60}' parameter.\n",
      "11-14 21:07 [INFO] [Downloader: False] ../out/download/fdsn/downloads/VMM10/CM.VMM10.00.HHN__20171224T230000Z__20171225T000009Z.mseed  This mseed only can be used with 85 batchs. In order to download the data, the batch size must be >= 100. Modify this condition changing 'picker_args':{'batch_size': 100, 'overlap': 0.3, 'length': 60}' parameter.\n",
      "11-14 21:07 [INFO] [Downloader: False] ../out/download/fdsn/downloads/VMM10/CM.VMM10.00.HHZ__20171224T230000Z__20171225T000009Z.mseed  This mseed only can be used with 85 batchs. In order to download the data, the batch size must be >= 100. Modify this condition changing 'picker_args':{'batch_size': 100, 'overlap': 0.3, 'length': 60}' parameter.\n",
      "11-14 21:07 [INFO] [Downloader: False] ../out/download/fdsn/downloads/VMM09/CM.VMM09.00.HHE__20171224T230000Z__20171225T000009Z.mseed  This mseed only can be used with 85 batchs. In order to download the data, the batch size must be >= 100. Modify this condition changing 'picker_args':{'batch_size': 100, 'overlap': 0.3, 'length': 60}' parameter.\n",
      "11-14 21:07 [INFO] [Downloader: False] ../out/download/fdsn/downloads/VMM09/CM.VMM09.00.HHN__20171224T230000Z__20171225T000009Z.mseed  This mseed only can be used with 85 batchs. In order to download the data, the batch size must be >= 100. Modify this condition changing 'picker_args':{'batch_size': 100, 'overlap': 0.3, 'length': 60}' parameter.\n",
      "11-14 21:07 [INFO] [Downloader: False] ../out/download/fdsn/downloads/VMM09/CM.VMM09.00.HHZ__20171224T230000Z__20171225T000009Z.mseed  This mseed only can be used with 85 batchs. In order to download the data, the batch size must be >= 100. Modify this condition changing 'picker_args':{'batch_size': 100, 'overlap': 0.3, 'length': 60}' parameter.\n",
      "11-14 21:07 [INFO] [Downloader: False] ../out/download/fdsn/downloads/VMM11/CM.VMM11.00.HHE__20171224T230000Z__20171225T000009Z.mseed  This mseed only can be used with 85 batchs. In order to download the data, the batch size must be >= 100. Modify this condition changing 'picker_args':{'batch_size': 100, 'overlap': 0.3, 'length': 60}' parameter.\n",
      "11-14 21:07 [INFO] [Downloader: False] ../out/download/fdsn/downloads/VMM11/CM.VMM11.00.HHN__20171224T230000Z__20171225T000009Z.mseed  This mseed only can be used with 85 batchs. In order to download the data, the batch size must be >= 100. Modify this condition changing 'picker_args':{'batch_size': 100, 'overlap': 0.3, 'length': 60}' parameter.\n",
      "11-14 21:07 [INFO] [Downloader: False] ../out/download/fdsn/downloads/VMM11/CM.VMM11.00.HHZ__20171224T230000Z__20171225T000009Z.mseed  This mseed only can be used with 85 batchs. In order to download the data, the batch size must be >= 100. Modify this condition changing 'picker_args':{'batch_size': 100, 'overlap': 0.3, 'length': 60}' parameter.\n",
      "11-14 21:07 [INFO] [Downloader: False] ../out/download/fdsn/downloads/VMM05/CM.VMM05.00.HHE__20171224T230000Z__20171225T000009Z.mseed  This mseed only can be used with 85 batchs. In order to download the data, the batch size must be >= 100. Modify this condition changing 'picker_args':{'batch_size': 100, 'overlap': 0.3, 'length': 60}' parameter.\n",
      "11-14 21:07 [INFO] [Downloader: False] ../out/download/fdsn/downloads/VMM05/CM.VMM05.00.HHN__20171224T230000Z__20171225T000009Z.mseed  This mseed only can be used with 85 batchs. In order to download the data, the batch size must be >= 100. Modify this condition changing 'picker_args':{'batch_size': 100, 'overlap': 0.3, 'length': 60}' parameter.\n",
      "11-14 21:07 [INFO] [Downloader: False] ../out/download/fdsn/downloads/VMM05/CM.VMM05.00.HHZ__20171224T230000Z__20171225T000009Z.mseed  This mseed only can be used with 85 batchs. In order to download the data, the batch size must be >= 100. Modify this condition changing 'picker_args':{'batch_size': 100, 'overlap': 0.3, 'length': 60}' parameter.\n",
      "11-14 21:07 [INFO] [Downloader: True] ../out/download/fdsn/downloads/PAM/CM.PAM.20.EHE__20171224T225959Z__20171225T005959Z.mseed  \n",
      "11-14 21:07 [INFO] [Downloader: True] ../out/download/fdsn/downloads/PAM/CM.PAM.20.EHN__20171224T225959Z__20171225T005959Z.mseed  \n",
      "11-14 21:07 [INFO] [Downloader: True] ../out/download/fdsn/downloads/PAM/CM.PAM.20.EHZ__20171224T225959Z__20171225T005959Z.mseed  \n",
      "11-14 21:07 [INFO] [Downloader: True] ../out/download/fdsn/downloads/BAR2/CM.BAR2.20.EHZ__20171224T225959Z__20171225T005959Z.mseed  \n"
     ]
    }
   ],
   "source": [
    "mseed_storage = os.path.join(out_download_folder,\"downloads/{station}/{network}.{station}.{location}.{channel}__{starttime}__{endtime}.mseed\")\n",
    "md.download(mseed_storage,\n",
    "            picker_args={\"batch_size\":100,\"overlap\":0.3,\"length\":60},\n",
    "            chunklength_in_sec=7200,n_processor=None)"
   ]
  },
  {
   "cell_type": "markdown",
   "metadata": {},
   "source": [
    "# Download using local archive"
   ]
  },
  {
   "cell_type": "markdown",
   "metadata": {},
   "source": [
    "If you have your own local archive. SeisMonitor could create a LocalClient, and you could use [SDS obspy](https://docs.obspy.org/packages/autogen/obspy.clients.filesystem.sds.Client.html#obspy.clients.filesystem.sds.Client) utilites sucj as [get_waveforms](https://docs.obspy.org/packages/autogen/obspy.clients.filesystem.sds.Client.get_waveforms.html#obspy.clients.filesystem.sds.Client.get_waveforms). Besides you could use Provider utilities as well."
   ]
  },
  {
   "cell_type": "code",
   "execution_count": 9,
   "metadata": {},
   "outputs": [],
   "source": [
    "from SeisMonitor.core.client import LocalClient"
   ]
  },
  {
   "cell_type": "markdown",
   "metadata": {},
   "source": [
    "Just to exemplify, we will use the downloaded data to initialize the **LocalClient**"
   ]
  },
  {
   "cell_type": "code",
   "execution_count": 10,
   "metadata": {},
   "outputs": [
    {
     "name": "stdout",
     "output_type": "stream",
     "text": [
      "<SeisMonitor.core.objects.Provider object at 0x7fb3f6adb990>\n"
     ]
    }
   ],
   "source": [
    "archive = os.path.join(out_download_folder,\"downloads\")\n",
    "my_fmt = \"{station}/{network}.{station}.{location}.{channel}__{starttime}__{endtime}.mseed\"\n",
    "local_client = LocalClient(archive,my_fmt)\n",
    "\n",
    "xml_path = os.path.join(out_download_folder,\"stations\",\"inv.xml\")\n",
    "local_provider = Provider(local_client,sgc_rest,xml=xml_path)\n",
    "print(local_provider)\n"
   ]
  }
 ],
 "metadata": {
  "kernelspec": {
   "display_name": "Python 3.7.9 ('seismonitor')",
   "language": "python",
   "name": "python3"
  },
  "language_info": {
   "codemirror_mode": {
    "name": "ipython",
    "version": 3
   },
   "file_extension": ".py",
   "mimetype": "text/x-python",
   "name": "python",
   "nbconvert_exporter": "python",
   "pygments_lexer": "ipython3",
   "version": "3.7.9"
  },
  "orig_nbformat": 4,
  "vscode": {
   "interpreter": {
    "hash": "9ec6b2e4117db2fcdde95447bbf694d4fe3bc16e1fa9004d0b3bc572a5c0ec19"
   }
  }
 },
 "nbformat": 4,
 "nbformat_minor": 2
}
