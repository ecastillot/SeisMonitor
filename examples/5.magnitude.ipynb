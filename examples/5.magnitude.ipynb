{
 "cells": [
  {
   "cell_type": "markdown",
   "metadata": {},
   "source": [
    "![image](https://github.com/ecastillot/SeisMonitor/blob/master/docs/figures/seismonitor.PNG?raw=true)"
   ]
  },
  {
   "cell_type": "markdown",
   "metadata": {},
   "source": [
    "**This code is necessary on colab to install SeisMonitor.** "
   ]
  },
  {
   "cell_type": "code",
   "execution_count": null,
   "metadata": {},
   "outputs": [],
   "source": [
    "import sys\n",
    "if 'google.colab' in sys.modules:\n",
    "    !pip install SeisMonitor\n",
    "    !pip install git+https://github.com/ecastillot/EQTransformer.git@master\n",
    "    !pip install git+https://github.com/wayneweiqiang/GaMMA.git"
   ]
  },
  {
   "cell_type": "markdown",
   "metadata": {},
   "source": [
    "**Please restart the kernel. It's mandatory to get everything up and running.**"
   ]
  },
  {
   "cell_type": "markdown",
   "metadata": {},
   "source": [
    "To save time, we prepared one catalog for you. Feel free to see the format"
   ]
  },
  {
   "cell_type": "code",
   "execution_count": null,
   "metadata": {},
   "outputs": [],
   "source": [
    "import os\n",
    "from obspy import read_events\n",
    "from SeisMonitor.utils4examples import clone_seismonitor_data\n",
    "\n",
    "monitor_path = os.path.join(os.path.dirname(os.getcwd()),\"6m\")\n",
    "out_dir = os.path.join(monitor_path,\"Ml\")\n",
    "others = monitor_path = os.path.join(os.path.dirname(os.getcwd()),\"others\")\n",
    "\n",
    "clone_seismonitor_data(others,branch=\"others\")\n",
    "events = os.path.join(others,\"events\")\n",
    "eqt_events = os.path.join(events,\"eqt\")\n",
    "catalog = os.path.join(eqt_events,\"associations.xml\")\n",
    "\n",
    "\n",
    "print(\"events dir: \",events)\n",
    "print(\"Important folders in events directory\",os.listdir(events))\n",
    "print(\"#\"*100)\n",
    "print(\"eqt_events dir: \",eqt_events)\n",
    "print(\"\\tImportant files in eqt_events directory\",os.listdir(eqt_events))\n",
    "print(\"Catalog: \",read_events(catalog,format=\"QUAKEML\"))"
   ]
  },
  {
   "cell_type": "markdown",
   "metadata": {},
   "source": [
    "# Magnitude"
   ]
  },
  {
   "cell_type": "code",
   "execution_count": 1,
   "metadata": {},
   "outputs": [],
   "source": [
    "import os\n",
    "import math\n",
    "from obspy.clients.fdsn import Client as FDSNClient\n",
    "from obspy.core.utcdatetime import UTCDateTime\n",
    "from obspy.core.inventory.inventory import read_inventory\n",
    "from SeisMonitor.monitor.magnitude.mag import Magnitude,MwPhysicalMagParams, MwProcessingMagParams\n",
    "from SeisMonitor.core.objects import WaveformRestrictions,Provider"
   ]
  },
  {
   "cell_type": "markdown",
   "metadata": {},
   "source": [
    "We are going to compute local magnitude ${M}_{l}$ in our catalog. We first need to define three main parameters\n",
    "\n",
    "- **catalog**: XML Path or Catalog object which contains the events \n",
    "- **Provider**: Please take a look in [Downloader](https://colab.research.google.com/github/ecastillot/SeisMonitor/blob/master/examples/1.downloader.ipynb) to know how to instance it.\n",
    "- **out_dir**: Output directory to see your results"
   ]
  },
  {
   "cell_type": "code",
   "execution_count": null,
   "metadata": {},
   "outputs": [],
   "source": [
    "sgc_client = FDSNClient('http://sismo.sgc.gov.co:8080')\n",
    "sgc_rest = WaveformRestrictions(network=\"CM\",\n",
    "                    station=\"*\",\n",
    "                    location=\"*\",\n",
    "                    channel=\"*\",\n",
    "                    starttime=UTCDateTime(\"2019-12-24T19:00:00.000000Z\"), # starttime of your events. \n",
    "                    endtime=UTCDateTime(\"2019-12-25T01:00:00.000000Z\"), # endtime of your events.\n",
    "                    location_preferences=[\"\",\"00\",\"20\",\"10\",\"40\"],\n",
    "                    channel_preferences=[\"HH\",\"BH\",\"EH\",\"HN\",\"HL\"],\n",
    "                    filter_networks=[], \n",
    "                    filter_stations=[],\n",
    "                    filter_domain= [-83.101,-64.549,-2.229,14.945],\n",
    "                    )\n",
    "sgc_client = FDSNClient('http://sismo.sgc.gov.co:8080')\n",
    "sgc_provider = Provider(sgc_client,sgc_rest)\n"
   ]
  },
  {
   "cell_type": "code",
   "execution_count": null,
   "metadata": {},
   "outputs": [],
   "source": [
    "mag = Magnitude([sgc_provider],catalog,out_dir) #catalog,providers,out"
   ]
  },
  {
   "cell_type": "markdown",
   "metadata": {},
   "source": [
    "## ${M}_{l}$\n",
    "\n",
    "$$ {M}_{l}=logA+a*log(r/{r}_{ref} )+b*log(r-{r}_{ref} )+K({r}_{ref})$$\n",
    "\n",
    "- maximum amplitude A in millimeters on the two horizontal components simulating a Wood-Anderson seismograph\n",
    "- a=1.019 related to the geometrical spreading in Colombia\n",
    "- b=0.0016 related to the anelastic attenuation factor in Colombia\n",
    "- ${r}_{ref}=140 km$ is the reference distance  in Colombia that stablishes a common point with the traditional Richter scale in California.\n",
    "- $K({r}_{ref})$ is the base level or the reference magnitude when ${M}_{l}=3 km$\n",
    "\n",
    "Values for Colombia are taken from Rengifo and Carriazo (2004)\n"
   ]
  },
  {
   "cell_type": "markdown",
   "metadata": {},
   "source": [
    "Preparing this equation"
   ]
  },
  {
   "cell_type": "code",
   "execution_count": 3,
   "metadata": {},
   "outputs": [],
   "source": [
    "ml_params = {\"a\":1.019,\"b\":0.0016,\"r_ref\":140} #ojeda\n",
    "\n",
    "k = ml_params[\"a\"]*math.log10(ml_params[\"r_ref\"]/100) +\\\n",
    "                    ml_params[\"b\"]* (ml_params[\"r_ref\"]-100) +3\n",
    "\n",
    "Ml = lambda ampl,epi_dist : math.log10(ampl * 1e3) + ml_params[\"a\"] * math.log10(epi_dist/ml_params[\"r_ref\"]) +\\\n",
    "                                ml_params[\"b\"] * (epi_dist-ml_params[\"r_ref\"]) + k"
   ]
  },
  {
   "cell_type": "markdown",
   "metadata": {},
   "source": [
    "Computing the magnitude"
   ]
  },
  {
   "cell_type": "code",
   "execution_count": null,
   "metadata": {},
   "outputs": [],
   "source": [
    "cat = mag.get_Ml(mag_type=Ml ,\n",
    "            trimmedtime=5, #seconds after pick S to trim the signal\n",
    "            out_format=\"SC3ML\")\n",
    "print(cat)"
   ]
  }
 ],
 "metadata": {
  "kernelspec": {
   "display_name": "Python 3.10.10 ('test2')",
   "language": "python",
   "name": "python3"
  },
  "language_info": {
   "codemirror_mode": {
    "name": "ipython",
    "version": 3
   },
   "file_extension": ".py",
   "mimetype": "text/x-python",
   "name": "python",
   "nbconvert_exporter": "python",
   "pygments_lexer": "ipython3",
   "version": "3.10.10"
  },
  "orig_nbformat": 4,
  "vscode": {
   "interpreter": {
    "hash": "a74d57761e21e3f420ede7bd75df8cecbe2e27c0773b80e80e5558f682c0ea38"
   }
  }
 },
 "nbformat": 4,
 "nbformat_minor": 2
}
