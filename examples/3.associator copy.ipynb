{
 "cells": [
  {
   "cell_type": "markdown",
   "metadata": {},
   "source": [
    "![image](https://github.com/ecastillot/SeisMonitor/blob/master/docs/figures/seismonitor.PNG?raw=true)"
   ]
  },
  {
   "cell_type": "markdown",
   "metadata": {},
   "source": [
    "**This code is necessary on colab to install SeisMonitor.** "
   ]
  },
  {
   "cell_type": "code",
   "execution_count": null,
   "metadata": {},
   "outputs": [],
   "source": [
    "import sys\n",
    "if 'google.colab' in sys.modules:\n",
    "    !pip install SeisMonitor\n",
    "    !pip install git+https://github.com/ecastillot/EQTransformer.git@master\n",
    "    !pip install git+https://github.com/wayneweiqiang/GaMMA.git"
   ]
  },
  {
   "cell_type": "markdown",
   "metadata": {},
   "source": [
    "**Please restart the kernel. It's mandatory to get everything up and running.**"
   ]
  },
  {
   "cell_type": "markdown",
   "metadata": {},
   "source": [
    "Firstable, as we are using colab, we have to download the picks data for this example."
   ]
  },
  {
   "cell_type": "code",
   "execution_count": null,
   "metadata": {},
   "outputs": [],
   "source": [
    "import os\n",
    "from SeisMonitor.utils4examples import clone_seismonitor_data\n",
    "\n",
    "monitor_path = os.path.join(os.path.dirname(os.getcwd()),\"6m\")\n",
    "others = monitor_path = os.path.join(os.path.dirname(os.getcwd()),\"others\")\n",
    "\n",
    "#clone_seismonitor_data(others,branch=\"others\")\n",
    "picks = os.path.join(monitor_path,\"picks\",\"eqt\")\n",
    "stations = os.path.join(monitor_path,\"stations\")\n",
    "\n",
    "\n",
    "print(\"monitor_path dir: \",monitor_path)\n",
    "print(\"Important folders in monitor_path directory\",os.listdir(monitor_path))"
   ]
  },
  {
   "cell_type": "markdown",
   "metadata": {},
   "source": [
    "We will use seismic phases picked by PhaseNet and EQTransformer using the SeisMonitor format. Take a look in [2.picker.ipynb](https://colab.research.google.com/github/ecastillot/SeisMonitor/blob/master/examples/2.picker.ipynb). \n",
    "\n",
    "We will associate those seismic phases using GaMMA."
   ]
  },
  {
   "cell_type": "markdown",
   "metadata": {},
   "source": [
    "# Association with GaMMA"
   ]
  },
  {
   "cell_type": "code",
   "execution_count": null,
   "metadata": {},
   "outputs": [],
   "source": [
    "import os\n",
    "from SeisMonitor.monitor.associator.ai import GaMMA,GaMMAObj\n",
    "from SeisMonitor.monitor.associator import utils as asut"
   ]
  },
  {
   "cell_type": "markdown",
   "metadata": {},
   "source": [
    "We create the object: GaMMAObj, which contains the GaMMA parameters."
   ]
  },
  {
   "cell_type": "code",
   "execution_count": null,
   "metadata": {},
   "outputs": [],
   "source": [
    "region = [-76.729, -72.315,1.55, 5.314,0, 150]\n",
    "gc = GaMMAObj(region,\"EPSG:3116\",\n",
    "                use_amplitude = False,\n",
    "                use_dbscan=False,\n",
    "                calculate_amp=False)"
   ]
  },
  {
   "cell_type": "markdown",
   "metadata": {},
   "source": [
    "- GaMMA is instanced with GaMMAObj.\n",
    "- We use **asociate** method to asociate seismic phases. The input parameters are:\n",
    "    - Picks filepath using seismonitor format.\n",
    "    - Inventory filepath of the seismic network.\n",
    "    - Output folder for GaMMA"
   ]
  },
  {
   "cell_type": "markdown",
   "metadata": {},
   "source": [
    "## Associations for EQTransformer picks"
   ]
  },
  {
   "cell_type": "code",
   "execution_count": null,
   "metadata": {},
   "outputs": [],
   "source": [
    "inv = os.path.join(stations,\"inv.xml\")\n",
    "picks = os.path.join(picks,\"eqt_seismonitor_picks.csv\")\n",
    "out_dir = os.path.join(monitor_path,\"gamma_asso\",\"eqt\")\n",
    "\n",
    "g = GaMMA(gc)\n",
    "obspy_catalog, df_catalog,df_picks = g.associate(picks,inv,out_dir)\n",
    "print(obspy_catalog)"
   ]
  },
  {
   "cell_type": "code",
   "execution_count": null,
   "metadata": {},
   "outputs": [],
   "source": [
    "import matplotlib.pyplot as plt\n",
    "fig = plt.figure(figsize=(10, 10))\n",
    "ax = fig.add_subplot(111)\n",
    "ax.set_aspect(\"equal\")\n",
    "ax.scatter(df_catalog[\"x(km)\"], df_catalog[\"y(km)\"])\n",
    "ax.set_xlabel(\"x(km)\")\n",
    "ax.set_ylabel(\"y(km)\")\n",
    "ax.set_xlim(950,1050)\n",
    "ax.set_ylim(780,880)\n",
    "plt.show()"
   ]
  },
  {
   "cell_type": "markdown",
   "metadata": {},
   "source": [
    "## Associations with PhaseNet"
   ]
  },
  {
   "cell_type": "code",
   "execution_count": null,
   "metadata": {},
   "outputs": [],
   "source": [
    "inv = os.path.join(stations,\"inv.xml\")\n",
    "picks = os.path.join(picks,\"pnet_seismonitor_picks.csv\")\n",
    "out_dir = os.path.join(monitor_path,\"gamma_asso\",\"pnet\")\n",
    "\n",
    "g = GaMMA(gc)\n",
    "obspy_catalog, df_catalog,df_picks = g.associate(picks,inv,out_dir)\n",
    "print(obspy_catalog)"
   ]
  },
  {
   "cell_type": "code",
   "execution_count": null,
   "metadata": {},
   "outputs": [],
   "source": [
    "import matplotlib.pyplot as plt\n",
    "fig = plt.figure(figsize=(10, 10))\n",
    "ax = fig.add_subplot(111)\n",
    "ax.set_aspect(\"equal\")\n",
    "ax.scatter(df_catalog[\"x(km)\"], df_catalog[\"y(km)\"])\n",
    "ax.set_xlabel(\"x(km)\")\n",
    "ax.set_ylabel(\"y(km)\")\n",
    "ax.set_xlim(950,1050)\n",
    "ax.set_ylim(780,880)\n",
    "plt.show()"
   ]
  },
  {
   "cell_type": "code",
   "execution_count": null,
   "metadata": {},
   "outputs": [],
   "source": []
  }
 ],
 "metadata": {
  "kernelspec": {
   "display_name": "Python 3.10.10 ('test2')",
   "language": "python",
   "name": "python3"
  },
  "language_info": {
   "codemirror_mode": {
    "name": "ipython",
    "version": 3
   },
   "file_extension": ".py",
   "mimetype": "text/x-python",
   "name": "python",
   "nbconvert_exporter": "python",
   "pygments_lexer": "ipython3",
   "version": "3.10.10"
  },
  "orig_nbformat": 4,
  "vscode": {
   "interpreter": {
    "hash": "a74d57761e21e3f420ede7bd75df8cecbe2e27c0773b80e80e5558f682c0ea38"
   }
  }
 },
 "nbformat": 4,
 "nbformat_minor": 2
}
