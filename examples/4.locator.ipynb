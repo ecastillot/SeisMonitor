{
 "cells": [
  {
   "cell_type": "markdown",
   "metadata": {},
   "source": [
    "![image](https://github.com/ecastillot/SeisMonitor/blob/master/docs/figures/seismonitor.PNG?raw=true)"
   ]
  },
  {
   "cell_type": "markdown",
   "metadata": {},
   "source": [
    "**This code is necessary on colab to install SeisMonitor.** "
   ]
  },
  {
   "cell_type": "code",
   "execution_count": null,
   "metadata": {},
   "outputs": [],
   "source": [
    "import sys\n",
    "if 'google.colab' in sys.modules:\n",
    "    !pip install SeisMonitor\n",
    "    !pip install git+https://github.com/ecastillot/EQTransformer.git@master\n",
    "    !pip install git+https://github.com/wayneweiqiang/GaMMA.git"
   ]
  },
  {
   "cell_type": "markdown",
   "metadata": {},
   "source": [
    "**Please restart the kernel. It's mandatory to get everything up and running.**"
   ]
  },
  {
   "cell_type": "markdown",
   "metadata": {},
   "source": [
    "Firstable, we need to use some files as input\n",
    "\n",
    "- **velmodel**: CSV file with 1D Velocity model \n",
    "- **stations**: Metadata information. Feel free to use SeisMonitor.monitor.downloader.utils.get_inv_and_json to obtain inv.xml and stations.json information.\n",
    "- **associations**: event.xml\n",
    "\n",
    "Those files could be prepared in [Downloader](https://colab.research.google.com/github/ecastillot/SeisMonitor/blob/master/examples/1.downloader.ipynb), [Associator](https://colab.research.google.com/github/ecastillot/SeisMonitor/blob/master/examples/3.associator.ipynb)\n",
    "\n",
    "\n",
    "To save time, we prepared one example to you. Feel free to see the format"
   ]
  },
  {
   "cell_type": "code",
   "execution_count": null,
   "metadata": {},
   "outputs": [],
   "source": [
    "import os\n",
    "from SeisMonitor.utils4examples import clone_seismonitor_data\n",
    "\n",
    "monitor_path = os.path.join(os.path.dirname(os.getcwd()),\"6m\")\n",
    "others = monitor_path = os.path.join(os.path.dirname(os.getcwd()),\"others\")\n",
    "\n",
    "clone_seismonitor_data(others,branch=\"others\")\n",
    "velmodel = os.path.join(others,\"velmodel\")\n",
    "stations = os.path.join(others,\"stations\")\n",
    "asso = os.path.join(others,\"events\",\"eqt\")\n",
    "\n",
    "\n",
    "print(\"others dir: \",others)\n",
    "print(\"Important folders in others directory\",os.listdir(others))\n",
    "print(\"#\"*100)\n",
    "print(\"velmodel dir: \",velmodel)\n",
    "print(\"\\tImportant files in velmodel directory\",os.listdir(velmodel))\n",
    "print(\"stations dir: \",stations)\n",
    "print(\"\\tImportant files in stations directory\",os.listdir(stations))\n",
    "print(\"asso dir: \",asso)\n",
    "print(\"\\tImportant files in asso directory\",os.listdir(asso))"
   ]
  },
  {
   "cell_type": "markdown",
   "metadata": {},
   "source": [
    "We will locate the seismic events in associations.xml using NonLinLoc"
   ]
  },
  {
   "cell_type": "markdown",
   "metadata": {},
   "source": [
    "# Locate events with NonLinLoc"
   ]
  },
  {
   "cell_type": "code",
   "execution_count": null,
   "metadata": {},
   "outputs": [],
   "source": [
    "import os\n",
    "from SeisMonitor.monitor.locator.nlloc.nlloc import NLLoc\n",
    "from SeisMonitor.monitor.locator import utils as lut"
   ]
  },
  {
   "cell_type": "markdown",
   "metadata": {},
   "source": [
    "We create the next objects: VelModel and Stations to instance NLLoc class."
   ]
  },
  {
   "cell_type": "code",
   "execution_count": null,
   "metadata": {},
   "outputs": [],
   "source": [
    "out_dir = os.path.join(monitor_path,\"nlloc\")\n",
    "vel_path = os.path.join(velmodel,\"vel1d_col.csv\")\n",
    "inv = os.path.join(stations,\"inv.xml\")\n",
    "\n",
    "vel_model = lut.VelModel(vel_path,model_name=\"Ojeda&Havskov(2004)\")\n",
    "stations = lut.Stations(inv)"
   ]
  },
  {
   "cell_type": "markdown",
   "metadata": {},
   "source": [
    "As we are using Colab, we will install NLLoc. Just in case, this procedure has been tested just for linux:Ubuntu20 machines"
   ]
  },
  {
   "cell_type": "code",
   "execution_count": null,
   "metadata": {},
   "outputs": [],
   "source": [
    "import platform\n",
    "from SeisMonitor.monitor.locator.nlloc.utils import download_nlloc\n",
    "if \"linux\" in platform.system().lower():\n",
    "  test = ! lsb_release -a\n",
    "  test = \"__\".join(test)\n",
    "  if \"ubuntu\" in test.lower():\n",
    "    ! sudo apt-get install -y cmake\n",
    "    nlloc_path = \"/opt/NLLoc\"\n",
    "    download_nlloc(nlloc_path)\n",
    "    print(\"NLLoc now is working properly\" )\n",
    "  else:\n",
    "    nlloc_path = None\n",
    "    print(\"NLLoc was not installed using this script. Please install NonLinLoc from: https://github.com/alomax/NonLinLoc\" )\n",
    "else: \n",
    "    nlloc_path = None\n",
    "    print(\"NLLoc was not installed using this script. Please install NonLinLoc from: https://github.com/alomax/NonLinLoc\" )"
   ]
  },
  {
   "cell_type": "markdown",
   "metadata": {},
   "source": [
    "Let's instantiate the NLLoc Class. \n",
    "- tmp folder is the path where we will place all travel times computed by NLLoc. So it will consume a lot of space in yor disk depending on the number of statiosn"
   ]
  },
  {
   "cell_type": "code",
   "execution_count": null,
   "metadata": {},
   "outputs": [],
   "source": [
    "nlloc = NLLoc(\n",
    "        core_path = nlloc_path, ### type your NLLoc path, \n",
    "        agency=\"SeisMonitor\",\n",
    "        region = [-85, -68,0, 15,-5, 205],\n",
    "        vel_model = vel_model,\n",
    "        stations = stations,\n",
    "        delta_in_km = 2.5,\n",
    "        tmp_folder=os.path.join(os.getcwd(),\"NLLoc_grid\") ### CHANGE PATH TO YOUR OWN PATH AND ALSO TAKE IN MIND THAT CONSUME DISK\n",
    "        )"
   ]
  },
  {
   "cell_type": "markdown",
   "metadata": {},
   "source": [
    "let's compute traveltimes for each station in our inventory. Take in mind that it consumes  disk memory depending on the number of stations. **It is going to take several minutes while Nlloc is computing the travel times**"
   ]
  },
  {
   "cell_type": "code",
   "execution_count": null,
   "metadata": {},
   "outputs": [],
   "source": [
    "nlloc.compute_travel_times()\n",
    "print(nlloc.tmp_folder)\n",
    "print(\"nlloc.tmp_folder dir: \",nlloc.tmp_folder)\n",
    "print(\"Important folders in nlloc.tmp_folder directory\",os.listdir(nlloc.tmp_folder))"
   ]
  },
  {
   "cell_type": "markdown",
   "metadata": {},
   "source": [
    "We are ready to locate the events"
   ]
  },
  {
   "cell_type": "code",
   "execution_count": null,
   "metadata": {},
   "outputs": [],
   "source": [
    "eqt_catalog = os.path.join(asso,\"associations.xml\")\n",
    "eqt_nlloc_catalog = nlloc.locate(catalog=eqt_catalog,\n",
    "                            nlloc_out_folder= out_dir,\n",
    "                            out_filename = \"LOC.xml\",\n",
    "                            out_format=\"SC3ML\" )\n",
    "print(eqt_nlloc_catalog)"
   ]
  }
 ],
 "metadata": {
  "kernelspec": {
   "display_name": "Python 3.7.9 ('seismonitor')",
   "language": "python",
   "name": "python3"
  },
  "language_info": {
   "codemirror_mode": {
    "name": "ipython",
    "version": 3
   },
   "file_extension": ".py",
   "mimetype": "text/x-python",
   "name": "python",
   "nbconvert_exporter": "python",
   "pygments_lexer": "ipython3",
   "version": "3.7.9"
  },
  "orig_nbformat": 4,
  "vscode": {
   "interpreter": {
    "hash": "9ec6b2e4117db2fcdde95447bbf694d4fe3bc16e1fa9004d0b3bc572a5c0ec19"
   }
  }
 },
 "nbformat": 4,
 "nbformat_minor": 2
}
