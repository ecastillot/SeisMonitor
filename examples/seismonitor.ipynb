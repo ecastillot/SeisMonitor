{
 "cells": [
  {
   "cell_type": "markdown",
   "metadata": {},
   "source": [
    "# Prepare SeisMonitor\n",
    "Clone some mandatory repositories"
   ]
  },
  {
   "cell_type": "code",
   "execution_count": 1,
   "metadata": {},
   "outputs": [],
   "source": [
    "import os\n",
    "\n",
    "def prepare_seismonitor(seismo_folder):\n",
    "    \"\"\"\n",
    "    Parameters:\n",
    "    -----------\n",
    "    seismo_folder: str\n",
    "        Installation folder path\n",
    "    \"\"\"\n",
    "    eqt = os.path.join(seismo_folder,\"EQTransformer\")\n",
    "    pnet = os.path.join(seismo_folder,\"PhaseNet\")\n",
    "    seismo = os.path.join(seismo_folder,\"SeisMonitor\")\n",
    "\n",
    "    if not os.path.isdir(seismo_folder):\n",
    "        os.makedirs(seismo_folder)\n",
    "    if not os.path.isdir(pnet):\n",
    "        os.makedirs(pnet)\n",
    "        os.system(f\"git clone https://github.com/ecastillot/PhaseNet.git {pnet}\")\n",
    "    if not os.path.isdir(eqt):\n",
    "        os.makedirs(eqt)\n",
    "        os.system(f\"git clone https://github.com/smousavi05/EQTransformer.git {eqt}\")\n",
    "    if not os.path.isdir(seismo):\n",
    "        os.makedirs(seismo)\n",
    "        os.system(f\"git clone https://github.com/ECP-Sismologia/SeisMonitor.git {seismo}\")\n",
    "\n",
    "seismopath = \"/home/emmanuel/test/seismo\"\n",
    "prepare_seismonitor(seismopath)"
   ]
  },
  {
   "cell_type": "markdown",
   "metadata": {},
   "source": [
    "# SeisMonitor\n",
    "Import SeisMonitor in your sys packacges."
   ]
  },
  {
   "cell_type": "code",
   "execution_count": 2,
   "metadata": {},
   "outputs": [],
   "source": [
    "import sys\n",
    "seismonitor = os.path.join(seismopath,\"SeisMonitor\")\n",
    "sys.path.insert(0,seismonitor)"
   ]
  },
  {
   "cell_type": "markdown",
   "metadata": {},
   "source": [
    "- SeisMonitor supports FDSN or SDS clients. \n",
    "- resp file is needed if your client don't have get_stations method\n",
    "- out_folder to save all outputs"
   ]
  },
  {
   "cell_type": "code",
   "execution_count": 3,
   "metadata": {},
   "outputs": [],
   "source": [
    "# route = \"/home/emmanuel/archive/sds\"\n",
    "route = 'http://sismo.sgc.gov.co:8080'\n",
    "resp = os.path.join(\"../data\",\"metadata/CM.xml\")\n",
    "out_folder = \"../out/scanloc/test_VMM\"\n",
    "\n",
    "# outs\n",
    "info_dir = os.path.join(out_folder,'downloads')\n",
    "picks_dir = os.path.join(out_folder,'detections')\n",
    "events_dir = os.path.join(out_folder,'events')\n",
    "\n",
    "## locator parameters (SEISAN software is mandatory to locate events)\n",
    "vel_file = os.path.join(\"../data\",\"vel_model/CM_vel1d.csv\")\n",
    "station0_file = os.path.join(\"../data\",\"CM/STATION0.HYP\")"
   ]
  },
  {
   "cell_type": "code",
   "execution_count": 4,
   "metadata": {},
   "outputs": [],
   "source": [
    "from obspy.clients.fdsn import Client\n",
    "from obspy.core.utcdatetime import UTCDateTime\n",
    "from SeisMonitor.downloader.utils import DownloadRestrictions\n",
    "\n",
    "client = Client(route)\n",
    "restrictions = DownloadRestrictions(network=\"CM\",\n",
    "                          station=\"AGCC,EZNC,SNPBC,MORC,OCNC,SML1C,VMM*,BRR*,LL*\",\n",
    "                          location=\"*\",\n",
    "                          channel=\"*\",\n",
    "                          starttime=UTCDateTime(\"2017-10-15T06:00:00.0\"),\n",
    "                          endtime=UTCDateTime(\"2017-10-15T08:00:00.0\"),\n",
    "                          chunklength_in_sec=43200,\n",
    "                          overlap_in_sec=None,\n",
    "                          groupby='{network}.{station}.{location}',\n",
    "                          threshold=60,\n",
    "                          location_preferences=[\"\",\"00\",\"20\",\"10\"],\n",
    "                          channel_preferences=[\"HH\",\"BH\"],\n",
    "                          to_pick=(10,0.3))                    "
   ]
  },
  {
   "cell_type": "markdown",
   "metadata": {},
   "source": [
    "## EQTransformer"
   ]
  },
  {
   "cell_type": "markdown",
   "metadata": {},
   "source": [
    "### Run"
   ]
  },
  {
   "cell_type": "code",
   "execution_count": 12,
   "metadata": {},
   "outputs": [
    {
     "name": "stderr",
     "output_type": "stream",
     "text": [
      "01-11 19:27 [INFO] [json] running to create json\n",
      "01-11 19:27 [INFO] [json] ['CM-AGCC', 'CM-AGCC', 'CM-EZNC', 'CM-SNPBC', 'CM-OCNC', 'CM-SML1C', 'CM-VMM10', 'CM-VMM09', 'CM-VMM05', 'CM-VMM12', 'CM-VMM11', 'CM-VMM07', 'CM-BRR', 'CM-LL8C', 'CM-LL6C', 'CM-LL5C', 'CM-LL1C', 'CM-LL7C'] ok\n",
      "01-11 19:27 [INFO] [json] Total time of execution: 3.472363 seconds\n",
      "01-11 19:27 [INFO] [Downloader] Running to download\n",
      "01-11 19:27 [INFO] [Downloader: chunktime] Total chunktime list: 1\n",
      "01-11 19:27 [INFO] [Downloader: chunktime] 1 of 1 -> starttime=2017-10-15T06:00:00.000000Z | endtime=2017-10-15T08:00:00.000000Z\n",
      "01-11 19:27 [INFO] [CM-VMM10: ] available:[('00', 'HH?')], selected [('00', 'HH?')] according to preference\n",
      "01-11 19:27 [INFO] [CM-VMM12: ] available:[('00', 'HH?')], selected [('00', 'HH?')] according to preference\n",
      "01-11 19:27 [INFO] [CM-AGCC: ] available:[('00', 'HH?')], selected [('00', 'HH?')] according to preference\n",
      "01-11 19:27 [INFO] [CM-VMM11: ] available:[('00', 'HH?')], selected [('00', 'HH?')] according to preference\n",
      "01-11 19:27 [INFO] [CM-VMM05: ] available:[('00', 'HH?')], selected [('00', 'HH?')] according to preference\n",
      "01-11 19:27 [INFO] [CM-VMM09: ] available:[('00', 'HH?')], selected [('00', 'HH?')] according to preference\n",
      "01-11 19:27 [INFO] [CM-VMM07: ] available:[('00', 'HH?')], selected [('00', 'HH?')] according to preference\n",
      "01-11 19:27 [INFO] [CM-SNPBC: ] available:[('00', 'HH?')], selected [('00', 'HH?')] according to preference\n",
      "01-11 19:27 [INFO] [CM-EZNC: ] available:[('00', 'HH?')], selected [('00', 'HH?')] according to preference\n",
      "01-11 19:27 [ERROR] [Downloader: preference] CM-LL6CNo filter by preference. gaps: 2396\n",
      "01-11 19:27 [INFO] [CM-LL7C: ] available:[('00', 'HH?')], selected [('00', 'HH?')] according to preference\n",
      "01-11 19:27 [INFO] [CM-LL8C: ] available:[('00', 'HH?')], selected [('00', 'HH?')] according to preference\n",
      "01-11 19:27 [ERROR] [Downloader: preference] CM-LL5CNo filter by preference. gaps: 1545\n",
      "01-11 19:27 [INFO] [Downloaded: True] ../out/scanloc/test/downloads/mseed/VMM10/CM.VMM10.00.HHE__20171015T060000Z__20171015T080000Z.mseed  \n",
      "01-11 19:27 [INFO] [Downloaded: True] ../out/scanloc/test/downloads/mseed/VMM12/CM.VMM12.00.HHE__20171015T060000Z__20171015T080000Z.mseed  \n",
      "01-11 19:27 [INFO] [Downloaded: True] ../out/scanloc/test/downloads/mseed/AGCC/CM.AGCC.00.HHE__20171015T060000Z__20171015T080000Z.mseed  \n",
      "01-11 19:27 [INFO] [Downloaded: True] ../out/scanloc/test/downloads/mseed/VMM11/CM.VMM11.00.HHE__20171015T060000Z__20171015T080000Z.mseed  \n",
      "01-11 19:27 [INFO] [Downloaded: True] ../out/scanloc/test/downloads/mseed/VMM05/CM.VMM05.00.HHE__20171015T060000Z__20171015T080000Z.mseed  \n",
      "01-11 19:27 [INFO] [Downloaded: True] ../out/scanloc/test/downloads/mseed/VMM09/CM.VMM09.00.HHE__20171015T060000Z__20171015T080000Z.mseed  \n",
      "01-11 19:27 [INFO] [Downloaded: True] ../out/scanloc/test/downloads/mseed/VMM07/CM.VMM07.00.HHE__20171015T060000Z__20171015T080000Z.mseed  \n",
      "01-11 19:27 [INFO] [Downloaded: True] ../out/scanloc/test/downloads/mseed/SNPBC/CM.SNPBC.00.HHE__20171015T060000Z__20171015T080000Z.mseed  \n",
      "01-11 19:27 [INFO] [Downloaded: True] ../out/scanloc/test/downloads/mseed/EZNC/CM.EZNC.00.HHE__20171015T060000Z__20171015T080000Z.mseed  \n",
      "01-11 19:27 [INFO] [Downloaded: True] ../out/scanloc/test/downloads/mseed/LL6C/CM.LL6C.00.HHE__20171015T060000Z__20171015T080000Z.mseed  \n",
      "01-11 19:27 [INFO] [Downloaded: True] ../out/scanloc/test/downloads/mseed/LL7C/CM.LL7C.00.HHE__20171015T060000Z__20171015T080000Z.mseed  \n",
      "01-11 19:27 [INFO] [Downloaded: True] ../out/scanloc/test/downloads/mseed/LL8C/CM.LL8C.00.HHE__20171015T060000Z__20171015T080000Z.mseed  \n",
      "01-11 19:27 [INFO] [Downloaded: True] ../out/scanloc/test/downloads/mseed/LL5C/CM.LL5C.00.HHE__20171015T060000Z__20171015T080000Z.mseed  \n",
      "01-11 19:27 [INFO] [Downloader: chunktime] Time of execution of chunktime 1: 27.739184 seconds\n",
      "01-11 19:27 [INFO] [Downloader] Total time of execution: 27.740055 seconds\n",
      "01-11 19:27 [INFO] [EQTransformer] Running EQTransformer\n",
      "01-11 19:27 [INFO] [EQTransformer] Running EqTransformer  0.1.58\n",
      "01-11 19:27 [INFO] [EQTransformer] *** Loading the model ...\n",
      "01-11 19:28 [INFO] [EQTransformer] *** Loading is complete!\n",
      "01-11 19:28 [INFO] [EQTransformer] There are files for 13 stations in ../out/scanloc/test/downloads/mseed directory.\n",
      "01-11 19:28 [INFO] [EQTransformer] Started working on AGCC, 1 out of 13 ...\n",
      "01-11 19:28 [INFO] [EQTransformer] 20171015T060000Z__20171015T080000Z.mseed\n"
     ]
    },
    {
     "name": "stdout",
     "output_type": "stream",
     "text": [
      "\n",
      "\n"
     ]
    },
    {
     "name": "stderr",
     "output_type": "stream",
     "text": [
      "01-11 19:28 [INFO] [EQTransformer] Finished the prediction in: 0 hours and 0 minutes and 6.75 seconds.\n",
      "01-11 19:28 [INFO] [EQTransformer] *** Detected: 5 events.\n",
      "01-11 19:28 [INFO] [EQTransformer]  *** Wrote the results into --> \" /home/emmanuel/test/seismo/SeisMonitor/examples/../out/scanloc/test/detections/eqt/AGCC_outputs \"\n",
      "01-11 19:28 [INFO] [EQTransformer] Started working on EZNC, 2 out of 13 ...\n",
      "01-11 19:28 [INFO] [EQTransformer] 20171015T060000Z__20171015T080000Z.mseed\n"
     ]
    },
    {
     "name": "stdout",
     "output_type": "stream",
     "text": [
      "\n",
      "\n"
     ]
    },
    {
     "name": "stderr",
     "output_type": "stream",
     "text": [
      "01-11 19:28 [INFO] [EQTransformer] Finished the prediction in: 0 hours and 0 minutes and 1.69 seconds.\n",
      "01-11 19:28 [INFO] [EQTransformer] *** Detected: 3 events.\n",
      "01-11 19:28 [INFO] [EQTransformer]  *** Wrote the results into --> \" /home/emmanuel/test/seismo/SeisMonitor/examples/../out/scanloc/test/detections/eqt/EZNC_outputs \"\n",
      "01-11 19:28 [INFO] [EQTransformer] Started working on LL5C, 3 out of 13 ...\n",
      "01-11 19:28 [INFO] [EQTransformer] 20171015T060000Z__20171015T080000Z.mseed\n"
     ]
    },
    {
     "name": "stdout",
     "output_type": "stream",
     "text": [
      "\n",
      "\n"
     ]
    },
    {
     "name": "stderr",
     "output_type": "stream",
     "text": [
      "01-11 19:28 [INFO] [EQTransformer] Finished the prediction in: 0 hours and 0 minutes and 1.59 seconds.\n",
      "01-11 19:28 [INFO] [EQTransformer] *** Detected: 2 events.\n",
      "01-11 19:28 [INFO] [EQTransformer]  *** Wrote the results into --> \" /home/emmanuel/test/seismo/SeisMonitor/examples/../out/scanloc/test/detections/eqt/LL5C_outputs \"\n",
      "01-11 19:28 [INFO] [EQTransformer] Started working on LL6C, 4 out of 13 ...\n",
      "01-11 19:28 [INFO] [EQTransformer] 20171015T060000Z__20171015T080000Z.mseed\n"
     ]
    },
    {
     "name": "stdout",
     "output_type": "stream",
     "text": [
      "\n",
      "\n"
     ]
    },
    {
     "name": "stderr",
     "output_type": "stream",
     "text": [
      "01-11 19:28 [INFO] [EQTransformer] Finished the prediction in: 0 hours and 0 minutes and 1.54 seconds.\n",
      "01-11 19:28 [INFO] [EQTransformer] *** Detected: 0 events.\n",
      "01-11 19:28 [INFO] [EQTransformer]  *** Wrote the results into --> \" /home/emmanuel/test/seismo/SeisMonitor/examples/../out/scanloc/test/detections/eqt/LL6C_outputs \"\n",
      "01-11 19:28 [INFO] [EQTransformer] Started working on LL7C, 5 out of 13 ...\n",
      "01-11 19:28 [INFO] [EQTransformer] 20171015T060000Z__20171015T080000Z.mseed\n"
     ]
    },
    {
     "name": "stdout",
     "output_type": "stream",
     "text": [
      "\n",
      "\n"
     ]
    },
    {
     "name": "stderr",
     "output_type": "stream",
     "text": [
      "01-11 19:28 [INFO] [EQTransformer] Finished the prediction in: 0 hours and 0 minutes and 1.73 seconds.\n",
      "01-11 19:28 [INFO] [EQTransformer] *** Detected: 1 events.\n",
      "01-11 19:28 [INFO] [EQTransformer]  *** Wrote the results into --> \" /home/emmanuel/test/seismo/SeisMonitor/examples/../out/scanloc/test/detections/eqt/LL7C_outputs \"\n",
      "01-11 19:28 [INFO] [EQTransformer] Started working on LL8C, 6 out of 13 ...\n",
      "01-11 19:28 [INFO] [EQTransformer] 20171015T060000Z__20171015T080000Z.mseed\n"
     ]
    },
    {
     "name": "stdout",
     "output_type": "stream",
     "text": [
      "\n",
      "\n"
     ]
    },
    {
     "name": "stderr",
     "output_type": "stream",
     "text": [
      "01-11 19:28 [INFO] [EQTransformer] Finished the prediction in: 0 hours and 0 minutes and 1.81 seconds.\n",
      "01-11 19:28 [INFO] [EQTransformer] *** Detected: 0 events.\n",
      "01-11 19:28 [INFO] [EQTransformer]  *** Wrote the results into --> \" /home/emmanuel/test/seismo/SeisMonitor/examples/../out/scanloc/test/detections/eqt/LL8C_outputs \"\n",
      "01-11 19:28 [INFO] [EQTransformer] Started working on SNPBC, 7 out of 13 ...\n",
      "01-11 19:28 [INFO] [EQTransformer] 20171015T060000Z__20171015T080000Z.mseed\n"
     ]
    },
    {
     "name": "stdout",
     "output_type": "stream",
     "text": [
      "\n",
      "\n"
     ]
    },
    {
     "name": "stderr",
     "output_type": "stream",
     "text": [
      "01-11 19:28 [INFO] [EQTransformer] Finished the prediction in: 0 hours and 0 minutes and 1.75 seconds.\n",
      "01-11 19:28 [INFO] [EQTransformer] *** Detected: 11 events.\n",
      "01-11 19:28 [INFO] [EQTransformer]  *** Wrote the results into --> \" /home/emmanuel/test/seismo/SeisMonitor/examples/../out/scanloc/test/detections/eqt/SNPBC_outputs \"\n",
      "01-11 19:28 [INFO] [EQTransformer] Started working on VMM05, 8 out of 13 ...\n",
      "01-11 19:28 [INFO] [EQTransformer] 20171015T060000Z__20171015T080000Z.mseed\n"
     ]
    },
    {
     "name": "stdout",
     "output_type": "stream",
     "text": [
      "\n",
      "\n"
     ]
    },
    {
     "name": "stderr",
     "output_type": "stream",
     "text": [
      "01-11 19:28 [INFO] [EQTransformer] Finished the prediction in: 0 hours and 0 minutes and 1.59 seconds.\n",
      "01-11 19:28 [INFO] [EQTransformer] *** Detected: 0 events.\n",
      "01-11 19:28 [INFO] [EQTransformer]  *** Wrote the results into --> \" /home/emmanuel/test/seismo/SeisMonitor/examples/../out/scanloc/test/detections/eqt/VMM05_outputs \"\n",
      "01-11 19:28 [INFO] [EQTransformer] Started working on VMM07, 9 out of 13 ...\n",
      "01-11 19:28 [INFO] [EQTransformer] 20171015T060000Z__20171015T080000Z.mseed\n"
     ]
    },
    {
     "name": "stdout",
     "output_type": "stream",
     "text": [
      "\n",
      "\n"
     ]
    },
    {
     "name": "stderr",
     "output_type": "stream",
     "text": [
      "01-11 19:28 [INFO] [EQTransformer] Finished the prediction in: 0 hours and 0 minutes and 1.75 seconds.\n",
      "01-11 19:28 [INFO] [EQTransformer] *** Detected: 9 events.\n",
      "01-11 19:28 [INFO] [EQTransformer]  *** Wrote the results into --> \" /home/emmanuel/test/seismo/SeisMonitor/examples/../out/scanloc/test/detections/eqt/VMM07_outputs \"\n",
      "01-11 19:28 [INFO] [EQTransformer] Started working on VMM09, 10 out of 13 ...\n",
      "01-11 19:28 [INFO] [EQTransformer] 20171015T060000Z__20171015T080000Z.mseed\n"
     ]
    },
    {
     "name": "stdout",
     "output_type": "stream",
     "text": [
      "\n",
      "\n"
     ]
    },
    {
     "name": "stderr",
     "output_type": "stream",
     "text": [
      "01-11 19:28 [INFO] [EQTransformer] Finished the prediction in: 0 hours and 0 minutes and 1.69 seconds.\n",
      "01-11 19:28 [INFO] [EQTransformer] *** Detected: 10 events.\n",
      "01-11 19:28 [INFO] [EQTransformer]  *** Wrote the results into --> \" /home/emmanuel/test/seismo/SeisMonitor/examples/../out/scanloc/test/detections/eqt/VMM09_outputs \"\n",
      "01-11 19:28 [INFO] [EQTransformer] Started working on VMM10, 11 out of 13 ...\n",
      "01-11 19:28 [INFO] [EQTransformer] 20171015T060000Z__20171015T080000Z.mseed\n"
     ]
    },
    {
     "name": "stdout",
     "output_type": "stream",
     "text": [
      "\n",
      "\n"
     ]
    },
    {
     "name": "stderr",
     "output_type": "stream",
     "text": [
      "01-11 19:28 [INFO] [EQTransformer] Finished the prediction in: 0 hours and 0 minutes and 1.91 seconds.\n",
      "01-11 19:28 [INFO] [EQTransformer] *** Detected: 10 events.\n",
      "01-11 19:28 [INFO] [EQTransformer]  *** Wrote the results into --> \" /home/emmanuel/test/seismo/SeisMonitor/examples/../out/scanloc/test/detections/eqt/VMM10_outputs \"\n",
      "01-11 19:28 [INFO] [EQTransformer] Started working on VMM11, 12 out of 13 ...\n",
      "01-11 19:28 [INFO] [EQTransformer] 20171015T060000Z__20171015T080000Z.mseed\n"
     ]
    },
    {
     "name": "stdout",
     "output_type": "stream",
     "text": [
      "\n",
      "\n"
     ]
    },
    {
     "name": "stderr",
     "output_type": "stream",
     "text": [
      "01-11 19:28 [INFO] [EQTransformer] Finished the prediction in: 0 hours and 0 minutes and 1.75 seconds.\n",
      "01-11 19:28 [INFO] [EQTransformer] *** Detected: 13 events.\n",
      "01-11 19:28 [INFO] [EQTransformer]  *** Wrote the results into --> \" /home/emmanuel/test/seismo/SeisMonitor/examples/../out/scanloc/test/detections/eqt/VMM11_outputs \"\n",
      "01-11 19:28 [INFO] [EQTransformer] Started working on VMM12, 13 out of 13 ...\n",
      "01-11 19:28 [INFO] [EQTransformer] 20171015T060000Z__20171015T080000Z.mseed\n"
     ]
    },
    {
     "name": "stdout",
     "output_type": "stream",
     "text": [
      "\n",
      "\n"
     ]
    },
    {
     "name": "stderr",
     "output_type": "stream",
     "text": [
      "01-11 19:28 [INFO] [EQTransformer] Finished the prediction in: 0 hours and 0 minutes and 1.73 seconds.\n",
      "01-11 19:28 [INFO] [EQTransformer] *** Detected: 4 events.\n",
      "01-11 19:28 [INFO] [EQTransformer]  *** Wrote the results into --> \" /home/emmanuel/test/seismo/SeisMonitor/examples/../out/scanloc/test/detections/eqt/VMM12_outputs \"\n",
      "01-11 19:28 [INFO] [EQTransformer] Total time of execution: 57.696362 seconds\n",
      "  0%|          | 0/480 [00:00<?, ?it/s]"
     ]
    },
    {
     "name": "stdout",
     "output_type": "stream",
     "text": [
      "reading AGCC_outputs ...\n",
      "reading EZNC_outputs ...\n",
      "reading LL5C_outputs ...\n",
      "reading LL6C_outputs ...\n",
      "reading LL7C_outputs ...\n",
      "reading LL8C_outputs ...\n",
      "reading SNPBC_outputs ...\n",
      "reading VMM05_outputs ...\n",
      "reading VMM07_outputs ...\n",
      "reading VMM09_outputs ...\n",
      "reading VMM10_outputs ...\n",
      "reading VMM11_outputs ...\n",
      "reading VMM12_outputs ...\n"
     ]
    },
    {
     "name": "stderr",
     "output_type": "stream",
     "text": [
      " 86%|████████▋ | 415/480 [00:00<00:00, 1298.18it/s]"
     ]
    },
    {
     "name": "stdout",
     "output_type": "stream",
     "text": [
      "The Number of Associated Events: 5\n",
      "\n",
      "5 Event(s) in Catalog:\n",
      "2017-10-15T06:35:11.670000Z |  +0.000,   +0.000\n",
      "2017-10-15T06:47:16.580000Z |  +0.000,   +0.000\n",
      "2017-10-15T06:51:56.480000Z |  +0.000,   +0.000\n",
      "2017-10-15T06:57:24.000000Z |  +0.000,   +0.000\n",
      "2017-10-15T07:37:29.650000Z |  +0.000,   +0.000\n"
     ]
    },
    {
     "name": "stderr",
     "output_type": "stream",
     "text": [
      "100%|██████████| 480/480 [00:20<00:00, 1298.18it/s]"
     ]
    }
   ],
   "source": [
    "from SeisMonitor.scanloc.utils import EQTobj\n",
    "from SeisMonitor.scanloc.monitor import Monitor\n",
    "\n",
    "eqt_model = os.path.join(seismopath,'EQTransformer/ModelsAndSampleData/EqT_model.h5')\n",
    "eqtobj = EQTobj(model_path = eqt_model,\n",
    "            chunk_size = 3600,\n",
    "            n_processor = 4,\n",
    "            overlap = 0.3,\n",
    "            detection_threshold =0.1,\n",
    "            P_threshold = 0.01,\n",
    "            S_threshold = 0.01,\n",
    "            batch_size = 10,\n",
    "            number_of_plots = 1,\n",
    "            plot_mode = 1 )  \n",
    "            \n",
    "monitor = Monitor(providers = [client],\n",
    "                    restrictions=restrictions,\n",
    "                    info_dir=info_dir,\n",
    "                    picks_dir=picks_dir,\n",
    "                    events_dir=events_dir)\n",
    "\n",
    "monitor.make_json(from_xml=resp)\n",
    "monitor.download()\n",
    "monitor.eqt_picker(eqtobj,rm_downloads=False)\n",
    "monitor.eqt_associator()"
   ]
  },
  {
   "cell_type": "markdown",
   "metadata": {},
   "source": [
    "### outs"
   ]
  },
  {
   "cell_type": "code",
   "execution_count": 13,
   "metadata": {},
   "outputs": [
    {
     "data": {
      "text/plain": [
       "['traceNmae_dic.json',\n",
       " 'Y2000.phs',\n",
       " 'associations.xml',\n",
       " 'LL6C_outputs',\n",
       " 'VMM11_outputs',\n",
       " 'LL7C_outputs',\n",
       " 'SNPBC_outputs',\n",
       " 'EZNC_outputs',\n",
       " 'VMM05_outputs',\n",
       " 'VMM09_outputs',\n",
       " 'AGCC_outputs',\n",
       " 'LL5C_outputs',\n",
       " 'LL8C_outputs',\n",
       " 'VMM12_outputs',\n",
       " 'VMM10_outputs',\n",
       " 'VMM07_outputs']"
      ]
     },
     "execution_count": 13,
     "metadata": {},
     "output_type": "execute_result"
    }
   ],
   "source": [
    "eqt_detections = os.path.join(out_folder,\"detections\",\"eqt\")\n",
    "os.listdir(eqt_detections)"
   ]
  },
  {
   "cell_type": "markdown",
   "metadata": {},
   "source": [
    "## PhaseNet"
   ]
  },
  {
   "cell_type": "markdown",
   "metadata": {},
   "source": [
    "### run\n",
    "PhaseNet take more time because there are 3000 samples + all overlaped windows. Furthermore, It cosumes much more RAM.\n",
    "\n",
    "PhaseNet parallelize by stations and not by all overlaped windows in one station. Then, It consumes more time and more RAM.\n",
    "\n",
    "*PhaseNet is really useful for local networks*"
   ]
  },
  {
   "cell_type": "code",
   "execution_count": 14,
   "metadata": {},
   "outputs": [
    {
     "name": "stderr",
     "output_type": "stream",
     "text": [
      "01-11 19:29 [INFO] [json] running to create json\n",
      "100%|██████████| 480/480 [00:54<00:00,  8.78it/s]  \n",
      "01-11 19:29 [INFO] [json] ['CM-AGCC', 'CM-AGCC', 'CM-EZNC', 'CM-SNPBC', 'CM-OCNC', 'CM-SML1C', 'CM-VMM10', 'CM-VMM09', 'CM-VMM05', 'CM-VMM12', 'CM-VMM11', 'CM-VMM07', 'CM-BRR', 'CM-LL8C', 'CM-LL6C', 'CM-LL5C', 'CM-LL1C', 'CM-LL7C'] ok\n",
      "01-11 19:29 [INFO] [json] Total time of execution: 2.642949 seconds\n",
      "01-11 19:29 [INFO] [Downloader] Running to download\n",
      "01-11 19:29 [INFO] [Downloader: chunktime] Total chunktime list: 1\n",
      "01-11 19:29 [INFO] [Downloader: chunktime] 1 of 1 -> starttime=2017-10-15T06:00:00.000000Z | endtime=2017-10-15T08:00:00.000000Z\n",
      "01-11 19:29 [INFO] [CM-VMM10: ] available:[('00', 'HH?')], selected [('00', 'HH?')] according to preference\n",
      "01-11 19:29 [INFO] [CM-VMM12: ] available:[('00', 'HH?')], selected [('00', 'HH?')] according to preference\n",
      "01-11 19:29 [INFO] [CM-AGCC: ] available:[('00', 'HH?')], selected [('00', 'HH?')] according to preference\n",
      "01-11 19:29 [INFO] [CM-VMM11: ] available:[('00', 'HH?')], selected [('00', 'HH?')] according to preference\n",
      "01-11 19:29 [INFO] [CM-VMM05: ] available:[('00', 'HH?')], selected [('00', 'HH?')] according to preference\n",
      "01-11 19:29 [INFO] [CM-VMM09: ] available:[('00', 'HH?')], selected [('00', 'HH?')] according to preference\n",
      "01-11 19:29 [INFO] [CM-VMM07: ] available:[('00', 'HH?')], selected [('00', 'HH?')] according to preference\n",
      "01-11 19:29 [INFO] [CM-SNPBC: ] available:[('00', 'HH?')], selected [('00', 'HH?')] according to preference\n",
      "01-11 19:29 [INFO] [CM-EZNC: ] available:[('00', 'HH?')], selected [('00', 'HH?')] according to preference\n",
      "01-11 19:29 [ERROR] [Downloader: preference] CM-LL6CNo filter by preference. gaps: 2396\n",
      "01-11 19:29 [INFO] [CM-LL7C: ] available:[('00', 'HH?')], selected [('00', 'HH?')] according to preference\n",
      "01-11 19:29 [INFO] [CM-LL8C: ] available:[('00', 'HH?')], selected [('00', 'HH?')] according to preference\n",
      "01-11 19:29 [ERROR] [Downloader: preference] CM-LL5CNo filter by preference. gaps: 1545\n",
      "01-11 19:29 [INFO] [Downloaded: Exist] ../out/scanloc/test/downloads/mseed/VMM10/CM.VMM10.00.HHE__20171015T060000Z__20171015T080000Z.mseed  \n",
      "01-11 19:29 [INFO] [Downloaded: Exist] ../out/scanloc/test/downloads/mseed/VMM12/CM.VMM12.00.HHE__20171015T060000Z__20171015T080000Z.mseed  \n",
      "01-11 19:29 [INFO] [Downloaded: Exist] ../out/scanloc/test/downloads/mseed/AGCC/CM.AGCC.00.HHE__20171015T060000Z__20171015T080000Z.mseed  \n",
      "01-11 19:29 [INFO] [Downloaded: Exist] ../out/scanloc/test/downloads/mseed/VMM11/CM.VMM11.00.HHE__20171015T060000Z__20171015T080000Z.mseed  \n",
      "01-11 19:29 [INFO] [Downloaded: Exist] ../out/scanloc/test/downloads/mseed/VMM05/CM.VMM05.00.HHE__20171015T060000Z__20171015T080000Z.mseed  \n",
      "01-11 19:29 [INFO] [Downloaded: Exist] ../out/scanloc/test/downloads/mseed/VMM09/CM.VMM09.00.HHE__20171015T060000Z__20171015T080000Z.mseed  \n",
      "01-11 19:29 [INFO] [Downloaded: Exist] ../out/scanloc/test/downloads/mseed/VMM07/CM.VMM07.00.HHE__20171015T060000Z__20171015T080000Z.mseed  \n",
      "01-11 19:29 [INFO] [Downloaded: Exist] ../out/scanloc/test/downloads/mseed/SNPBC/CM.SNPBC.00.HHE__20171015T060000Z__20171015T080000Z.mseed  \n",
      "01-11 19:29 [INFO] [Downloaded: Exist] ../out/scanloc/test/downloads/mseed/EZNC/CM.EZNC.00.HHE__20171015T060000Z__20171015T080000Z.mseed  \n",
      "01-11 19:29 [INFO] [Downloaded: Exist] ../out/scanloc/test/downloads/mseed/LL6C/CM.LL6C.00.HHE__20171015T060000Z__20171015T080000Z.mseed  \n",
      "01-11 19:29 [INFO] [Downloaded: Exist] ../out/scanloc/test/downloads/mseed/LL7C/CM.LL7C.00.HHE__20171015T060000Z__20171015T080000Z.mseed  \n",
      "01-11 19:29 [INFO] [Downloaded: Exist] ../out/scanloc/test/downloads/mseed/LL8C/CM.LL8C.00.HHE__20171015T060000Z__20171015T080000Z.mseed  \n",
      "01-11 19:29 [INFO] [Downloaded: Exist] ../out/scanloc/test/downloads/mseed/LL5C/CM.LL5C.00.HHE__20171015T060000Z__20171015T080000Z.mseed  \n",
      "01-11 19:29 [INFO] [Downloader: chunktime] Time of execution of chunktime 1: 10.300692 seconds\n",
      "01-11 19:29 [INFO] [Downloader] Total time of execution: 10.301877 seconds\n",
      "01-11 19:29 [INFO] [mv_onefolder: ] Done: CM-EZNC\n",
      "01-11 19:29 [INFO] [mv_onefolder: ] Done: CM-VMM05\n",
      "01-11 19:29 [INFO] [mv_onefolder: ] Done: CM-LL7C\n",
      "01-11 19:29 [INFO] [mv_onefolder: ] Done: CM-VMM10\n",
      "01-11 19:29 [INFO] [mv_onefolder: ] Done: CM-SNPBC\n",
      "01-11 19:29 [INFO] [mv_onefolder: ] Done: CM-VMM12\n",
      "01-11 19:29 [INFO] [mv_onefolder: ] Done: CM-VMM11\n",
      "01-11 19:29 [INFO] [mv_onefolder: ] Done: CM-LL5C\n",
      "01-11 19:29 [INFO] [mv_onefolder: ] Done: CM-VMM09\n",
      "01-11 19:29 [INFO] [mv_onefolder: ] Done: CM-LL6C\n",
      "01-11 19:29 [INFO] [mv_onefolder: ] Done: CM-VMM07\n",
      "01-11 19:29 [INFO] [mv_onefolder: ] Done: CM-LL8C\n",
      "01-11 19:29 [INFO] [mv_onefolder: ] Done: CM-AGCC\n",
      "01-11 19:29 [INFO] [PhaseNet: datalist] Running to create datalist\n",
      "01-11 19:29 [INFO] [PhaseNet: datalist] CM.LL8C.00.HHE__20171015T060000Z__20171015T080000Z.mseed ok\n",
      "01-11 19:29 [INFO] [PhaseNet: datalist] CM.LL5C.00.HHE__20171015T060000Z__20171015T080000Z.mseed ok\n",
      "01-11 19:29 [INFO] [PhaseNet: datalist] CM.LL7C.00.HHE__20171015T060000Z__20171015T080000Z.mseed ok\n",
      "01-11 19:29 [INFO] [PhaseNet: datalist] CM.VMM05.00.HHE__20171015T060000Z__20171015T080000Z.mseed ok\n",
      "01-11 19:29 [INFO] [PhaseNet: datalist] CM.VMM07.00.HHE__20171015T060000Z__20171015T080000Z.mseed ok\n",
      "01-11 19:29 [INFO] [PhaseNet: datalist] CM.VMM12.00.HHE__20171015T060000Z__20171015T080000Z.mseed ok\n",
      "01-11 19:29 [INFO] [PhaseNet: datalist] CM.AGCC.00.HHE__20171015T060000Z__20171015T080000Z.mseed ok\n",
      "01-11 19:29 [INFO] [PhaseNet: datalist] CM.VMM10.00.HHE__20171015T060000Z__20171015T080000Z.mseed ok\n",
      "01-11 19:29 [INFO] [PhaseNet: datalist] CM.LL6C.00.HHE__20171015T060000Z__20171015T080000Z.mseed ok\n",
      "01-11 19:29 [INFO] [PhaseNet: datalist] CM.SNPBC.00.HHE__20171015T060000Z__20171015T080000Z.mseed ok\n",
      "01-11 19:29 [INFO] [PhaseNet: datalist] CM.VMM09.00.HHE__20171015T060000Z__20171015T080000Z.mseed ok\n",
      "01-11 19:29 [INFO] [PhaseNet: datalist] CM.VMM11.00.HHE__20171015T060000Z__20171015T080000Z.mseed ok\n",
      "01-11 19:29 [INFO] [PhaseNet: datalist] CM.EZNC.00.HHE__20171015T060000Z__20171015T080000Z.mseed ok\n",
      "01-11 19:29 [INFO] [PhaseNet: datalist] Total time of execution: 0.194 seconds\n",
      "01-11 19:29 [INFO] [PhaseNet] Running PhaseNet\n",
      "01-11 19:45 [INFO] [PhaseNet] Total time of execution: 923.107024 seconds\n"
     ]
    }
   ],
   "source": [
    "from SeisMonitor.scanloc.utils import PhaseNetobj\n",
    "from SeisMonitor.scanloc.monitor import Monitor\n",
    "pnet_model = os.path.join(seismopath,'PhaseNet/model/190703-214543')\n",
    "pnetobj = PhaseNetobj(model_path = pnet_model ,\n",
    "                mode='pred',\n",
    "                P_threshold=0.1,\n",
    "                S_threshold=0.1,\n",
    "                batch_size=1, \n",
    "                plot=False, \n",
    "                save_result=False) \n",
    "monitor = Monitor(providers = [client],\n",
    "                    restrictions=restrictions,\n",
    "                    info_dir=info_dir,\n",
    "                    picks_dir=picks_dir,\n",
    "                    events_dir=events_dir)\n",
    "monitor.make_json(from_xml=resp)\n",
    "monitor.download()\n",
    "monitor.mv_downloads2onefolder()\n",
    "monitor.make_datalist()\n",
    "monitor.phasenet_picker(pnetobj)"
   ]
  },
  {
   "cell_type": "markdown",
   "metadata": {},
   "source": [
    "### outs"
   ]
  },
  {
   "cell_type": "code",
   "execution_count": 6,
   "metadata": {},
   "outputs": [
    {
     "data": {
      "text/plain": [
       "['picks_df_ok.csv', 'picks.csv', 'picks_df.csv', 'config.log']"
      ]
     },
     "execution_count": 6,
     "metadata": {},
     "output_type": "execute_result"
    }
   ],
   "source": [
    "pnet_detections = os.path.join(out_folder,\"detections\",\"pnet\")\n",
    "os.listdir(pnet_detections)"
   ]
  },
  {
   "cell_type": "code",
   "execution_count": 9,
   "metadata": {},
   "outputs": [
    {
     "data": {
      "text/html": [
       "<div>\n",
       "<style scoped>\n",
       "    .dataframe tbody tr th:only-of-type {\n",
       "        vertical-align: middle;\n",
       "    }\n",
       "\n",
       "    .dataframe tbody tr th {\n",
       "        vertical-align: top;\n",
       "    }\n",
       "\n",
       "    .dataframe thead th {\n",
       "        text-align: right;\n",
       "    }\n",
       "</style>\n",
       "<table border=\"1\" class=\"dataframe\">\n",
       "  <thead>\n",
       "    <tr style=\"text-align: right;\">\n",
       "      <th></th>\n",
       "      <th>Unnamed: 0</th>\n",
       "      <th>resource_id</th>\n",
       "      <th>time</th>\n",
       "      <th>uncertainty</th>\n",
       "      <th>lower_uncertainty</th>\n",
       "      <th>upper_uncertainty</th>\n",
       "      <th>confidence_level</th>\n",
       "      <th>network_code</th>\n",
       "      <th>station_code</th>\n",
       "      <th>channel_code</th>\n",
       "      <th>...</th>\n",
       "      <th>author_uri</th>\n",
       "      <th>creation_time</th>\n",
       "      <th>version</th>\n",
       "      <th>comments_text</th>\n",
       "      <th>mseed_starttime</th>\n",
       "      <th>mseed_endtime</th>\n",
       "      <th>sampling_rate</th>\n",
       "      <th>segment</th>\n",
       "      <th>sample</th>\n",
       "      <th>obs</th>\n",
       "    </tr>\n",
       "  </thead>\n",
       "  <tbody>\n",
       "    <tr>\n",
       "      <th>0</th>\n",
       "      <td>0</td>\n",
       "      <td>20171015.060057.61-AIC-CM.VMM05.00.HHE</td>\n",
       "      <td>2017-10-15 06:00:57.610000+00:00</td>\n",
       "      <td>0.396209</td>\n",
       "      <td>NaN</td>\n",
       "      <td>NaN</td>\n",
       "      <td>39.620882</td>\n",
       "      <td>CM</td>\n",
       "      <td>VMM05</td>\n",
       "      <td>HHE</td>\n",
       "      <td>...</td>\n",
       "      <td>NaN</td>\n",
       "      <td>2022-01-12T01:23:13.982672Z</td>\n",
       "      <td>NaN</td>\n",
       "      <td>['20171015T060000Zto20171015T080000Z sr100.0 s...</td>\n",
       "      <td>2017-10-15 06:00:00+00:00</td>\n",
       "      <td>2017-10-15 08:00:00+00:00</td>\n",
       "      <td>100</td>\n",
       "      <td>3000</td>\n",
       "      <td>2761</td>\n",
       "      <td>single</td>\n",
       "    </tr>\n",
       "    <tr>\n",
       "      <th>1</th>\n",
       "      <td>1</td>\n",
       "      <td>20171015.060120.91-S-L2-CM.LL5C.00.HHE</td>\n",
       "      <td>2017-10-15 06:01:20.910000+00:00</td>\n",
       "      <td>0.395128</td>\n",
       "      <td>NaN</td>\n",
       "      <td>NaN</td>\n",
       "      <td>39.512850</td>\n",
       "      <td>CM</td>\n",
       "      <td>LL5C</td>\n",
       "      <td>HHE</td>\n",
       "      <td>...</td>\n",
       "      <td>NaN</td>\n",
       "      <td>2022-01-12T01:23:13.984786Z</td>\n",
       "      <td>NaN</td>\n",
       "      <td>['20171015T060000Zto20171015T080000Z sr100.0 s...</td>\n",
       "      <td>2017-10-15 06:00:00+00:00</td>\n",
       "      <td>2017-10-15 08:00:00+00:00</td>\n",
       "      <td>100</td>\n",
       "      <td>6000</td>\n",
       "      <td>2091</td>\n",
       "      <td>single</td>\n",
       "    </tr>\n",
       "    <tr>\n",
       "      <th>2</th>\n",
       "      <td>2</td>\n",
       "      <td>20171015.060129.20-AIC-CM.EZNC.00.HHE</td>\n",
       "      <td>2017-10-15 06:01:29.200000+00:00</td>\n",
       "      <td>0.308013</td>\n",
       "      <td>NaN</td>\n",
       "      <td>NaN</td>\n",
       "      <td>30.801252</td>\n",
       "      <td>CM</td>\n",
       "      <td>EZNC</td>\n",
       "      <td>HHE</td>\n",
       "      <td>...</td>\n",
       "      <td>NaN</td>\n",
       "      <td>2022-01-12T01:23:14.567461Z</td>\n",
       "      <td>NaN</td>\n",
       "      <td>['20171015T060000Zto20171015T080000Z sr100.0 s...</td>\n",
       "      <td>2017-10-15 06:00:00+00:00</td>\n",
       "      <td>2017-10-15 08:00:00+00:00</td>\n",
       "      <td>100</td>\n",
       "      <td>6000</td>\n",
       "      <td>2920</td>\n",
       "      <td>single</td>\n",
       "    </tr>\n",
       "    <tr>\n",
       "      <th>3</th>\n",
       "      <td>3</td>\n",
       "      <td>20171015.060130.85-S-L2-CM.LL5C.00.HHE</td>\n",
       "      <td>2017-10-15 06:01:30.850000+00:00</td>\n",
       "      <td>0.453498</td>\n",
       "      <td>NaN</td>\n",
       "      <td>NaN</td>\n",
       "      <td>45.349786</td>\n",
       "      <td>CM</td>\n",
       "      <td>LL5C</td>\n",
       "      <td>HHE</td>\n",
       "      <td>...</td>\n",
       "      <td>NaN</td>\n",
       "      <td>2022-01-12T01:23:13.986005Z</td>\n",
       "      <td>NaN</td>\n",
       "      <td>['20171015T060000Zto20171015T080000Z sr100.0 s...</td>\n",
       "      <td>2017-10-15 06:00:00+00:00</td>\n",
       "      <td>2017-10-15 08:00:00+00:00</td>\n",
       "      <td>100</td>\n",
       "      <td>9000</td>\n",
       "      <td>85</td>\n",
       "      <td>single</td>\n",
       "    </tr>\n",
       "    <tr>\n",
       "      <th>4</th>\n",
       "      <td>4</td>\n",
       "      <td>20171015.060159.21-AIC-CM.VMM09.00.HHE</td>\n",
       "      <td>2017-10-15 06:01:59.210000+00:00</td>\n",
       "      <td>0.422485</td>\n",
       "      <td>NaN</td>\n",
       "      <td>NaN</td>\n",
       "      <td>42.248460</td>\n",
       "      <td>CM</td>\n",
       "      <td>VMM09</td>\n",
       "      <td>HHE</td>\n",
       "      <td>...</td>\n",
       "      <td>NaN</td>\n",
       "      <td>2022-01-12T01:23:14.567099Z</td>\n",
       "      <td>NaN</td>\n",
       "      <td>['20171015T060000Zto20171015T080000Z sr100.0 s...</td>\n",
       "      <td>2017-10-15 06:00:00+00:00</td>\n",
       "      <td>2017-10-15 08:00:00+00:00</td>\n",
       "      <td>100</td>\n",
       "      <td>9000</td>\n",
       "      <td>2921</td>\n",
       "      <td>single</td>\n",
       "    </tr>\n",
       "    <tr>\n",
       "      <th>5</th>\n",
       "      <td>5</td>\n",
       "      <td>20171015.060228.23-AIC-CM.EZNC.00.HHE</td>\n",
       "      <td>2017-10-15 06:02:28.230000+00:00</td>\n",
       "      <td>0.434744</td>\n",
       "      <td>NaN</td>\n",
       "      <td>NaN</td>\n",
       "      <td>43.474448</td>\n",
       "      <td>CM</td>\n",
       "      <td>EZNC</td>\n",
       "      <td>HHE</td>\n",
       "      <td>...</td>\n",
       "      <td>NaN</td>\n",
       "      <td>2022-01-12T01:23:14.568706Z</td>\n",
       "      <td>NaN</td>\n",
       "      <td>['20171015T060000Zto20171015T080000Z sr100.0 s...</td>\n",
       "      <td>2017-10-15 06:00:00+00:00</td>\n",
       "      <td>2017-10-15 08:00:00+00:00</td>\n",
       "      <td>100</td>\n",
       "      <td>12000</td>\n",
       "      <td>2823</td>\n",
       "      <td>single</td>\n",
       "    </tr>\n",
       "    <tr>\n",
       "      <th>6</th>\n",
       "      <td>6</td>\n",
       "      <td>20171015.060504.62-S-L2-CM.LL5C.00.HHE</td>\n",
       "      <td>2017-10-15 06:05:04.620000+00:00</td>\n",
       "      <td>0.569916</td>\n",
       "      <td>NaN</td>\n",
       "      <td>NaN</td>\n",
       "      <td>56.991640</td>\n",
       "      <td>CM</td>\n",
       "      <td>LL5C</td>\n",
       "      <td>HHE</td>\n",
       "      <td>...</td>\n",
       "      <td>NaN</td>\n",
       "      <td>2022-01-12T01:23:13.993014Z</td>\n",
       "      <td>NaN</td>\n",
       "      <td>['20171015T060000Zto20171015T080000Z sr100.0 s...</td>\n",
       "      <td>2017-10-15 06:00:00+00:00</td>\n",
       "      <td>2017-10-15 08:00:00+00:00</td>\n",
       "      <td>100</td>\n",
       "      <td>30000</td>\n",
       "      <td>462</td>\n",
       "      <td>single</td>\n",
       "    </tr>\n",
       "    <tr>\n",
       "      <th>7</th>\n",
       "      <td>7</td>\n",
       "      <td>20171015.060513.92-S-L2-CM.LL5C.00.HHE</td>\n",
       "      <td>2017-10-15 06:05:13.920000+00:00</td>\n",
       "      <td>0.566873</td>\n",
       "      <td>NaN</td>\n",
       "      <td>NaN</td>\n",
       "      <td>56.687260</td>\n",
       "      <td>CM</td>\n",
       "      <td>LL5C</td>\n",
       "      <td>HHE</td>\n",
       "      <td>...</td>\n",
       "      <td>NaN</td>\n",
       "      <td>2022-01-12T01:23:13.993282Z</td>\n",
       "      <td>NaN</td>\n",
       "      <td>['20171015T060000Zto20171015T080000Z sr100.0 s...</td>\n",
       "      <td>2017-10-15 06:00:00+00:00</td>\n",
       "      <td>2017-10-15 08:00:00+00:00</td>\n",
       "      <td>100</td>\n",
       "      <td>30000</td>\n",
       "      <td>1392</td>\n",
       "      <td>single</td>\n",
       "    </tr>\n",
       "    <tr>\n",
       "      <th>8</th>\n",
       "      <td>8</td>\n",
       "      <td>20171015.060558.56-AIC-CM.VMM10.00.HHE</td>\n",
       "      <td>2017-10-15 06:05:58.560000+00:00</td>\n",
       "      <td>0.457307</td>\n",
       "      <td>NaN</td>\n",
       "      <td>NaN</td>\n",
       "      <td>45.730653</td>\n",
       "      <td>CM</td>\n",
       "      <td>VMM10</td>\n",
       "      <td>HHE</td>\n",
       "      <td>...</td>\n",
       "      <td>NaN</td>\n",
       "      <td>2022-01-12T01:23:13.994258Z</td>\n",
       "      <td>NaN</td>\n",
       "      <td>['20171015T060000Zto20171015T080000Z sr100.0 s...</td>\n",
       "      <td>2017-10-15 06:00:00+00:00</td>\n",
       "      <td>2017-10-15 08:00:00+00:00</td>\n",
       "      <td>100</td>\n",
       "      <td>33000</td>\n",
       "      <td>2856</td>\n",
       "      <td>single</td>\n",
       "    </tr>\n",
       "    <tr>\n",
       "      <th>9</th>\n",
       "      <td>9</td>\n",
       "      <td>20171015.060853.85-AIC-CM.VMM11.00.HHE</td>\n",
       "      <td>2017-10-15 06:08:53.850000+00:00</td>\n",
       "      <td>0.523188</td>\n",
       "      <td>NaN</td>\n",
       "      <td>NaN</td>\n",
       "      <td>52.318790</td>\n",
       "      <td>CM</td>\n",
       "      <td>VMM11</td>\n",
       "      <td>HHE</td>\n",
       "      <td>...</td>\n",
       "      <td>NaN</td>\n",
       "      <td>2022-01-12T01:23:14.575228Z</td>\n",
       "      <td>NaN</td>\n",
       "      <td>['20171015T060000Zto20171015T080000Z sr100.0 s...</td>\n",
       "      <td>2017-10-15 06:00:00+00:00</td>\n",
       "      <td>2017-10-15 08:00:00+00:00</td>\n",
       "      <td>100</td>\n",
       "      <td>51000</td>\n",
       "      <td>2385</td>\n",
       "      <td>single</td>\n",
       "    </tr>\n",
       "  </tbody>\n",
       "</table>\n",
       "<p>10 rows × 35 columns</p>\n",
       "</div>"
      ],
      "text/plain": [
       "   Unnamed: 0                             resource_id  \\\n",
       "0           0  20171015.060057.61-AIC-CM.VMM05.00.HHE   \n",
       "1           1  20171015.060120.91-S-L2-CM.LL5C.00.HHE   \n",
       "2           2   20171015.060129.20-AIC-CM.EZNC.00.HHE   \n",
       "3           3  20171015.060130.85-S-L2-CM.LL5C.00.HHE   \n",
       "4           4  20171015.060159.21-AIC-CM.VMM09.00.HHE   \n",
       "5           5   20171015.060228.23-AIC-CM.EZNC.00.HHE   \n",
       "6           6  20171015.060504.62-S-L2-CM.LL5C.00.HHE   \n",
       "7           7  20171015.060513.92-S-L2-CM.LL5C.00.HHE   \n",
       "8           8  20171015.060558.56-AIC-CM.VMM10.00.HHE   \n",
       "9           9  20171015.060853.85-AIC-CM.VMM11.00.HHE   \n",
       "\n",
       "                               time  uncertainty  lower_uncertainty  \\\n",
       "0  2017-10-15 06:00:57.610000+00:00     0.396209                NaN   \n",
       "1  2017-10-15 06:01:20.910000+00:00     0.395128                NaN   \n",
       "2  2017-10-15 06:01:29.200000+00:00     0.308013                NaN   \n",
       "3  2017-10-15 06:01:30.850000+00:00     0.453498                NaN   \n",
       "4  2017-10-15 06:01:59.210000+00:00     0.422485                NaN   \n",
       "5  2017-10-15 06:02:28.230000+00:00     0.434744                NaN   \n",
       "6  2017-10-15 06:05:04.620000+00:00     0.569916                NaN   \n",
       "7  2017-10-15 06:05:13.920000+00:00     0.566873                NaN   \n",
       "8  2017-10-15 06:05:58.560000+00:00     0.457307                NaN   \n",
       "9  2017-10-15 06:08:53.850000+00:00     0.523188                NaN   \n",
       "\n",
       "   upper_uncertainty  confidence_level network_code station_code channel_code  \\\n",
       "0                NaN         39.620882           CM        VMM05          HHE   \n",
       "1                NaN         39.512850           CM         LL5C          HHE   \n",
       "2                NaN         30.801252           CM         EZNC          HHE   \n",
       "3                NaN         45.349786           CM         LL5C          HHE   \n",
       "4                NaN         42.248460           CM        VMM09          HHE   \n",
       "5                NaN         43.474448           CM         EZNC          HHE   \n",
       "6                NaN         56.991640           CM         LL5C          HHE   \n",
       "7                NaN         56.687260           CM         LL5C          HHE   \n",
       "8                NaN         45.730653           CM        VMM10          HHE   \n",
       "9                NaN         52.318790           CM        VMM11          HHE   \n",
       "\n",
       "   ...  author_uri                creation_time  version  \\\n",
       "0  ...         NaN  2022-01-12T01:23:13.982672Z      NaN   \n",
       "1  ...         NaN  2022-01-12T01:23:13.984786Z      NaN   \n",
       "2  ...         NaN  2022-01-12T01:23:14.567461Z      NaN   \n",
       "3  ...         NaN  2022-01-12T01:23:13.986005Z      NaN   \n",
       "4  ...         NaN  2022-01-12T01:23:14.567099Z      NaN   \n",
       "5  ...         NaN  2022-01-12T01:23:14.568706Z      NaN   \n",
       "6  ...         NaN  2022-01-12T01:23:13.993014Z      NaN   \n",
       "7  ...         NaN  2022-01-12T01:23:13.993282Z      NaN   \n",
       "8  ...         NaN  2022-01-12T01:23:13.994258Z      NaN   \n",
       "9  ...         NaN  2022-01-12T01:23:14.575228Z      NaN   \n",
       "\n",
       "                                       comments_text  \\\n",
       "0  ['20171015T060000Zto20171015T080000Z sr100.0 s...   \n",
       "1  ['20171015T060000Zto20171015T080000Z sr100.0 s...   \n",
       "2  ['20171015T060000Zto20171015T080000Z sr100.0 s...   \n",
       "3  ['20171015T060000Zto20171015T080000Z sr100.0 s...   \n",
       "4  ['20171015T060000Zto20171015T080000Z sr100.0 s...   \n",
       "5  ['20171015T060000Zto20171015T080000Z sr100.0 s...   \n",
       "6  ['20171015T060000Zto20171015T080000Z sr100.0 s...   \n",
       "7  ['20171015T060000Zto20171015T080000Z sr100.0 s...   \n",
       "8  ['20171015T060000Zto20171015T080000Z sr100.0 s...   \n",
       "9  ['20171015T060000Zto20171015T080000Z sr100.0 s...   \n",
       "\n",
       "             mseed_starttime              mseed_endtime  sampling_rate  \\\n",
       "0  2017-10-15 06:00:00+00:00  2017-10-15 08:00:00+00:00            100   \n",
       "1  2017-10-15 06:00:00+00:00  2017-10-15 08:00:00+00:00            100   \n",
       "2  2017-10-15 06:00:00+00:00  2017-10-15 08:00:00+00:00            100   \n",
       "3  2017-10-15 06:00:00+00:00  2017-10-15 08:00:00+00:00            100   \n",
       "4  2017-10-15 06:00:00+00:00  2017-10-15 08:00:00+00:00            100   \n",
       "5  2017-10-15 06:00:00+00:00  2017-10-15 08:00:00+00:00            100   \n",
       "6  2017-10-15 06:00:00+00:00  2017-10-15 08:00:00+00:00            100   \n",
       "7  2017-10-15 06:00:00+00:00  2017-10-15 08:00:00+00:00            100   \n",
       "8  2017-10-15 06:00:00+00:00  2017-10-15 08:00:00+00:00            100   \n",
       "9  2017-10-15 06:00:00+00:00  2017-10-15 08:00:00+00:00            100   \n",
       "\n",
       "   segment sample     obs  \n",
       "0     3000   2761  single  \n",
       "1     6000   2091  single  \n",
       "2     6000   2920  single  \n",
       "3     9000     85  single  \n",
       "4     9000   2921  single  \n",
       "5    12000   2823  single  \n",
       "6    30000    462  single  \n",
       "7    30000   1392  single  \n",
       "8    33000   2856  single  \n",
       "9    51000   2385  single  \n",
       "\n",
       "[10 rows x 35 columns]"
      ]
     },
     "execution_count": 9,
     "metadata": {},
     "output_type": "execute_result"
    }
   ],
   "source": [
    "picks = os.path.join(pnet_detections,'picks_df_ok.csv')\n",
    "import pandas as pd\n",
    "pd.read_csv(picks, nrows=10)"
   ]
  },
  {
   "cell_type": "code",
   "execution_count": null,
   "metadata": {},
   "outputs": [],
   "source": []
  }
 ],
 "metadata": {
  "interpreter": {
   "hash": "936935a60f2837bd613339557d4d0e6994a2ad88f68eea0d0b7d54d0792a8bb7"
  },
  "kernelspec": {
   "display_name": "Python 3.7.9 64-bit ('eqt': conda)",
   "name": "python3"
  },
  "language_info": {
   "codemirror_mode": {
    "name": "ipython",
    "version": 3
   },
   "file_extension": ".py",
   "mimetype": "text/x-python",
   "name": "python",
   "nbconvert_exporter": "python",
   "pygments_lexer": "ipython3",
   "version": "3.7.9"
  },
  "orig_nbformat": 4
 },
 "nbformat": 4,
 "nbformat_minor": 2
}
