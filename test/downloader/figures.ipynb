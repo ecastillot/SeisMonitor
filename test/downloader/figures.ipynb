{
 "cells": [
  {
   "cell_type": "code",
   "execution_count": 3,
   "metadata": {},
   "outputs": [],
   "source": [
    "from obspy.clients.fdsn import  Client\n",
    "from obspy import UTCDateTime"
   ]
  },
  {
   "cell_type": "code",
   "execution_count": 10,
   "metadata": {},
   "outputs": [],
   "source": [
    "client = Client('http://sismo.sgc.gov.co:8080')\n",
    "st = client.get_waveforms(network=\"CM\",\n",
    "                    station=\"BAR2\",\n",
    "                    location=\"00\",\n",
    "                    channel=\"*\",\n",
    "                    starttime=UTCDateTime(\"2020-05-22T00:00:00.000000Z\"),\n",
    "                    endtime=UTCDateTime(\"2020-05-22T00:01:00.000000Z\"))\n",
    "st.plot(outfile=\"/home/emmanuel/Ecopetrol/SeisMonitor/out/notebooks/stream.png\")"
   ]
  },
  {
   "cell_type": "code",
   "execution_count": 11,
   "metadata": {},
   "outputs": [
    {
     "data": {
      "text/plain": [
       "               network: CM\n",
       "               station: BAR2\n",
       "              location: 00\n",
       "               channel: HHE\n",
       "             starttime: 2020-05-21T23:59:59.998393Z\n",
       "               endtime: 2020-05-22T00:00:59.998393Z\n",
       "         sampling_rate: 100.0\n",
       "                 delta: 0.01\n",
       "                  npts: 6001\n",
       "                 calib: 1.0\n",
       "_fdsnws_dataselect_url: http://sismo.sgc.gov.co:8080/fdsnws/dataselect/1/query\n",
       "               _format: MSEED\n",
       "                 mseed: AttribDict({'dataquality': 'D', 'number_of_records': 20, 'encoding': 'STEIM2', 'byteorder': '>', 'record_length': 512, 'filesize': 30720})\n",
       "            processing: ['ObsPy 1.2.2: trim(endtime=UTCDateTime(2020, 5, 22, 0, 0, 59, 998393)::fill_value=None::nearest_sample=True::pad=False::starttime=UTCDateTime(2020, 5, 21, 23, 59, 59, 998393))']"
      ]
     },
     "execution_count": 11,
     "metadata": {},
     "output_type": "execute_result"
    }
   ],
   "source": [
    "tr = st[0]\n",
    "tr.stats"
   ]
  },
  {
   "cell_type": "code",
   "execution_count": null,
   "metadata": {},
   "outputs": [],
   "source": []
  }
 ],
 "metadata": {
  "interpreter": {
   "hash": "936935a60f2837bd613339557d4d0e6994a2ad88f68eea0d0b7d54d0792a8bb7"
  },
  "kernelspec": {
   "display_name": "Python 3.7.9 64-bit ('eqt': conda)",
   "name": "python3"
  },
  "language_info": {
   "codemirror_mode": {
    "name": "ipython",
    "version": 3
   },
   "file_extension": ".py",
   "mimetype": "text/x-python",
   "name": "python",
   "nbconvert_exporter": "python",
   "pygments_lexer": "ipython3",
   "version": "3.7.9"
  },
  "orig_nbformat": 4
 },
 "nbformat": 4,
 "nbformat_minor": 2
}
