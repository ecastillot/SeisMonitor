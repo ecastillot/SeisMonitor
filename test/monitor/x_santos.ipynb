{
 "cells": [
  {
   "cell_type": "code",
   "execution_count": 1,
   "metadata": {},
   "outputs": [],
   "source": [
    "import pandas as pd\n",
    "import os \n",
    "import datetime as dt"
   ]
  },
  {
   "cell_type": "code",
   "execution_count": 2,
   "metadata": {},
   "outputs": [
    {
     "name": "stdout",
     "output_type": "stream",
     "text": [
      "manual 13\n"
     ]
    }
   ],
   "source": [
    "manual = \"/home/emmanuel/Tesis/manual/picks/SGCmanual_picks_20191201000000_20210101000000.csv\"\n",
    "df = pd.read_csv(manual,header=1)\n",
    "df[\"time_event\"] = df[\"time_event\"].apply(pd.to_datetime)\n",
    "df = df[df[\"time_event\"]>=dt.datetime(2019,12,1,0)]\n",
    "df = df[df[\"time_event\"]<=dt.datetime(2019,12,1,3)]\n",
    "df[\"time\"] = df[\"time_event\"]\n",
    "df = df.drop_duplicates(subset=\"id\",ignore_index=True)\n",
    "df[\"x\"] = \"manual\"\n",
    "df_manual = df[[\"time\",\"x\"]]\n",
    "#print(df_manual)\n",
    "print(\"manual\",len(df_manual))"
   ]
  },
  {
   "cell_type": "code",
   "execution_count": 11,
   "metadata": {},
   "outputs": [
    {
     "data": {
      "text/html": [
       "<div>\n",
       "<style scoped>\n",
       "    .dataframe tbody tr th:only-of-type {\n",
       "        vertical-align: middle;\n",
       "    }\n",
       "\n",
       "    .dataframe tbody tr th {\n",
       "        vertical-align: top;\n",
       "    }\n",
       "\n",
       "    .dataframe thead th {\n",
       "        text-align: right;\n",
       "    }\n",
       "</style>\n",
       "<table border=\"1\" class=\"dataframe\">\n",
       "  <thead>\n",
       "    <tr style=\"text-align: right;\">\n",
       "      <th></th>\n",
       "      <th>time</th>\n",
       "      <th>x</th>\n",
       "    </tr>\n",
       "  </thead>\n",
       "  <tbody>\n",
       "    <tr>\n",
       "      <th>0</th>\n",
       "      <td>2019-12-01 00:03:43</td>\n",
       "      <td>manual</td>\n",
       "    </tr>\n",
       "    <tr>\n",
       "      <th>1</th>\n",
       "      <td>2019-12-01 00:08:53</td>\n",
       "      <td>manual</td>\n",
       "    </tr>\n",
       "    <tr>\n",
       "      <th>2</th>\n",
       "      <td>2019-12-01 00:14:50</td>\n",
       "      <td>manual</td>\n",
       "    </tr>\n",
       "    <tr>\n",
       "      <th>3</th>\n",
       "      <td>2019-12-01 00:39:57</td>\n",
       "      <td>manual</td>\n",
       "    </tr>\n",
       "    <tr>\n",
       "      <th>4</th>\n",
       "      <td>2019-12-01 01:05:02</td>\n",
       "      <td>manual</td>\n",
       "    </tr>\n",
       "    <tr>\n",
       "      <th>5</th>\n",
       "      <td>2019-12-01 01:18:32</td>\n",
       "      <td>manual</td>\n",
       "    </tr>\n",
       "    <tr>\n",
       "      <th>6</th>\n",
       "      <td>2019-12-01 01:39:44</td>\n",
       "      <td>manual</td>\n",
       "    </tr>\n",
       "    <tr>\n",
       "      <th>7</th>\n",
       "      <td>2019-12-01 01:52:25</td>\n",
       "      <td>manual</td>\n",
       "    </tr>\n",
       "    <tr>\n",
       "      <th>8</th>\n",
       "      <td>2019-12-01 02:13:20</td>\n",
       "      <td>manual</td>\n",
       "    </tr>\n",
       "    <tr>\n",
       "      <th>9</th>\n",
       "      <td>2019-12-01 02:14:48</td>\n",
       "      <td>manual</td>\n",
       "    </tr>\n",
       "    <tr>\n",
       "      <th>10</th>\n",
       "      <td>2019-12-01 02:37:54</td>\n",
       "      <td>manual</td>\n",
       "    </tr>\n",
       "    <tr>\n",
       "      <th>11</th>\n",
       "      <td>2019-12-01 02:47:02</td>\n",
       "      <td>manual</td>\n",
       "    </tr>\n",
       "    <tr>\n",
       "      <th>12</th>\n",
       "      <td>2019-12-01 02:57:19</td>\n",
       "      <td>manual</td>\n",
       "    </tr>\n",
       "  </tbody>\n",
       "</table>\n",
       "</div>"
      ],
      "text/plain": [
       "                  time       x\n",
       "0  2019-12-01 00:03:43  manual\n",
       "1  2019-12-01 00:08:53  manual\n",
       "2  2019-12-01 00:14:50  manual\n",
       "3  2019-12-01 00:39:57  manual\n",
       "4  2019-12-01 01:05:02  manual\n",
       "5  2019-12-01 01:18:32  manual\n",
       "6  2019-12-01 01:39:44  manual\n",
       "7  2019-12-01 01:52:25  manual\n",
       "8  2019-12-01 02:13:20  manual\n",
       "9  2019-12-01 02:14:48  manual\n",
       "10 2019-12-01 02:37:54  manual\n",
       "11 2019-12-01 02:47:02  manual\n",
       "12 2019-12-01 02:57:19  manual"
      ]
     },
     "execution_count": 11,
     "metadata": {},
     "output_type": "execute_result"
    }
   ],
   "source": [
    "df_manual"
   ]
  },
  {
   "cell_type": "code",
   "execution_count": 14,
   "metadata": {},
   "outputs": [
    {
     "name": "stdout",
     "output_type": "stream",
     "text": [
      "seccionado_cada_30min 1\n"
     ]
    }
   ],
   "source": [
    "dfs = []\n",
    "folder = \"/home/emmanuel/associations_result/santos_all_seccionado\"\n",
    "for dp, dn, filenames in os.walk(folder):\n",
    "    for f in filenames:\n",
    "        if f == \"catalog.csv\" :\n",
    "            search_path = os.path.join(dp, f)\n",
    "            df = pd.read_csv(search_path)\n",
    "            if not df.empty:\n",
    "                df[\"time\"] = df[\"time\"].apply(pd.to_datetime)\n",
    "                dfs.append(df)\n",
    "df = pd.concat(dfs,ignore_index=True)\n",
    "df = df.sort_values(by=\"time\",ignore_index=True)\n",
    "df[\"x\"] = \"30min\"\n",
    "df_30min = df[[\"time\",\"x\"]]\n",
    "#print(df_30min)\n",
    "print(\"seccionado_cada_30min\",len(df_30min))"
   ]
  },
  {
   "cell_type": "code",
   "execution_count": 15,
   "metadata": {},
   "outputs": [
    {
     "data": {
      "text/html": [
       "<div>\n",
       "<style scoped>\n",
       "    .dataframe tbody tr th:only-of-type {\n",
       "        vertical-align: middle;\n",
       "    }\n",
       "\n",
       "    .dataframe tbody tr th {\n",
       "        vertical-align: top;\n",
       "    }\n",
       "\n",
       "    .dataframe thead th {\n",
       "        text-align: right;\n",
       "    }\n",
       "</style>\n",
       "<table border=\"1\" class=\"dataframe\">\n",
       "  <thead>\n",
       "    <tr style=\"text-align: right;\">\n",
       "      <th></th>\n",
       "      <th>time</th>\n",
       "      <th>x</th>\n",
       "    </tr>\n",
       "  </thead>\n",
       "  <tbody>\n",
       "    <tr>\n",
       "      <th>0</th>\n",
       "      <td>2019-11-30 23:58:51.380</td>\n",
       "      <td>30min</td>\n",
       "    </tr>\n",
       "  </tbody>\n",
       "</table>\n",
       "</div>"
      ],
      "text/plain": [
       "                     time      x\n",
       "0 2019-11-30 23:58:51.380  30min"
      ]
     },
     "execution_count": 15,
     "metadata": {},
     "output_type": "execute_result"
    }
   ],
   "source": [
    "df_30min"
   ]
  },
  {
   "cell_type": "code",
   "execution_count": 16,
   "metadata": {},
   "outputs": [
    {
     "name": "stdout",
     "output_type": "stream",
     "text": [
      "todo_auto_gamma_mas_alto 3\n"
     ]
    }
   ],
   "source": [
    "manual = \"/home/emmanuel/associations_result/santos_all_gamma_mas_alto/20191201T000000__20191201T030000/associations/GaMMA2EQTransformer/associations/catalog.csv\"\n",
    "df = pd.read_csv(manual)\n",
    "df[\"time\"] = df[\"time\"].apply(pd.to_datetime)\n",
    "df = df[df[\"time\"]>=dt.datetime(2019,12,1,0)]\n",
    "df = df[df[\"time\"]<=dt.datetime(2019,12,1,3)]\n",
    "df = df.sort_values(by=\"time\",ignore_index=True)\n",
    "df[\"x\"] = \"todo\"\n",
    "df_todo_mas_alto = df[[\"time\",\"x\"]]\n",
    "#print(df_todo)\n",
    "print(\"todo_auto_gamma_mas_alto\",len(df_todo_mas_alto))"
   ]
  },
  {
   "cell_type": "code",
   "execution_count": 35,
   "metadata": {},
   "outputs": [
    {
     "name": "stdout",
     "output_type": "stream",
     "text": [
      "                     time     x\n",
      "0 2019-12-01 00:13:34.335  todo\n",
      "1 2019-12-01 00:51:35.588  todo\n",
      "2 2019-12-01 01:04:44.328  todo\n",
      "3 2019-12-01 01:51:19.663  todo\n",
      "4 2019-12-01 02:12:59.966  todo\n",
      "5 2019-12-01 02:37:15.910  todo\n",
      "6 2019-12-01 02:45:25.925  todo\n",
      "7 2019-12-01 02:46:49.838  todo\n",
      "todo_auto_gamma_hiper_alto 8\n"
     ]
    }
   ],
   "source": [
    "manual = \"/home/emmanuel/associations_result/santos_all_gamma_hiper_alto/20191201T000000__20191201T030000/associations/GaMMA2EQTransformer/associations/catalog.csv\"\n",
    "df = pd.read_csv(manual)\n",
    "df[\"time\"] = df[\"time\"].apply(pd.to_datetime)\n",
    "df = df[df[\"time\"]>=dt.datetime(2019,12,1,0)]\n",
    "df = df[df[\"time\"]<=dt.datetime(2019,12,1,3)]\n",
    "df = df.sort_values(by=\"time\",ignore_index=True)\n",
    "df[\"x\"] = \"todo\"\n",
    "df_todo_hiper_alto = df[[\"time\",\"x\"]]\n",
    "print(df_todo_hiper_alto )\n",
    "print(\"todo_auto_gamma_hiper_alto\",len(df_todo_hiper_alto))"
   ]
  },
  {
   "cell_type": "code",
   "execution_count": 17,
   "metadata": {},
   "outputs": [
    {
     "data": {
      "text/html": [
       "<div>\n",
       "<style scoped>\n",
       "    .dataframe tbody tr th:only-of-type {\n",
       "        vertical-align: middle;\n",
       "    }\n",
       "\n",
       "    .dataframe tbody tr th {\n",
       "        vertical-align: top;\n",
       "    }\n",
       "\n",
       "    .dataframe thead th {\n",
       "        text-align: right;\n",
       "    }\n",
       "</style>\n",
       "<table border=\"1\" class=\"dataframe\">\n",
       "  <thead>\n",
       "    <tr style=\"text-align: right;\">\n",
       "      <th></th>\n",
       "      <th>time</th>\n",
       "      <th>x</th>\n",
       "    </tr>\n",
       "  </thead>\n",
       "  <tbody>\n",
       "    <tr>\n",
       "      <th>0</th>\n",
       "      <td>2019-12-01 02:12:57.465</td>\n",
       "      <td>todo</td>\n",
       "    </tr>\n",
       "    <tr>\n",
       "      <th>1</th>\n",
       "      <td>2019-12-01 02:37:14.589</td>\n",
       "      <td>todo</td>\n",
       "    </tr>\n",
       "    <tr>\n",
       "      <th>2</th>\n",
       "      <td>2019-12-01 02:46:49.828</td>\n",
       "      <td>todo</td>\n",
       "    </tr>\n",
       "  </tbody>\n",
       "</table>\n",
       "</div>"
      ],
      "text/plain": [
       "                     time     x\n",
       "0 2019-12-01 02:12:57.465  todo\n",
       "1 2019-12-01 02:37:14.589  todo\n",
       "2 2019-12-01 02:46:49.828  todo"
      ]
     },
     "execution_count": 17,
     "metadata": {},
     "output_type": "execute_result"
    }
   ],
   "source": [
    "df_todo_mas_alto"
   ]
  },
  {
   "cell_type": "code",
   "execution_count": 21,
   "metadata": {},
   "outputs": [
    {
     "name": "stdout",
     "output_type": "stream",
     "text": [
      "todo_auto 1\n"
     ]
    }
   ],
   "source": [
    "manual = \"/home/emmanuel/associations_result/santos_all/20191201T000000__20191201T030000/associations/GaMMA2EQTransformer/associations/catalog.csv\"\n",
    "df = pd.read_csv(manual)\n",
    "df[\"time\"] = df[\"time\"].apply(pd.to_datetime)\n",
    "df = df[df[\"time\"]>=dt.datetime(2019,12,1,0)]\n",
    "df = df[df[\"time\"]<=dt.datetime(2019,12,1,3)]\n",
    "df = df.sort_values(by=\"time\",ignore_index=True)\n",
    "df[\"x\"] = \"todo\"\n",
    "df_todo = df[[\"time\",\"x\"]]\n",
    "#print(df_todo)\n",
    "print(\"todo_auto\",len(df_todo))"
   ]
  },
  {
   "cell_type": "code",
   "execution_count": 27,
   "metadata": {},
   "outputs": [
    {
     "name": "stdout",
     "output_type": "stream",
     "text": [
      "                  time_event     x\n",
      "0 2019-12-01 00:14:50.380000  todo\n",
      "1 2019-12-01 00:39:57.950000  todo\n",
      "2 2019-12-01 00:59:27.199999  todo\n",
      "3 2019-12-01 01:18:33.030000  todo\n",
      "4 2019-12-01 01:39:44.960000  todo\n",
      "5 2019-12-01 01:57:30.600000  todo\n",
      "6 2019-12-01 02:13:21.581094  todo\n",
      "7 2019-12-01 02:37:54.799605  todo\n",
      "santos_scanloc 8\n"
     ]
    }
   ],
   "source": [
    "manual = \"/home/emmanuel/Tesis/eqt_events.csv\"\n",
    "df = pd.read_csv(manual)\n",
    "df[\"time_event\"] = df[\"time_event\"].apply(pd.to_datetime)\n",
    "df = df[df[\"time_event\"]>=dt.datetime(2019,12,1,0)]\n",
    "df = df[df[\"time_event\"]<=dt.datetime(2019,12,1,3)]\n",
    "df = df.sort_values(by=\"time_event\",ignore_index=True)\n",
    "df = df.drop_duplicates(subset=\"id\",ignore_index=True)\n",
    "df[\"x\"] = \"todo\"\n",
    "df_scanloc = df[[\"time_event\",\"x\"]]\n",
    "print(df_scanloc)\n",
    "print(\"santos_scanloc\",len(df_scanloc ))"
   ]
  },
  {
   "cell_type": "code",
   "execution_count": 12,
   "metadata": {},
   "outputs": [
    {
     "data": {
      "text/html": [
       "<div>\n",
       "<style scoped>\n",
       "    .dataframe tbody tr th:only-of-type {\n",
       "        vertical-align: middle;\n",
       "    }\n",
       "\n",
       "    .dataframe tbody tr th {\n",
       "        vertical-align: top;\n",
       "    }\n",
       "\n",
       "    .dataframe thead th {\n",
       "        text-align: right;\n",
       "    }\n",
       "</style>\n",
       "<table border=\"1\" class=\"dataframe\">\n",
       "  <thead>\n",
       "    <tr style=\"text-align: right;\">\n",
       "      <th></th>\n",
       "      <th>time</th>\n",
       "      <th>x</th>\n",
       "    </tr>\n",
       "  </thead>\n",
       "  <tbody>\n",
       "    <tr>\n",
       "      <th>0</th>\n",
       "      <td>2019-12-01 02:37:41.359</td>\n",
       "      <td>todo</td>\n",
       "    </tr>\n",
       "  </tbody>\n",
       "</table>\n",
       "</div>"
      ],
      "text/plain": [
       "                     time     x\n",
       "0 2019-12-01 02:37:41.359  todo"
      ]
     },
     "execution_count": 12,
     "metadata": {},
     "output_type": "execute_result"
    }
   ],
   "source": [
    "df_todo"
   ]
  },
  {
   "cell_type": "code",
   "execution_count": 8,
   "metadata": {},
   "outputs": [
    {
     "name": "stdout",
     "output_type": "stream",
     "text": [
      "santos_cuadrante 2\n"
     ]
    }
   ],
   "source": [
    "manual = \"/home/emmanuel/associations_result/santos_cuadrante/20191201T000000__20191201T030000/associations/GaMMA2EQTransformer/associations/catalog.csv\"\n",
    "df = pd.read_csv(manual)\n",
    "df[\"time\"] = df[\"time\"].apply(pd.to_datetime)\n",
    "df = df[df[\"time\"]>=dt.datetime(2019,12,1,0)]\n",
    "df = df[df[\"time\"]<=dt.datetime(2019,12,1,3)]\n",
    "df = df.sort_values(by=\"time\",ignore_index=True)\n",
    "df[\"x\"] = \"5\"\n",
    "df5 = df[[\"time\",\"x\"]]\n",
    "#print(df5)\n",
    "print(\"santos_cuadrante\",len(df5))"
   ]
  },
  {
   "cell_type": "code",
   "execution_count": 13,
   "metadata": {},
   "outputs": [
    {
     "data": {
      "text/html": [
       "<div>\n",
       "<style scoped>\n",
       "    .dataframe tbody tr th:only-of-type {\n",
       "        vertical-align: middle;\n",
       "    }\n",
       "\n",
       "    .dataframe tbody tr th {\n",
       "        vertical-align: top;\n",
       "    }\n",
       "\n",
       "    .dataframe thead th {\n",
       "        text-align: right;\n",
       "    }\n",
       "</style>\n",
       "<table border=\"1\" class=\"dataframe\">\n",
       "  <thead>\n",
       "    <tr style=\"text-align: right;\">\n",
       "      <th></th>\n",
       "      <th>time</th>\n",
       "      <th>x</th>\n",
       "    </tr>\n",
       "  </thead>\n",
       "  <tbody>\n",
       "    <tr>\n",
       "      <th>0</th>\n",
       "      <td>2019-12-01 02:37:39.339</td>\n",
       "      <td>5</td>\n",
       "    </tr>\n",
       "    <tr>\n",
       "      <th>1</th>\n",
       "      <td>2019-12-01 02:46:48.233</td>\n",
       "      <td>5</td>\n",
       "    </tr>\n",
       "  </tbody>\n",
       "</table>\n",
       "</div>"
      ],
      "text/plain": [
       "                     time  x\n",
       "0 2019-12-01 02:37:39.339  5\n",
       "1 2019-12-01 02:46:48.233  5"
      ]
     },
     "execution_count": 13,
     "metadata": {},
     "output_type": "execute_result"
    }
   ],
   "source": [
    "df5"
   ]
  },
  {
   "cell_type": "code",
   "execution_count": 96,
   "metadata": {},
   "outputs": [
    {
     "name": "stdout",
     "output_type": "stream",
     "text": [
      "En ambos(manual-seccionado) 94\n"
     ]
    }
   ],
   "source": [
    "df_merge = pd.merge_asof(df_manual,df_30min,on=\"time\", \n",
    "                # by='type',\n",
    "                tolerance=pd.Timedelta('5s'),\n",
    "                suffixes=(f'_manual',f'_30min'),\n",
    "                direction = 'nearest')\n",
    "df_merge = df_merge.dropna(subset=[\"x_30min\"])\n",
    "print(\"En ambos(manual-seccionado)\",len(df_merge))"
   ]
  },
  {
   "cell_type": "code",
   "execution_count": 9,
   "metadata": {},
   "outputs": [
    {
     "name": "stdout",
     "output_type": "stream",
     "text": [
      "En ambos(manual-todo) 0\n"
     ]
    }
   ],
   "source": [
    "df_merge = pd.merge_asof(df_manual,df_todo,on=\"time\", \n",
    "                # by='type',\n",
    "                tolerance=pd.Timedelta('5s'),\n",
    "                suffixes=(f'_manual',f'_todo'),\n",
    "                direction = 'nearest'\n",
    "                )\n",
    "df_merge = df_merge.dropna(subset=[\"x_todo\"])\n",
    "print(\"En ambos(manual-todo)\",len(df_merge))"
   ]
  },
  {
   "cell_type": "code",
   "execution_count": 10,
   "metadata": {},
   "outputs": [
    {
     "name": "stdout",
     "output_type": "stream",
     "text": [
      "En ambos(manual-cuadrante) 0\n"
     ]
    }
   ],
   "source": [
    "df_merge = pd.merge_asof(df_manual,df5,on=\"time\", \n",
    "                # by='type',\n",
    "                tolerance=pd.Timedelta('5s'),\n",
    "                suffixes=(f'_manual',f'_5'),\n",
    "                direction = 'nearest'\n",
    "                )\n",
    "df_merge = df_merge.dropna(subset=[\"x_5\"])\n",
    "print(\"En ambos(manual-cuadrante)\",len(df_merge))"
   ]
  },
  {
   "cell_type": "code",
   "execution_count": null,
   "metadata": {},
   "outputs": [],
   "source": []
  }
 ],
 "metadata": {
  "kernelspec": {
   "display_name": "Python 3.7.9 ('eqt')",
   "language": "python",
   "name": "python3"
  },
  "language_info": {
   "codemirror_mode": {
    "name": "ipython",
    "version": 3
   },
   "file_extension": ".py",
   "mimetype": "text/x-python",
   "name": "python",
   "nbconvert_exporter": "python",
   "pygments_lexer": "ipython3",
   "version": "3.7.9"
  },
  "orig_nbformat": 4,
  "vscode": {
   "interpreter": {
    "hash": "936935a60f2837bd613339557d4d0e6994a2ad88f68eea0d0b7d54d0792a8bb7"
   }
  }
 },
 "nbformat": 4,
 "nbformat_minor": 2
}
