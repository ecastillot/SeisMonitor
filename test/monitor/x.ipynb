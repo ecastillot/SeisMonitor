{
 "cells": [
  {
   "cell_type": "code",
   "execution_count": 1,
   "metadata": {},
   "outputs": [],
   "source": [
    "import pandas as pd\n",
    "import os \n",
    "import datetime as dt"
   ]
  },
  {
   "cell_type": "code",
   "execution_count": 43,
   "metadata": {},
   "outputs": [
    {
     "name": "stdout",
     "output_type": "stream",
     "text": [
      "manual 152\n"
     ]
    }
   ],
   "source": [
    "manual = \"/home/emmanuel/Tesis/manual/picks/SGCmanual_picks_20191201000000_20210101000000.csv\"\n",
    "df = pd.read_csv(manual,header=1)\n",
    "df[\"time_event\"] = df[\"time_event\"].apply(pd.to_datetime)\n",
    "df = df[df[\"time_event\"]>=dt.datetime(2019,12,24,19)]\n",
    "df = df[df[\"time_event\"]<=dt.datetime(2019,12,25,0)]\n",
    "df[\"time\"] = df[\"time_event\"]\n",
    "df = df.drop_duplicates(subset=\"id\",ignore_index=True)\n",
    "df[\"x\"] = \"manual\"\n",
    "df_manual = df[[\"time\",\"x\"]]\n",
    "#print(df_manual)\n",
    "print(\"manual\",len(df_manual))"
   ]
  },
  {
   "cell_type": "code",
   "execution_count": 70,
   "metadata": {},
   "outputs": [
    {
     "name": "stdout",
     "output_type": "stream",
     "text": [
      "seccionado_cada_30min 146\n"
     ]
    }
   ],
   "source": [
    "dfs = []\n",
    "folder = \"/home/emmanuel/associations_result/mesetas_seccionado\"\n",
    "for dp, dn, filenames in os.walk(folder):\n",
    "    for f in filenames:\n",
    "        if f == \"catalog.csv\" :\n",
    "            search_path = os.path.join(dp, f)\n",
    "            df = pd.read_csv(search_path)\n",
    "            if not df.empty:\n",
    "                df[\"time\"] = df[\"time\"].apply(pd.to_datetime)\n",
    "                dfs.append(df)\n",
    "df = pd.concat(dfs,ignore_index=True)\n",
    "df = df.sort_values(by=\"time\",ignore_index=True)\n",
    "df[\"x\"] = \"30min\"\n",
    "df_30min = df[[\"time\",\"x\"]]\n",
    "#print(df_30min)\n",
    "print(\"seccionado_cada_30min\",len(df_30min))"
   ]
  },
  {
   "cell_type": "code",
   "execution_count": 86,
   "metadata": {},
   "outputs": [
    {
     "name": "stdout",
     "output_type": "stream",
     "text": [
      "todo_auto 119\n"
     ]
    }
   ],
   "source": [
    "manual = \"/home/emmanuel/associations_result/mesetas_all/20191224T190000__20191225T000000/associations/GaMMA2EQTransformer/associations/catalog.csv\"\n",
    "df = pd.read_csv(manual)\n",
    "df[\"time\"] = df[\"time\"].apply(pd.to_datetime)\n",
    "df = df[df[\"time\"]>=dt.datetime(2019,12,24,19)]\n",
    "df = df[df[\"time\"]<=dt.datetime(2019,12,25,0)]\n",
    "df = df.sort_values(by=\"time\",ignore_index=True)\n",
    "df[\"x\"] = \"todo\"\n",
    "df_todo = df[[\"time\",\"x\"]]\n",
    "#print(df_todo)\n",
    "print(\"todo_auto\",len(df_todo))"
   ]
  },
  {
   "cell_type": "code",
   "execution_count": 87,
   "metadata": {},
   "outputs": [
    {
     "name": "stdout",
     "output_type": "stream",
     "text": [
      "5stations_auto 72\n"
     ]
    }
   ],
   "source": [
    "manual = \"/home/emmanuel/associations_result/mesetas/20191224T190000__20191225T000000/associations/GaMMA2EQTransformer/associations/catalog.csv\"\n",
    "df = pd.read_csv(manual)\n",
    "df[\"time\"] = df[\"time\"].apply(pd.to_datetime)\n",
    "df = df[df[\"time\"]>=dt.datetime(2019,12,24,19)]\n",
    "df = df[df[\"time\"]<=dt.datetime(2019,12,25,0)]\n",
    "df = df.sort_values(by=\"time\",ignore_index=True)\n",
    "df[\"x\"] = \"5\"\n",
    "df5 = df[[\"time\",\"x\"]]\n",
    "#print(df5)\n",
    "print(\"5stations_auto\",len(df5))"
   ]
  },
  {
   "cell_type": "code",
   "execution_count": 96,
   "metadata": {},
   "outputs": [
    {
     "name": "stdout",
     "output_type": "stream",
     "text": [
      "En ambos(manual-seccionado) 94\n"
     ]
    }
   ],
   "source": [
    "df_merge = pd.merge_asof(df_manual,df_30min,on=\"time\", \n",
    "                # by='type',\n",
    "                tolerance=pd.Timedelta('5s'),\n",
    "                suffixes=(f'_manual',f'_30min'),\n",
    "                direction = 'nearest')\n",
    "df_merge = df_merge.dropna(subset=[\"x_30min\"])\n",
    "print(\"En ambos(manual-seccionado)\",len(df_merge))"
   ]
  },
  {
   "cell_type": "code",
   "execution_count": 1,
   "metadata": {},
   "outputs": [
    {
     "ename": "NameError",
     "evalue": "name 'pd' is not defined",
     "output_type": "error",
     "traceback": [
      "\u001b[0;31m---------------------------------------------------------------------------\u001b[0m",
      "\u001b[0;31mNameError\u001b[0m                                 Traceback (most recent call last)",
      "\u001b[0;32m<ipython-input-1-04d219137ef1>\u001b[0m in \u001b[0;36m<module>\u001b[0;34m\u001b[0m\n\u001b[0;32m----> 1\u001b[0;31m df_merge = pd.merge_asof(df_manual,df_todo,on=\"time\", \n\u001b[0m\u001b[1;32m      2\u001b[0m                 \u001b[0;31m# by='type',\u001b[0m\u001b[0;34m\u001b[0m\u001b[0;34m\u001b[0m\u001b[0;34m\u001b[0m\u001b[0m\n\u001b[1;32m      3\u001b[0m                 \u001b[0mtolerance\u001b[0m\u001b[0;34m=\u001b[0m\u001b[0mpd\u001b[0m\u001b[0;34m.\u001b[0m\u001b[0mTimedelta\u001b[0m\u001b[0;34m(\u001b[0m\u001b[0;34m'5s'\u001b[0m\u001b[0;34m)\u001b[0m\u001b[0;34m,\u001b[0m\u001b[0;34m\u001b[0m\u001b[0;34m\u001b[0m\u001b[0m\n\u001b[1;32m      4\u001b[0m                 \u001b[0msuffixes\u001b[0m\u001b[0;34m=\u001b[0m\u001b[0;34m(\u001b[0m\u001b[0;34mf'_manual'\u001b[0m\u001b[0;34m,\u001b[0m\u001b[0;34mf'_todo'\u001b[0m\u001b[0;34m)\u001b[0m\u001b[0;34m,\u001b[0m\u001b[0;34m\u001b[0m\u001b[0;34m\u001b[0m\u001b[0m\n\u001b[1;32m      5\u001b[0m                 \u001b[0mdirection\u001b[0m \u001b[0;34m=\u001b[0m \u001b[0;34m'nearest'\u001b[0m\u001b[0;34m\u001b[0m\u001b[0;34m\u001b[0m\u001b[0m\n",
      "\u001b[0;31mNameError\u001b[0m: name 'pd' is not defined"
     ]
    }
   ],
   "source": [
    "df_merge = pd.merge_asof(df_manual,df_todo,on=\"time\", \n",
    "                # by='type',\n",
    "                tolerance=pd.Timedelta('5s'),\n",
    "                suffixes=(f'_manual',f'_todo'),\n",
    "                direction = 'nearest'\n",
    "                )\n",
    "df_merge = df_merge.dropna(subset=[\"x_todo\"])\n",
    "print(\"En ambos(manual-todo)\",len(df_merge))"
   ]
  },
  {
   "cell_type": "code",
   "execution_count": 94,
   "metadata": {},
   "outputs": [
    {
     "name": "stdout",
     "output_type": "stream",
     "text": [
      "En ambos(manual-5sta) 68\n"
     ]
    }
   ],
   "source": [
    "df_merge = pd.merge_asof(df_manual,df5,on=\"time\", \n",
    "                # by='type',\n",
    "                tolerance=pd.Timedelta('5s'),\n",
    "                suffixes=(f'_manual',f'_5'),\n",
    "                direction = 'nearest'\n",
    "                )\n",
    "df_merge = df_merge.dropna(subset=[\"x_5\"])\n",
    "print(\"En ambos(manual-5sta)\",len(df_merge))"
   ]
  },
  {
   "cell_type": "code",
   "execution_count": null,
   "metadata": {},
   "outputs": [],
   "source": []
  }
 ],
 "metadata": {
  "kernelspec": {
   "display_name": "Python 3.7.9 ('eqt')",
   "language": "python",
   "name": "python3"
  },
  "language_info": {
   "codemirror_mode": {
    "name": "ipython",
    "version": 3
   },
   "file_extension": ".py",
   "mimetype": "text/x-python",
   "name": "python",
   "nbconvert_exporter": "python",
   "pygments_lexer": "ipython3",
   "version": "3.7.9"
  },
  "orig_nbformat": 4,
  "vscode": {
   "interpreter": {
    "hash": "936935a60f2837bd613339557d4d0e6994a2ad88f68eea0d0b7d54d0792a8bb7"
   }
  }
 },
 "nbformat": 4,
 "nbformat_minor": 2
}
